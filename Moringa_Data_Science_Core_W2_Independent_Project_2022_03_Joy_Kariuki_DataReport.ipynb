{
  "nbformat": 4,
  "nbformat_minor": 0,
  "metadata": {
    "colab": {
      "name": "Moringa_Data_Science_Core_W2_Independent_Project_2022_03_Joy_Kariuki_DataReport",
      "provenance": [],
      "collapsed_sections": [
        "J4wfHZwQrs-t",
        "a9BPYqunry97",
        "7KMRBJ7zr9HD",
        "zSGyg6kWsBUl",
        "lQ2G4ZPDVOXE",
        "HPQviDmNtta8",
        "qjFHK1CKty7o"
      ],
      "toc_visible": true,
      "include_colab_link": true
    },
    "kernelspec": {
      "name": "python3",
      "display_name": "Python 3"
    }
  },
  "cells": [
    {
      "cell_type": "markdown",
      "metadata": {
        "id": "view-in-github",
        "colab_type": "text"
      },
      "source": [
        "<a href=\"https://colab.research.google.com/github/Joypamelakariuki/Joypamelakariuki/blob/main/Moringa_Data_Science_Core_W2_Independent_Project_2022_03_Joy_Kariuki_DataReport.ipynb\" target=\"_parent\"><img src=\"https://colab.research.google.com/assets/colab-badge.svg\" alt=\"Open In Colab\"/></a>"
      ]
    },
    {
      "cell_type": "markdown",
      "metadata": {
        "id": "xMxtPsqcTsSH"
      },
      "source": [
        "# Exploratory Data Analysis: Bivariate Analysis"
      ]
    },
    {
      "cell_type": "markdown",
      "metadata": {
        "id": "kLG2VTrnTvYL"
      },
      "source": [
        "## 1. Defining the Question"
      ]
    },
    {
      "cell_type": "markdown",
      "source": [
        "In order to understand the state of financial inclusion in a country, it is important to understand the rate and level of individuals who have access to commercial banking. This is one of the determinants as it determines the savings rate, bank growth and financial freedem. Predicting which individuals are likely to ave or use a back account in order to understand the state of financial inclusion in Kenya, Rwanda, Tanzania and Uganda is one of the ways that can be done. This is by analysing data provided to understand the insights."
      ],
      "metadata": {
        "id": "PZmY9ZxRwDCt"
      }
    },
    {
      "cell_type": "markdown",
      "metadata": {
        "id": "XecOwPNorl2W"
      },
      "source": [
        "### a) Specifying the Data Analytic Question"
      ]
    },
    {
      "cell_type": "markdown",
      "metadata": {
        "id": "9ozBnKfehSAw"
      },
      "source": [
        "\n",
        "Determining which individuals are likely to ave or use a back account in order to understand the state of financial inclusion in Kenya, Rwanda, Tanzania and Uganda"
      ]
    },
    {
      "cell_type": "markdown",
      "metadata": {
        "id": "J4wfHZwQrs-t"
      },
      "source": [
        "### b) Defining the Metric for Success"
      ]
    },
    {
      "cell_type": "markdown",
      "source": [
        "Finding the situations and factors where people are likely to have bank accounts. Understanding this by looking at the different countries, Kenya, Rwanda, Tanzania and Uganda."
      ],
      "metadata": {
        "id": "VUzL9XAqnHP7"
      }
    },
    {
      "cell_type": "markdown",
      "metadata": {
        "id": "a9BPYqunry97"
      },
      "source": [
        "### c) Understanding the context "
      ]
    },
    {
      "cell_type": "markdown",
      "metadata": {
        "id": "7KMRBJ7zr9HD"
      },
      "source": [
        "### d) Recording the Experimental Design"
      ]
    },
    {
      "cell_type": "markdown",
      "source": [
        "By cleaning and tidying up the data and having the right packages, it is easy to do the univariate, bivariate and Multivariate analysis  on data and draw conclusions. At the end of the study, the bank account ownership is determined for the different variables to determine which ones have the most number of bank accounts."
      ],
      "metadata": {
        "id": "CFUXqDzFocGS"
      }
    },
    {
      "cell_type": "markdown",
      "metadata": {
        "id": "zSGyg6kWsBUl"
      },
      "source": [
        "### e) Data Relevance"
      ]
    },
    {
      "cell_type": "markdown",
      "source": [
        "This data is from a relevance source, FinScope Africa, FinScope is a nationally representative survey that provides an overview of the different economic drivers."
      ],
      "metadata": {
        "id": "biiW8HHfnh7Y"
      }
    },
    {
      "cell_type": "markdown",
      "metadata": {
        "id": "iUNbvIvnT7ep"
      },
      "source": [
        "## 2. Reading the Data"
      ]
    },
    {
      "cell_type": "code",
      "source": [
        "##Importing the necessary libraries\n",
        "import numpy as np\n",
        "import pandas as pd\n",
        "import matplotlib.pyplot as plt\n",
        "import seaborn as sns\n",
        "from scipy.stats import ttest_ind"
      ],
      "metadata": {
        "id": "1gBrwAu-xxOF"
      },
      "execution_count": 1236,
      "outputs": []
    },
    {
      "cell_type": "code",
      "metadata": {
        "id": "XJn2KjW-WMlG",
        "colab": {
          "base_uri": "https://localhost:8080/",
          "height": 426
        },
        "outputId": "2b279909-4b1f-4e1e-8a30-9ac5f3377c38"
      },
      "source": [
        "##Loading the data variables to view the columns\n",
        "dataview = pd.read_csv(\"http://bit.ly/VariableDefinitions \")\n",
        "dataview"
      ],
      "execution_count": 1237,
      "outputs": [
        {
          "output_type": "execute_result",
          "data": {
            "text/plain": [
              "      Variable Definitions                                         Unnamed: 1\n",
              "0                  country                         Country interviewee is in.\n",
              "1                     year                           Year survey was done in.\n",
              "2                 uniqueid             Unique identifier for each interviewee\n",
              "3            location_type                     Type of location: Rural, Urban\n",
              "4         cellphone_access  If interviewee has access to a cellphone: Yes, No\n",
              "5           household_size               Number of people living in one house\n",
              "6        age_of_respondent                         The age of the interviewee\n",
              "7     gender_of_respondent                Gender of interviewee: Male, Female\n",
              "8   relationship_with_head  The interviewee’s relationship with the head o...\n",
              "9           marital_status  The martial status of the interviewee: Married...\n",
              "10         education_level  Highest level of education: No formal educatio...\n",
              "11                job_type  Type of job interviewee has: Farming and Fishi..."
            ],
            "text/html": [
              "\n",
              "  <div id=\"df-0e57024f-84d5-4753-9f85-8008b528a071\">\n",
              "    <div class=\"colab-df-container\">\n",
              "      <div>\n",
              "<style scoped>\n",
              "    .dataframe tbody tr th:only-of-type {\n",
              "        vertical-align: middle;\n",
              "    }\n",
              "\n",
              "    .dataframe tbody tr th {\n",
              "        vertical-align: top;\n",
              "    }\n",
              "\n",
              "    .dataframe thead th {\n",
              "        text-align: right;\n",
              "    }\n",
              "</style>\n",
              "<table border=\"1\" class=\"dataframe\">\n",
              "  <thead>\n",
              "    <tr style=\"text-align: right;\">\n",
              "      <th></th>\n",
              "      <th>Variable Definitions</th>\n",
              "      <th>Unnamed: 1</th>\n",
              "    </tr>\n",
              "  </thead>\n",
              "  <tbody>\n",
              "    <tr>\n",
              "      <th>0</th>\n",
              "      <td>country</td>\n",
              "      <td>Country interviewee is in.</td>\n",
              "    </tr>\n",
              "    <tr>\n",
              "      <th>1</th>\n",
              "      <td>year</td>\n",
              "      <td>Year survey was done in.</td>\n",
              "    </tr>\n",
              "    <tr>\n",
              "      <th>2</th>\n",
              "      <td>uniqueid</td>\n",
              "      <td>Unique identifier for each interviewee</td>\n",
              "    </tr>\n",
              "    <tr>\n",
              "      <th>3</th>\n",
              "      <td>location_type</td>\n",
              "      <td>Type of location: Rural, Urban</td>\n",
              "    </tr>\n",
              "    <tr>\n",
              "      <th>4</th>\n",
              "      <td>cellphone_access</td>\n",
              "      <td>If interviewee has access to a cellphone: Yes, No</td>\n",
              "    </tr>\n",
              "    <tr>\n",
              "      <th>5</th>\n",
              "      <td>household_size</td>\n",
              "      <td>Number of people living in one house</td>\n",
              "    </tr>\n",
              "    <tr>\n",
              "      <th>6</th>\n",
              "      <td>age_of_respondent</td>\n",
              "      <td>The age of the interviewee</td>\n",
              "    </tr>\n",
              "    <tr>\n",
              "      <th>7</th>\n",
              "      <td>gender_of_respondent</td>\n",
              "      <td>Gender of interviewee: Male, Female</td>\n",
              "    </tr>\n",
              "    <tr>\n",
              "      <th>8</th>\n",
              "      <td>relationship_with_head</td>\n",
              "      <td>The interviewee’s relationship with the head o...</td>\n",
              "    </tr>\n",
              "    <tr>\n",
              "      <th>9</th>\n",
              "      <td>marital_status</td>\n",
              "      <td>The martial status of the interviewee: Married...</td>\n",
              "    </tr>\n",
              "    <tr>\n",
              "      <th>10</th>\n",
              "      <td>education_level</td>\n",
              "      <td>Highest level of education: No formal educatio...</td>\n",
              "    </tr>\n",
              "    <tr>\n",
              "      <th>11</th>\n",
              "      <td>job_type</td>\n",
              "      <td>Type of job interviewee has: Farming and Fishi...</td>\n",
              "    </tr>\n",
              "  </tbody>\n",
              "</table>\n",
              "</div>\n",
              "      <button class=\"colab-df-convert\" onclick=\"convertToInteractive('df-0e57024f-84d5-4753-9f85-8008b528a071')\"\n",
              "              title=\"Convert this dataframe to an interactive table.\"\n",
              "              style=\"display:none;\">\n",
              "        \n",
              "  <svg xmlns=\"http://www.w3.org/2000/svg\" height=\"24px\"viewBox=\"0 0 24 24\"\n",
              "       width=\"24px\">\n",
              "    <path d=\"M0 0h24v24H0V0z\" fill=\"none\"/>\n",
              "    <path d=\"M18.56 5.44l.94 2.06.94-2.06 2.06-.94-2.06-.94-.94-2.06-.94 2.06-2.06.94zm-11 1L8.5 8.5l.94-2.06 2.06-.94-2.06-.94L8.5 2.5l-.94 2.06-2.06.94zm10 10l.94 2.06.94-2.06 2.06-.94-2.06-.94-.94-2.06-.94 2.06-2.06.94z\"/><path d=\"M17.41 7.96l-1.37-1.37c-.4-.4-.92-.59-1.43-.59-.52 0-1.04.2-1.43.59L10.3 9.45l-7.72 7.72c-.78.78-.78 2.05 0 2.83L4 21.41c.39.39.9.59 1.41.59.51 0 1.02-.2 1.41-.59l7.78-7.78 2.81-2.81c.8-.78.8-2.07 0-2.86zM5.41 20L4 18.59l7.72-7.72 1.47 1.35L5.41 20z\"/>\n",
              "  </svg>\n",
              "      </button>\n",
              "      \n",
              "  <style>\n",
              "    .colab-df-container {\n",
              "      display:flex;\n",
              "      flex-wrap:wrap;\n",
              "      gap: 12px;\n",
              "    }\n",
              "\n",
              "    .colab-df-convert {\n",
              "      background-color: #E8F0FE;\n",
              "      border: none;\n",
              "      border-radius: 50%;\n",
              "      cursor: pointer;\n",
              "      display: none;\n",
              "      fill: #1967D2;\n",
              "      height: 32px;\n",
              "      padding: 0 0 0 0;\n",
              "      width: 32px;\n",
              "    }\n",
              "\n",
              "    .colab-df-convert:hover {\n",
              "      background-color: #E2EBFA;\n",
              "      box-shadow: 0px 1px 2px rgba(60, 64, 67, 0.3), 0px 1px 3px 1px rgba(60, 64, 67, 0.15);\n",
              "      fill: #174EA6;\n",
              "    }\n",
              "\n",
              "    [theme=dark] .colab-df-convert {\n",
              "      background-color: #3B4455;\n",
              "      fill: #D2E3FC;\n",
              "    }\n",
              "\n",
              "    [theme=dark] .colab-df-convert:hover {\n",
              "      background-color: #434B5C;\n",
              "      box-shadow: 0px 1px 3px 1px rgba(0, 0, 0, 0.15);\n",
              "      filter: drop-shadow(0px 1px 2px rgba(0, 0, 0, 0.3));\n",
              "      fill: #FFFFFF;\n",
              "    }\n",
              "  </style>\n",
              "\n",
              "      <script>\n",
              "        const buttonEl =\n",
              "          document.querySelector('#df-0e57024f-84d5-4753-9f85-8008b528a071 button.colab-df-convert');\n",
              "        buttonEl.style.display =\n",
              "          google.colab.kernel.accessAllowed ? 'block' : 'none';\n",
              "\n",
              "        async function convertToInteractive(key) {\n",
              "          const element = document.querySelector('#df-0e57024f-84d5-4753-9f85-8008b528a071');\n",
              "          const dataTable =\n",
              "            await google.colab.kernel.invokeFunction('convertToInteractive',\n",
              "                                                     [key], {});\n",
              "          if (!dataTable) return;\n",
              "\n",
              "          const docLinkHtml = 'Like what you see? Visit the ' +\n",
              "            '<a target=\"_blank\" href=https://colab.research.google.com/notebooks/data_table.ipynb>data table notebook</a>'\n",
              "            + ' to learn more about interactive tables.';\n",
              "          element.innerHTML = '';\n",
              "          dataTable['output_type'] = 'display_data';\n",
              "          await google.colab.output.renderOutput(dataTable, element);\n",
              "          const docLink = document.createElement('div');\n",
              "          docLink.innerHTML = docLinkHtml;\n",
              "          element.appendChild(docLink);\n",
              "        }\n",
              "      </script>\n",
              "    </div>\n",
              "  </div>\n",
              "  "
            ]
          },
          "metadata": {},
          "execution_count": 1237
        }
      ]
    },
    {
      "cell_type": "code",
      "source": [
        "##Loading the east africa dataset\n",
        "#http://bit.ly/FinancialDataset \n",
        "EastAfrica_dataset= pd.read_csv(\"http://bit.ly/FinancialDataset\")\n",
        "EastAfrica_dataset"
      ],
      "metadata": {
        "colab": {
          "base_uri": "https://localhost:8080/",
          "height": 731
        },
        "id": "NFm5LCCHzM3q",
        "outputId": "465721cd-2091-48c1-ebf3-9b4d7aa17daa"
      },
      "execution_count": 1238,
      "outputs": [
        {
          "output_type": "execute_result",
          "data": {
            "text/plain": [
              "      country  year       uniqueid Has a Bank account Type of Location  \\\n",
              "0       Kenya  2018     uniqueid_1                Yes            Rural   \n",
              "1       Kenya  2018     uniqueid_2                 No            Rural   \n",
              "2       Kenya  2018     uniqueid_3                Yes            Urban   \n",
              "3       Kenya  2018     uniqueid_4                 No            Rural   \n",
              "4       Kenya  2018     uniqueid_5                 No            Urban   \n",
              "...       ...   ...            ...                ...              ...   \n",
              "23519  Uganda  2018  uniqueid_2113                 No            Rural   \n",
              "23520  Uganda  2018  uniqueid_2114                 No            Rural   \n",
              "23521  Uganda  2018  uniqueid_2115                 No            Rural   \n",
              "23522  Uganda  2018  uniqueid_2116                 No            Urban   \n",
              "23523  Uganda  2018  uniqueid_2117                 No            Rural   \n",
              "\n",
              "      Cell Phone Access  household_size  Respondent Age gender_of_respondent  \\\n",
              "0                   Yes             3.0            24.0               Female   \n",
              "1                    No             5.0            70.0               Female   \n",
              "2                   Yes             5.0            26.0                 Male   \n",
              "3                   Yes             5.0            34.0               Female   \n",
              "4                    No             8.0            26.0                 Male   \n",
              "...                 ...             ...             ...                  ...   \n",
              "23519               Yes             4.0            48.0               Female   \n",
              "23520               Yes             2.0            27.0               Female   \n",
              "23521               Yes             5.0            27.0               Female   \n",
              "23522               Yes             7.0            30.0               Female   \n",
              "23523               Yes            10.0            20.0                 Male   \n",
              "\n",
              "      The relathip with head           marital_status  \\\n",
              "0                     Spouse  Married/Living together   \n",
              "1          Head of Household                  Widowed   \n",
              "2             Other relative     Single/Never Married   \n",
              "3          Head of Household  Married/Living together   \n",
              "4                      Child     Single/Never Married   \n",
              "...                      ...                      ...   \n",
              "23519      Head of Household       Divorced/Seperated   \n",
              "23520      Head of Household     Single/Never Married   \n",
              "23521                 Parent                  Widowed   \n",
              "23522                 Parent       Divorced/Seperated   \n",
              "23523                  Child     Single/Never Married   \n",
              "\n",
              "                   Level of Educuation                Type of Job  \n",
              "0                  Secondary education              Self employed  \n",
              "1                  No formal education       Government Dependent  \n",
              "2      Vocational/Specialised training              Self employed  \n",
              "3                    Primary education  Formally employed Private  \n",
              "4                    Primary education        Informally employed  \n",
              "...                                ...                        ...  \n",
              "23519              No formal education               Other Income  \n",
              "23520              Secondary education               Other Income  \n",
              "23521                Primary education               Other Income  \n",
              "23522              Secondary education              Self employed  \n",
              "23523              Secondary education                  No Income  \n",
              "\n",
              "[23524 rows x 13 columns]"
            ],
            "text/html": [
              "\n",
              "  <div id=\"df-92ba77bf-3492-4532-ba13-e792c8e785f1\">\n",
              "    <div class=\"colab-df-container\">\n",
              "      <div>\n",
              "<style scoped>\n",
              "    .dataframe tbody tr th:only-of-type {\n",
              "        vertical-align: middle;\n",
              "    }\n",
              "\n",
              "    .dataframe tbody tr th {\n",
              "        vertical-align: top;\n",
              "    }\n",
              "\n",
              "    .dataframe thead th {\n",
              "        text-align: right;\n",
              "    }\n",
              "</style>\n",
              "<table border=\"1\" class=\"dataframe\">\n",
              "  <thead>\n",
              "    <tr style=\"text-align: right;\">\n",
              "      <th></th>\n",
              "      <th>country</th>\n",
              "      <th>year</th>\n",
              "      <th>uniqueid</th>\n",
              "      <th>Has a Bank account</th>\n",
              "      <th>Type of Location</th>\n",
              "      <th>Cell Phone Access</th>\n",
              "      <th>household_size</th>\n",
              "      <th>Respondent Age</th>\n",
              "      <th>gender_of_respondent</th>\n",
              "      <th>The relathip with head</th>\n",
              "      <th>marital_status</th>\n",
              "      <th>Level of Educuation</th>\n",
              "      <th>Type of Job</th>\n",
              "    </tr>\n",
              "  </thead>\n",
              "  <tbody>\n",
              "    <tr>\n",
              "      <th>0</th>\n",
              "      <td>Kenya</td>\n",
              "      <td>2018</td>\n",
              "      <td>uniqueid_1</td>\n",
              "      <td>Yes</td>\n",
              "      <td>Rural</td>\n",
              "      <td>Yes</td>\n",
              "      <td>3.0</td>\n",
              "      <td>24.0</td>\n",
              "      <td>Female</td>\n",
              "      <td>Spouse</td>\n",
              "      <td>Married/Living together</td>\n",
              "      <td>Secondary education</td>\n",
              "      <td>Self employed</td>\n",
              "    </tr>\n",
              "    <tr>\n",
              "      <th>1</th>\n",
              "      <td>Kenya</td>\n",
              "      <td>2018</td>\n",
              "      <td>uniqueid_2</td>\n",
              "      <td>No</td>\n",
              "      <td>Rural</td>\n",
              "      <td>No</td>\n",
              "      <td>5.0</td>\n",
              "      <td>70.0</td>\n",
              "      <td>Female</td>\n",
              "      <td>Head of Household</td>\n",
              "      <td>Widowed</td>\n",
              "      <td>No formal education</td>\n",
              "      <td>Government Dependent</td>\n",
              "    </tr>\n",
              "    <tr>\n",
              "      <th>2</th>\n",
              "      <td>Kenya</td>\n",
              "      <td>2018</td>\n",
              "      <td>uniqueid_3</td>\n",
              "      <td>Yes</td>\n",
              "      <td>Urban</td>\n",
              "      <td>Yes</td>\n",
              "      <td>5.0</td>\n",
              "      <td>26.0</td>\n",
              "      <td>Male</td>\n",
              "      <td>Other relative</td>\n",
              "      <td>Single/Never Married</td>\n",
              "      <td>Vocational/Specialised training</td>\n",
              "      <td>Self employed</td>\n",
              "    </tr>\n",
              "    <tr>\n",
              "      <th>3</th>\n",
              "      <td>Kenya</td>\n",
              "      <td>2018</td>\n",
              "      <td>uniqueid_4</td>\n",
              "      <td>No</td>\n",
              "      <td>Rural</td>\n",
              "      <td>Yes</td>\n",
              "      <td>5.0</td>\n",
              "      <td>34.0</td>\n",
              "      <td>Female</td>\n",
              "      <td>Head of Household</td>\n",
              "      <td>Married/Living together</td>\n",
              "      <td>Primary education</td>\n",
              "      <td>Formally employed Private</td>\n",
              "    </tr>\n",
              "    <tr>\n",
              "      <th>4</th>\n",
              "      <td>Kenya</td>\n",
              "      <td>2018</td>\n",
              "      <td>uniqueid_5</td>\n",
              "      <td>No</td>\n",
              "      <td>Urban</td>\n",
              "      <td>No</td>\n",
              "      <td>8.0</td>\n",
              "      <td>26.0</td>\n",
              "      <td>Male</td>\n",
              "      <td>Child</td>\n",
              "      <td>Single/Never Married</td>\n",
              "      <td>Primary education</td>\n",
              "      <td>Informally employed</td>\n",
              "    </tr>\n",
              "    <tr>\n",
              "      <th>...</th>\n",
              "      <td>...</td>\n",
              "      <td>...</td>\n",
              "      <td>...</td>\n",
              "      <td>...</td>\n",
              "      <td>...</td>\n",
              "      <td>...</td>\n",
              "      <td>...</td>\n",
              "      <td>...</td>\n",
              "      <td>...</td>\n",
              "      <td>...</td>\n",
              "      <td>...</td>\n",
              "      <td>...</td>\n",
              "      <td>...</td>\n",
              "    </tr>\n",
              "    <tr>\n",
              "      <th>23519</th>\n",
              "      <td>Uganda</td>\n",
              "      <td>2018</td>\n",
              "      <td>uniqueid_2113</td>\n",
              "      <td>No</td>\n",
              "      <td>Rural</td>\n",
              "      <td>Yes</td>\n",
              "      <td>4.0</td>\n",
              "      <td>48.0</td>\n",
              "      <td>Female</td>\n",
              "      <td>Head of Household</td>\n",
              "      <td>Divorced/Seperated</td>\n",
              "      <td>No formal education</td>\n",
              "      <td>Other Income</td>\n",
              "    </tr>\n",
              "    <tr>\n",
              "      <th>23520</th>\n",
              "      <td>Uganda</td>\n",
              "      <td>2018</td>\n",
              "      <td>uniqueid_2114</td>\n",
              "      <td>No</td>\n",
              "      <td>Rural</td>\n",
              "      <td>Yes</td>\n",
              "      <td>2.0</td>\n",
              "      <td>27.0</td>\n",
              "      <td>Female</td>\n",
              "      <td>Head of Household</td>\n",
              "      <td>Single/Never Married</td>\n",
              "      <td>Secondary education</td>\n",
              "      <td>Other Income</td>\n",
              "    </tr>\n",
              "    <tr>\n",
              "      <th>23521</th>\n",
              "      <td>Uganda</td>\n",
              "      <td>2018</td>\n",
              "      <td>uniqueid_2115</td>\n",
              "      <td>No</td>\n",
              "      <td>Rural</td>\n",
              "      <td>Yes</td>\n",
              "      <td>5.0</td>\n",
              "      <td>27.0</td>\n",
              "      <td>Female</td>\n",
              "      <td>Parent</td>\n",
              "      <td>Widowed</td>\n",
              "      <td>Primary education</td>\n",
              "      <td>Other Income</td>\n",
              "    </tr>\n",
              "    <tr>\n",
              "      <th>23522</th>\n",
              "      <td>Uganda</td>\n",
              "      <td>2018</td>\n",
              "      <td>uniqueid_2116</td>\n",
              "      <td>No</td>\n",
              "      <td>Urban</td>\n",
              "      <td>Yes</td>\n",
              "      <td>7.0</td>\n",
              "      <td>30.0</td>\n",
              "      <td>Female</td>\n",
              "      <td>Parent</td>\n",
              "      <td>Divorced/Seperated</td>\n",
              "      <td>Secondary education</td>\n",
              "      <td>Self employed</td>\n",
              "    </tr>\n",
              "    <tr>\n",
              "      <th>23523</th>\n",
              "      <td>Uganda</td>\n",
              "      <td>2018</td>\n",
              "      <td>uniqueid_2117</td>\n",
              "      <td>No</td>\n",
              "      <td>Rural</td>\n",
              "      <td>Yes</td>\n",
              "      <td>10.0</td>\n",
              "      <td>20.0</td>\n",
              "      <td>Male</td>\n",
              "      <td>Child</td>\n",
              "      <td>Single/Never Married</td>\n",
              "      <td>Secondary education</td>\n",
              "      <td>No Income</td>\n",
              "    </tr>\n",
              "  </tbody>\n",
              "</table>\n",
              "<p>23524 rows × 13 columns</p>\n",
              "</div>\n",
              "      <button class=\"colab-df-convert\" onclick=\"convertToInteractive('df-92ba77bf-3492-4532-ba13-e792c8e785f1')\"\n",
              "              title=\"Convert this dataframe to an interactive table.\"\n",
              "              style=\"display:none;\">\n",
              "        \n",
              "  <svg xmlns=\"http://www.w3.org/2000/svg\" height=\"24px\"viewBox=\"0 0 24 24\"\n",
              "       width=\"24px\">\n",
              "    <path d=\"M0 0h24v24H0V0z\" fill=\"none\"/>\n",
              "    <path d=\"M18.56 5.44l.94 2.06.94-2.06 2.06-.94-2.06-.94-.94-2.06-.94 2.06-2.06.94zm-11 1L8.5 8.5l.94-2.06 2.06-.94-2.06-.94L8.5 2.5l-.94 2.06-2.06.94zm10 10l.94 2.06.94-2.06 2.06-.94-2.06-.94-.94-2.06-.94 2.06-2.06.94z\"/><path d=\"M17.41 7.96l-1.37-1.37c-.4-.4-.92-.59-1.43-.59-.52 0-1.04.2-1.43.59L10.3 9.45l-7.72 7.72c-.78.78-.78 2.05 0 2.83L4 21.41c.39.39.9.59 1.41.59.51 0 1.02-.2 1.41-.59l7.78-7.78 2.81-2.81c.8-.78.8-2.07 0-2.86zM5.41 20L4 18.59l7.72-7.72 1.47 1.35L5.41 20z\"/>\n",
              "  </svg>\n",
              "      </button>\n",
              "      \n",
              "  <style>\n",
              "    .colab-df-container {\n",
              "      display:flex;\n",
              "      flex-wrap:wrap;\n",
              "      gap: 12px;\n",
              "    }\n",
              "\n",
              "    .colab-df-convert {\n",
              "      background-color: #E8F0FE;\n",
              "      border: none;\n",
              "      border-radius: 50%;\n",
              "      cursor: pointer;\n",
              "      display: none;\n",
              "      fill: #1967D2;\n",
              "      height: 32px;\n",
              "      padding: 0 0 0 0;\n",
              "      width: 32px;\n",
              "    }\n",
              "\n",
              "    .colab-df-convert:hover {\n",
              "      background-color: #E2EBFA;\n",
              "      box-shadow: 0px 1px 2px rgba(60, 64, 67, 0.3), 0px 1px 3px 1px rgba(60, 64, 67, 0.15);\n",
              "      fill: #174EA6;\n",
              "    }\n",
              "\n",
              "    [theme=dark] .colab-df-convert {\n",
              "      background-color: #3B4455;\n",
              "      fill: #D2E3FC;\n",
              "    }\n",
              "\n",
              "    [theme=dark] .colab-df-convert:hover {\n",
              "      background-color: #434B5C;\n",
              "      box-shadow: 0px 1px 3px 1px rgba(0, 0, 0, 0.15);\n",
              "      filter: drop-shadow(0px 1px 2px rgba(0, 0, 0, 0.3));\n",
              "      fill: #FFFFFF;\n",
              "    }\n",
              "  </style>\n",
              "\n",
              "      <script>\n",
              "        const buttonEl =\n",
              "          document.querySelector('#df-92ba77bf-3492-4532-ba13-e792c8e785f1 button.colab-df-convert');\n",
              "        buttonEl.style.display =\n",
              "          google.colab.kernel.accessAllowed ? 'block' : 'none';\n",
              "\n",
              "        async function convertToInteractive(key) {\n",
              "          const element = document.querySelector('#df-92ba77bf-3492-4532-ba13-e792c8e785f1');\n",
              "          const dataTable =\n",
              "            await google.colab.kernel.invokeFunction('convertToInteractive',\n",
              "                                                     [key], {});\n",
              "          if (!dataTable) return;\n",
              "\n",
              "          const docLinkHtml = 'Like what you see? Visit the ' +\n",
              "            '<a target=\"_blank\" href=https://colab.research.google.com/notebooks/data_table.ipynb>data table notebook</a>'\n",
              "            + ' to learn more about interactive tables.';\n",
              "          element.innerHTML = '';\n",
              "          dataTable['output_type'] = 'display_data';\n",
              "          await google.colab.output.renderOutput(dataTable, element);\n",
              "          const docLink = document.createElement('div');\n",
              "          docLink.innerHTML = docLinkHtml;\n",
              "          element.appendChild(docLink);\n",
              "        }\n",
              "      </script>\n",
              "    </div>\n",
              "  </div>\n",
              "  "
            ]
          },
          "metadata": {},
          "execution_count": 1238
        }
      ]
    },
    {
      "cell_type": "markdown",
      "metadata": {
        "id": "OI3P3YnHUEBk"
      },
      "source": [
        "## 3. Checking the Data"
      ]
    },
    {
      "cell_type": "code",
      "source": [
        "EastAfrica_dataset"
      ],
      "metadata": {
        "colab": {
          "base_uri": "https://localhost:8080/",
          "height": 731
        },
        "id": "HgM6kiv-reny",
        "outputId": "c7815f3f-f79d-4c1f-a7de-cec6dbf6911a"
      },
      "execution_count": 1239,
      "outputs": [
        {
          "output_type": "execute_result",
          "data": {
            "text/plain": [
              "      country  year       uniqueid Has a Bank account Type of Location  \\\n",
              "0       Kenya  2018     uniqueid_1                Yes            Rural   \n",
              "1       Kenya  2018     uniqueid_2                 No            Rural   \n",
              "2       Kenya  2018     uniqueid_3                Yes            Urban   \n",
              "3       Kenya  2018     uniqueid_4                 No            Rural   \n",
              "4       Kenya  2018     uniqueid_5                 No            Urban   \n",
              "...       ...   ...            ...                ...              ...   \n",
              "23519  Uganda  2018  uniqueid_2113                 No            Rural   \n",
              "23520  Uganda  2018  uniqueid_2114                 No            Rural   \n",
              "23521  Uganda  2018  uniqueid_2115                 No            Rural   \n",
              "23522  Uganda  2018  uniqueid_2116                 No            Urban   \n",
              "23523  Uganda  2018  uniqueid_2117                 No            Rural   \n",
              "\n",
              "      Cell Phone Access  household_size  Respondent Age gender_of_respondent  \\\n",
              "0                   Yes             3.0            24.0               Female   \n",
              "1                    No             5.0            70.0               Female   \n",
              "2                   Yes             5.0            26.0                 Male   \n",
              "3                   Yes             5.0            34.0               Female   \n",
              "4                    No             8.0            26.0                 Male   \n",
              "...                 ...             ...             ...                  ...   \n",
              "23519               Yes             4.0            48.0               Female   \n",
              "23520               Yes             2.0            27.0               Female   \n",
              "23521               Yes             5.0            27.0               Female   \n",
              "23522               Yes             7.0            30.0               Female   \n",
              "23523               Yes            10.0            20.0                 Male   \n",
              "\n",
              "      The relathip with head           marital_status  \\\n",
              "0                     Spouse  Married/Living together   \n",
              "1          Head of Household                  Widowed   \n",
              "2             Other relative     Single/Never Married   \n",
              "3          Head of Household  Married/Living together   \n",
              "4                      Child     Single/Never Married   \n",
              "...                      ...                      ...   \n",
              "23519      Head of Household       Divorced/Seperated   \n",
              "23520      Head of Household     Single/Never Married   \n",
              "23521                 Parent                  Widowed   \n",
              "23522                 Parent       Divorced/Seperated   \n",
              "23523                  Child     Single/Never Married   \n",
              "\n",
              "                   Level of Educuation                Type of Job  \n",
              "0                  Secondary education              Self employed  \n",
              "1                  No formal education       Government Dependent  \n",
              "2      Vocational/Specialised training              Self employed  \n",
              "3                    Primary education  Formally employed Private  \n",
              "4                    Primary education        Informally employed  \n",
              "...                                ...                        ...  \n",
              "23519              No formal education               Other Income  \n",
              "23520              Secondary education               Other Income  \n",
              "23521                Primary education               Other Income  \n",
              "23522              Secondary education              Self employed  \n",
              "23523              Secondary education                  No Income  \n",
              "\n",
              "[23524 rows x 13 columns]"
            ],
            "text/html": [
              "\n",
              "  <div id=\"df-e9fd1e77-0230-4996-9464-db7b3c257c36\">\n",
              "    <div class=\"colab-df-container\">\n",
              "      <div>\n",
              "<style scoped>\n",
              "    .dataframe tbody tr th:only-of-type {\n",
              "        vertical-align: middle;\n",
              "    }\n",
              "\n",
              "    .dataframe tbody tr th {\n",
              "        vertical-align: top;\n",
              "    }\n",
              "\n",
              "    .dataframe thead th {\n",
              "        text-align: right;\n",
              "    }\n",
              "</style>\n",
              "<table border=\"1\" class=\"dataframe\">\n",
              "  <thead>\n",
              "    <tr style=\"text-align: right;\">\n",
              "      <th></th>\n",
              "      <th>country</th>\n",
              "      <th>year</th>\n",
              "      <th>uniqueid</th>\n",
              "      <th>Has a Bank account</th>\n",
              "      <th>Type of Location</th>\n",
              "      <th>Cell Phone Access</th>\n",
              "      <th>household_size</th>\n",
              "      <th>Respondent Age</th>\n",
              "      <th>gender_of_respondent</th>\n",
              "      <th>The relathip with head</th>\n",
              "      <th>marital_status</th>\n",
              "      <th>Level of Educuation</th>\n",
              "      <th>Type of Job</th>\n",
              "    </tr>\n",
              "  </thead>\n",
              "  <tbody>\n",
              "    <tr>\n",
              "      <th>0</th>\n",
              "      <td>Kenya</td>\n",
              "      <td>2018</td>\n",
              "      <td>uniqueid_1</td>\n",
              "      <td>Yes</td>\n",
              "      <td>Rural</td>\n",
              "      <td>Yes</td>\n",
              "      <td>3.0</td>\n",
              "      <td>24.0</td>\n",
              "      <td>Female</td>\n",
              "      <td>Spouse</td>\n",
              "      <td>Married/Living together</td>\n",
              "      <td>Secondary education</td>\n",
              "      <td>Self employed</td>\n",
              "    </tr>\n",
              "    <tr>\n",
              "      <th>1</th>\n",
              "      <td>Kenya</td>\n",
              "      <td>2018</td>\n",
              "      <td>uniqueid_2</td>\n",
              "      <td>No</td>\n",
              "      <td>Rural</td>\n",
              "      <td>No</td>\n",
              "      <td>5.0</td>\n",
              "      <td>70.0</td>\n",
              "      <td>Female</td>\n",
              "      <td>Head of Household</td>\n",
              "      <td>Widowed</td>\n",
              "      <td>No formal education</td>\n",
              "      <td>Government Dependent</td>\n",
              "    </tr>\n",
              "    <tr>\n",
              "      <th>2</th>\n",
              "      <td>Kenya</td>\n",
              "      <td>2018</td>\n",
              "      <td>uniqueid_3</td>\n",
              "      <td>Yes</td>\n",
              "      <td>Urban</td>\n",
              "      <td>Yes</td>\n",
              "      <td>5.0</td>\n",
              "      <td>26.0</td>\n",
              "      <td>Male</td>\n",
              "      <td>Other relative</td>\n",
              "      <td>Single/Never Married</td>\n",
              "      <td>Vocational/Specialised training</td>\n",
              "      <td>Self employed</td>\n",
              "    </tr>\n",
              "    <tr>\n",
              "      <th>3</th>\n",
              "      <td>Kenya</td>\n",
              "      <td>2018</td>\n",
              "      <td>uniqueid_4</td>\n",
              "      <td>No</td>\n",
              "      <td>Rural</td>\n",
              "      <td>Yes</td>\n",
              "      <td>5.0</td>\n",
              "      <td>34.0</td>\n",
              "      <td>Female</td>\n",
              "      <td>Head of Household</td>\n",
              "      <td>Married/Living together</td>\n",
              "      <td>Primary education</td>\n",
              "      <td>Formally employed Private</td>\n",
              "    </tr>\n",
              "    <tr>\n",
              "      <th>4</th>\n",
              "      <td>Kenya</td>\n",
              "      <td>2018</td>\n",
              "      <td>uniqueid_5</td>\n",
              "      <td>No</td>\n",
              "      <td>Urban</td>\n",
              "      <td>No</td>\n",
              "      <td>8.0</td>\n",
              "      <td>26.0</td>\n",
              "      <td>Male</td>\n",
              "      <td>Child</td>\n",
              "      <td>Single/Never Married</td>\n",
              "      <td>Primary education</td>\n",
              "      <td>Informally employed</td>\n",
              "    </tr>\n",
              "    <tr>\n",
              "      <th>...</th>\n",
              "      <td>...</td>\n",
              "      <td>...</td>\n",
              "      <td>...</td>\n",
              "      <td>...</td>\n",
              "      <td>...</td>\n",
              "      <td>...</td>\n",
              "      <td>...</td>\n",
              "      <td>...</td>\n",
              "      <td>...</td>\n",
              "      <td>...</td>\n",
              "      <td>...</td>\n",
              "      <td>...</td>\n",
              "      <td>...</td>\n",
              "    </tr>\n",
              "    <tr>\n",
              "      <th>23519</th>\n",
              "      <td>Uganda</td>\n",
              "      <td>2018</td>\n",
              "      <td>uniqueid_2113</td>\n",
              "      <td>No</td>\n",
              "      <td>Rural</td>\n",
              "      <td>Yes</td>\n",
              "      <td>4.0</td>\n",
              "      <td>48.0</td>\n",
              "      <td>Female</td>\n",
              "      <td>Head of Household</td>\n",
              "      <td>Divorced/Seperated</td>\n",
              "      <td>No formal education</td>\n",
              "      <td>Other Income</td>\n",
              "    </tr>\n",
              "    <tr>\n",
              "      <th>23520</th>\n",
              "      <td>Uganda</td>\n",
              "      <td>2018</td>\n",
              "      <td>uniqueid_2114</td>\n",
              "      <td>No</td>\n",
              "      <td>Rural</td>\n",
              "      <td>Yes</td>\n",
              "      <td>2.0</td>\n",
              "      <td>27.0</td>\n",
              "      <td>Female</td>\n",
              "      <td>Head of Household</td>\n",
              "      <td>Single/Never Married</td>\n",
              "      <td>Secondary education</td>\n",
              "      <td>Other Income</td>\n",
              "    </tr>\n",
              "    <tr>\n",
              "      <th>23521</th>\n",
              "      <td>Uganda</td>\n",
              "      <td>2018</td>\n",
              "      <td>uniqueid_2115</td>\n",
              "      <td>No</td>\n",
              "      <td>Rural</td>\n",
              "      <td>Yes</td>\n",
              "      <td>5.0</td>\n",
              "      <td>27.0</td>\n",
              "      <td>Female</td>\n",
              "      <td>Parent</td>\n",
              "      <td>Widowed</td>\n",
              "      <td>Primary education</td>\n",
              "      <td>Other Income</td>\n",
              "    </tr>\n",
              "    <tr>\n",
              "      <th>23522</th>\n",
              "      <td>Uganda</td>\n",
              "      <td>2018</td>\n",
              "      <td>uniqueid_2116</td>\n",
              "      <td>No</td>\n",
              "      <td>Urban</td>\n",
              "      <td>Yes</td>\n",
              "      <td>7.0</td>\n",
              "      <td>30.0</td>\n",
              "      <td>Female</td>\n",
              "      <td>Parent</td>\n",
              "      <td>Divorced/Seperated</td>\n",
              "      <td>Secondary education</td>\n",
              "      <td>Self employed</td>\n",
              "    </tr>\n",
              "    <tr>\n",
              "      <th>23523</th>\n",
              "      <td>Uganda</td>\n",
              "      <td>2018</td>\n",
              "      <td>uniqueid_2117</td>\n",
              "      <td>No</td>\n",
              "      <td>Rural</td>\n",
              "      <td>Yes</td>\n",
              "      <td>10.0</td>\n",
              "      <td>20.0</td>\n",
              "      <td>Male</td>\n",
              "      <td>Child</td>\n",
              "      <td>Single/Never Married</td>\n",
              "      <td>Secondary education</td>\n",
              "      <td>No Income</td>\n",
              "    </tr>\n",
              "  </tbody>\n",
              "</table>\n",
              "<p>23524 rows × 13 columns</p>\n",
              "</div>\n",
              "      <button class=\"colab-df-convert\" onclick=\"convertToInteractive('df-e9fd1e77-0230-4996-9464-db7b3c257c36')\"\n",
              "              title=\"Convert this dataframe to an interactive table.\"\n",
              "              style=\"display:none;\">\n",
              "        \n",
              "  <svg xmlns=\"http://www.w3.org/2000/svg\" height=\"24px\"viewBox=\"0 0 24 24\"\n",
              "       width=\"24px\">\n",
              "    <path d=\"M0 0h24v24H0V0z\" fill=\"none\"/>\n",
              "    <path d=\"M18.56 5.44l.94 2.06.94-2.06 2.06-.94-2.06-.94-.94-2.06-.94 2.06-2.06.94zm-11 1L8.5 8.5l.94-2.06 2.06-.94-2.06-.94L8.5 2.5l-.94 2.06-2.06.94zm10 10l.94 2.06.94-2.06 2.06-.94-2.06-.94-.94-2.06-.94 2.06-2.06.94z\"/><path d=\"M17.41 7.96l-1.37-1.37c-.4-.4-.92-.59-1.43-.59-.52 0-1.04.2-1.43.59L10.3 9.45l-7.72 7.72c-.78.78-.78 2.05 0 2.83L4 21.41c.39.39.9.59 1.41.59.51 0 1.02-.2 1.41-.59l7.78-7.78 2.81-2.81c.8-.78.8-2.07 0-2.86zM5.41 20L4 18.59l7.72-7.72 1.47 1.35L5.41 20z\"/>\n",
              "  </svg>\n",
              "      </button>\n",
              "      \n",
              "  <style>\n",
              "    .colab-df-container {\n",
              "      display:flex;\n",
              "      flex-wrap:wrap;\n",
              "      gap: 12px;\n",
              "    }\n",
              "\n",
              "    .colab-df-convert {\n",
              "      background-color: #E8F0FE;\n",
              "      border: none;\n",
              "      border-radius: 50%;\n",
              "      cursor: pointer;\n",
              "      display: none;\n",
              "      fill: #1967D2;\n",
              "      height: 32px;\n",
              "      padding: 0 0 0 0;\n",
              "      width: 32px;\n",
              "    }\n",
              "\n",
              "    .colab-df-convert:hover {\n",
              "      background-color: #E2EBFA;\n",
              "      box-shadow: 0px 1px 2px rgba(60, 64, 67, 0.3), 0px 1px 3px 1px rgba(60, 64, 67, 0.15);\n",
              "      fill: #174EA6;\n",
              "    }\n",
              "\n",
              "    [theme=dark] .colab-df-convert {\n",
              "      background-color: #3B4455;\n",
              "      fill: #D2E3FC;\n",
              "    }\n",
              "\n",
              "    [theme=dark] .colab-df-convert:hover {\n",
              "      background-color: #434B5C;\n",
              "      box-shadow: 0px 1px 3px 1px rgba(0, 0, 0, 0.15);\n",
              "      filter: drop-shadow(0px 1px 2px rgba(0, 0, 0, 0.3));\n",
              "      fill: #FFFFFF;\n",
              "    }\n",
              "  </style>\n",
              "\n",
              "      <script>\n",
              "        const buttonEl =\n",
              "          document.querySelector('#df-e9fd1e77-0230-4996-9464-db7b3c257c36 button.colab-df-convert');\n",
              "        buttonEl.style.display =\n",
              "          google.colab.kernel.accessAllowed ? 'block' : 'none';\n",
              "\n",
              "        async function convertToInteractive(key) {\n",
              "          const element = document.querySelector('#df-e9fd1e77-0230-4996-9464-db7b3c257c36');\n",
              "          const dataTable =\n",
              "            await google.colab.kernel.invokeFunction('convertToInteractive',\n",
              "                                                     [key], {});\n",
              "          if (!dataTable) return;\n",
              "\n",
              "          const docLinkHtml = 'Like what you see? Visit the ' +\n",
              "            '<a target=\"_blank\" href=https://colab.research.google.com/notebooks/data_table.ipynb>data table notebook</a>'\n",
              "            + ' to learn more about interactive tables.';\n",
              "          element.innerHTML = '';\n",
              "          dataTable['output_type'] = 'display_data';\n",
              "          await google.colab.output.renderOutput(dataTable, element);\n",
              "          const docLink = document.createElement('div');\n",
              "          docLink.innerHTML = docLinkHtml;\n",
              "          element.appendChild(docLink);\n",
              "        }\n",
              "      </script>\n",
              "    </div>\n",
              "  </div>\n",
              "  "
            ]
          },
          "metadata": {},
          "execution_count": 1239
        }
      ]
    },
    {
      "cell_type": "code",
      "metadata": {
        "id": "YjSVNwgptHxY",
        "colab": {
          "base_uri": "https://localhost:8080/"
        },
        "outputId": "756c4c62-3876-4b25-8faf-25650591771b"
      },
      "source": [
        "# Determining the no. of records in our dataset\n",
        "EastAfrica_dataset.shape"
      ],
      "execution_count": 1240,
      "outputs": [
        {
          "output_type": "execute_result",
          "data": {
            "text/plain": [
              "(23524, 13)"
            ]
          },
          "metadata": {},
          "execution_count": 1240
        }
      ]
    },
    {
      "cell_type": "code",
      "metadata": {
        "id": "xHhTw5eKWr0n",
        "colab": {
          "base_uri": "https://localhost:8080/",
          "height": 426
        },
        "outputId": "6769af7b-98db-4d26-ab70-f5d1c641575a"
      },
      "source": [
        "# Previewing the top of our dataset\n",
        "EastAfrica_dataset.head()"
      ],
      "execution_count": 1241,
      "outputs": [
        {
          "output_type": "execute_result",
          "data": {
            "text/plain": [
              "  country  year    uniqueid Has a Bank account Type of Location  \\\n",
              "0   Kenya  2018  uniqueid_1                Yes            Rural   \n",
              "1   Kenya  2018  uniqueid_2                 No            Rural   \n",
              "2   Kenya  2018  uniqueid_3                Yes            Urban   \n",
              "3   Kenya  2018  uniqueid_4                 No            Rural   \n",
              "4   Kenya  2018  uniqueid_5                 No            Urban   \n",
              "\n",
              "  Cell Phone Access  household_size  Respondent Age gender_of_respondent  \\\n",
              "0               Yes             3.0            24.0               Female   \n",
              "1                No             5.0            70.0               Female   \n",
              "2               Yes             5.0            26.0                 Male   \n",
              "3               Yes             5.0            34.0               Female   \n",
              "4                No             8.0            26.0                 Male   \n",
              "\n",
              "  The relathip with head           marital_status  \\\n",
              "0                 Spouse  Married/Living together   \n",
              "1      Head of Household                  Widowed   \n",
              "2         Other relative     Single/Never Married   \n",
              "3      Head of Household  Married/Living together   \n",
              "4                  Child     Single/Never Married   \n",
              "\n",
              "               Level of Educuation                Type of Job  \n",
              "0              Secondary education              Self employed  \n",
              "1              No formal education       Government Dependent  \n",
              "2  Vocational/Specialised training              Self employed  \n",
              "3                Primary education  Formally employed Private  \n",
              "4                Primary education        Informally employed  "
            ],
            "text/html": [
              "\n",
              "  <div id=\"df-9091227f-6444-4856-80a3-1a5b4d9f89a5\">\n",
              "    <div class=\"colab-df-container\">\n",
              "      <div>\n",
              "<style scoped>\n",
              "    .dataframe tbody tr th:only-of-type {\n",
              "        vertical-align: middle;\n",
              "    }\n",
              "\n",
              "    .dataframe tbody tr th {\n",
              "        vertical-align: top;\n",
              "    }\n",
              "\n",
              "    .dataframe thead th {\n",
              "        text-align: right;\n",
              "    }\n",
              "</style>\n",
              "<table border=\"1\" class=\"dataframe\">\n",
              "  <thead>\n",
              "    <tr style=\"text-align: right;\">\n",
              "      <th></th>\n",
              "      <th>country</th>\n",
              "      <th>year</th>\n",
              "      <th>uniqueid</th>\n",
              "      <th>Has a Bank account</th>\n",
              "      <th>Type of Location</th>\n",
              "      <th>Cell Phone Access</th>\n",
              "      <th>household_size</th>\n",
              "      <th>Respondent Age</th>\n",
              "      <th>gender_of_respondent</th>\n",
              "      <th>The relathip with head</th>\n",
              "      <th>marital_status</th>\n",
              "      <th>Level of Educuation</th>\n",
              "      <th>Type of Job</th>\n",
              "    </tr>\n",
              "  </thead>\n",
              "  <tbody>\n",
              "    <tr>\n",
              "      <th>0</th>\n",
              "      <td>Kenya</td>\n",
              "      <td>2018</td>\n",
              "      <td>uniqueid_1</td>\n",
              "      <td>Yes</td>\n",
              "      <td>Rural</td>\n",
              "      <td>Yes</td>\n",
              "      <td>3.0</td>\n",
              "      <td>24.0</td>\n",
              "      <td>Female</td>\n",
              "      <td>Spouse</td>\n",
              "      <td>Married/Living together</td>\n",
              "      <td>Secondary education</td>\n",
              "      <td>Self employed</td>\n",
              "    </tr>\n",
              "    <tr>\n",
              "      <th>1</th>\n",
              "      <td>Kenya</td>\n",
              "      <td>2018</td>\n",
              "      <td>uniqueid_2</td>\n",
              "      <td>No</td>\n",
              "      <td>Rural</td>\n",
              "      <td>No</td>\n",
              "      <td>5.0</td>\n",
              "      <td>70.0</td>\n",
              "      <td>Female</td>\n",
              "      <td>Head of Household</td>\n",
              "      <td>Widowed</td>\n",
              "      <td>No formal education</td>\n",
              "      <td>Government Dependent</td>\n",
              "    </tr>\n",
              "    <tr>\n",
              "      <th>2</th>\n",
              "      <td>Kenya</td>\n",
              "      <td>2018</td>\n",
              "      <td>uniqueid_3</td>\n",
              "      <td>Yes</td>\n",
              "      <td>Urban</td>\n",
              "      <td>Yes</td>\n",
              "      <td>5.0</td>\n",
              "      <td>26.0</td>\n",
              "      <td>Male</td>\n",
              "      <td>Other relative</td>\n",
              "      <td>Single/Never Married</td>\n",
              "      <td>Vocational/Specialised training</td>\n",
              "      <td>Self employed</td>\n",
              "    </tr>\n",
              "    <tr>\n",
              "      <th>3</th>\n",
              "      <td>Kenya</td>\n",
              "      <td>2018</td>\n",
              "      <td>uniqueid_4</td>\n",
              "      <td>No</td>\n",
              "      <td>Rural</td>\n",
              "      <td>Yes</td>\n",
              "      <td>5.0</td>\n",
              "      <td>34.0</td>\n",
              "      <td>Female</td>\n",
              "      <td>Head of Household</td>\n",
              "      <td>Married/Living together</td>\n",
              "      <td>Primary education</td>\n",
              "      <td>Formally employed Private</td>\n",
              "    </tr>\n",
              "    <tr>\n",
              "      <th>4</th>\n",
              "      <td>Kenya</td>\n",
              "      <td>2018</td>\n",
              "      <td>uniqueid_5</td>\n",
              "      <td>No</td>\n",
              "      <td>Urban</td>\n",
              "      <td>No</td>\n",
              "      <td>8.0</td>\n",
              "      <td>26.0</td>\n",
              "      <td>Male</td>\n",
              "      <td>Child</td>\n",
              "      <td>Single/Never Married</td>\n",
              "      <td>Primary education</td>\n",
              "      <td>Informally employed</td>\n",
              "    </tr>\n",
              "  </tbody>\n",
              "</table>\n",
              "</div>\n",
              "      <button class=\"colab-df-convert\" onclick=\"convertToInteractive('df-9091227f-6444-4856-80a3-1a5b4d9f89a5')\"\n",
              "              title=\"Convert this dataframe to an interactive table.\"\n",
              "              style=\"display:none;\">\n",
              "        \n",
              "  <svg xmlns=\"http://www.w3.org/2000/svg\" height=\"24px\"viewBox=\"0 0 24 24\"\n",
              "       width=\"24px\">\n",
              "    <path d=\"M0 0h24v24H0V0z\" fill=\"none\"/>\n",
              "    <path d=\"M18.56 5.44l.94 2.06.94-2.06 2.06-.94-2.06-.94-.94-2.06-.94 2.06-2.06.94zm-11 1L8.5 8.5l.94-2.06 2.06-.94-2.06-.94L8.5 2.5l-.94 2.06-2.06.94zm10 10l.94 2.06.94-2.06 2.06-.94-2.06-.94-.94-2.06-.94 2.06-2.06.94z\"/><path d=\"M17.41 7.96l-1.37-1.37c-.4-.4-.92-.59-1.43-.59-.52 0-1.04.2-1.43.59L10.3 9.45l-7.72 7.72c-.78.78-.78 2.05 0 2.83L4 21.41c.39.39.9.59 1.41.59.51 0 1.02-.2 1.41-.59l7.78-7.78 2.81-2.81c.8-.78.8-2.07 0-2.86zM5.41 20L4 18.59l7.72-7.72 1.47 1.35L5.41 20z\"/>\n",
              "  </svg>\n",
              "      </button>\n",
              "      \n",
              "  <style>\n",
              "    .colab-df-container {\n",
              "      display:flex;\n",
              "      flex-wrap:wrap;\n",
              "      gap: 12px;\n",
              "    }\n",
              "\n",
              "    .colab-df-convert {\n",
              "      background-color: #E8F0FE;\n",
              "      border: none;\n",
              "      border-radius: 50%;\n",
              "      cursor: pointer;\n",
              "      display: none;\n",
              "      fill: #1967D2;\n",
              "      height: 32px;\n",
              "      padding: 0 0 0 0;\n",
              "      width: 32px;\n",
              "    }\n",
              "\n",
              "    .colab-df-convert:hover {\n",
              "      background-color: #E2EBFA;\n",
              "      box-shadow: 0px 1px 2px rgba(60, 64, 67, 0.3), 0px 1px 3px 1px rgba(60, 64, 67, 0.15);\n",
              "      fill: #174EA6;\n",
              "    }\n",
              "\n",
              "    [theme=dark] .colab-df-convert {\n",
              "      background-color: #3B4455;\n",
              "      fill: #D2E3FC;\n",
              "    }\n",
              "\n",
              "    [theme=dark] .colab-df-convert:hover {\n",
              "      background-color: #434B5C;\n",
              "      box-shadow: 0px 1px 3px 1px rgba(0, 0, 0, 0.15);\n",
              "      filter: drop-shadow(0px 1px 2px rgba(0, 0, 0, 0.3));\n",
              "      fill: #FFFFFF;\n",
              "    }\n",
              "  </style>\n",
              "\n",
              "      <script>\n",
              "        const buttonEl =\n",
              "          document.querySelector('#df-9091227f-6444-4856-80a3-1a5b4d9f89a5 button.colab-df-convert');\n",
              "        buttonEl.style.display =\n",
              "          google.colab.kernel.accessAllowed ? 'block' : 'none';\n",
              "\n",
              "        async function convertToInteractive(key) {\n",
              "          const element = document.querySelector('#df-9091227f-6444-4856-80a3-1a5b4d9f89a5');\n",
              "          const dataTable =\n",
              "            await google.colab.kernel.invokeFunction('convertToInteractive',\n",
              "                                                     [key], {});\n",
              "          if (!dataTable) return;\n",
              "\n",
              "          const docLinkHtml = 'Like what you see? Visit the ' +\n",
              "            '<a target=\"_blank\" href=https://colab.research.google.com/notebooks/data_table.ipynb>data table notebook</a>'\n",
              "            + ' to learn more about interactive tables.';\n",
              "          element.innerHTML = '';\n",
              "          dataTable['output_type'] = 'display_data';\n",
              "          await google.colab.output.renderOutput(dataTable, element);\n",
              "          const docLink = document.createElement('div');\n",
              "          docLink.innerHTML = docLinkHtml;\n",
              "          element.appendChild(docLink);\n",
              "        }\n",
              "      </script>\n",
              "    </div>\n",
              "  </div>\n",
              "  "
            ]
          },
          "metadata": {},
          "execution_count": 1241
        }
      ]
    },
    {
      "cell_type": "code",
      "metadata": {
        "id": "e9AzGcZFrIIr",
        "colab": {
          "base_uri": "https://localhost:8080/",
          "height": 409
        },
        "outputId": "7139cf22-2b62-4ec3-f760-b9efa48f6d56"
      },
      "source": [
        "# Previewing the bottom of our dataset\n",
        "EastAfrica_dataset.tail(5)"
      ],
      "execution_count": 1242,
      "outputs": [
        {
          "output_type": "execute_result",
          "data": {
            "text/plain": [
              "      country  year       uniqueid Has a Bank account Type of Location  \\\n",
              "23519  Uganda  2018  uniqueid_2113                 No            Rural   \n",
              "23520  Uganda  2018  uniqueid_2114                 No            Rural   \n",
              "23521  Uganda  2018  uniqueid_2115                 No            Rural   \n",
              "23522  Uganda  2018  uniqueid_2116                 No            Urban   \n",
              "23523  Uganda  2018  uniqueid_2117                 No            Rural   \n",
              "\n",
              "      Cell Phone Access  household_size  Respondent Age gender_of_respondent  \\\n",
              "23519               Yes             4.0            48.0               Female   \n",
              "23520               Yes             2.0            27.0               Female   \n",
              "23521               Yes             5.0            27.0               Female   \n",
              "23522               Yes             7.0            30.0               Female   \n",
              "23523               Yes            10.0            20.0                 Male   \n",
              "\n",
              "      The relathip with head        marital_status  Level of Educuation  \\\n",
              "23519      Head of Household    Divorced/Seperated  No formal education   \n",
              "23520      Head of Household  Single/Never Married  Secondary education   \n",
              "23521                 Parent               Widowed    Primary education   \n",
              "23522                 Parent    Divorced/Seperated  Secondary education   \n",
              "23523                  Child  Single/Never Married  Secondary education   \n",
              "\n",
              "         Type of Job  \n",
              "23519   Other Income  \n",
              "23520   Other Income  \n",
              "23521   Other Income  \n",
              "23522  Self employed  \n",
              "23523      No Income  "
            ],
            "text/html": [
              "\n",
              "  <div id=\"df-b648f318-091c-471e-a0b1-d5120ae3d09f\">\n",
              "    <div class=\"colab-df-container\">\n",
              "      <div>\n",
              "<style scoped>\n",
              "    .dataframe tbody tr th:only-of-type {\n",
              "        vertical-align: middle;\n",
              "    }\n",
              "\n",
              "    .dataframe tbody tr th {\n",
              "        vertical-align: top;\n",
              "    }\n",
              "\n",
              "    .dataframe thead th {\n",
              "        text-align: right;\n",
              "    }\n",
              "</style>\n",
              "<table border=\"1\" class=\"dataframe\">\n",
              "  <thead>\n",
              "    <tr style=\"text-align: right;\">\n",
              "      <th></th>\n",
              "      <th>country</th>\n",
              "      <th>year</th>\n",
              "      <th>uniqueid</th>\n",
              "      <th>Has a Bank account</th>\n",
              "      <th>Type of Location</th>\n",
              "      <th>Cell Phone Access</th>\n",
              "      <th>household_size</th>\n",
              "      <th>Respondent Age</th>\n",
              "      <th>gender_of_respondent</th>\n",
              "      <th>The relathip with head</th>\n",
              "      <th>marital_status</th>\n",
              "      <th>Level of Educuation</th>\n",
              "      <th>Type of Job</th>\n",
              "    </tr>\n",
              "  </thead>\n",
              "  <tbody>\n",
              "    <tr>\n",
              "      <th>23519</th>\n",
              "      <td>Uganda</td>\n",
              "      <td>2018</td>\n",
              "      <td>uniqueid_2113</td>\n",
              "      <td>No</td>\n",
              "      <td>Rural</td>\n",
              "      <td>Yes</td>\n",
              "      <td>4.0</td>\n",
              "      <td>48.0</td>\n",
              "      <td>Female</td>\n",
              "      <td>Head of Household</td>\n",
              "      <td>Divorced/Seperated</td>\n",
              "      <td>No formal education</td>\n",
              "      <td>Other Income</td>\n",
              "    </tr>\n",
              "    <tr>\n",
              "      <th>23520</th>\n",
              "      <td>Uganda</td>\n",
              "      <td>2018</td>\n",
              "      <td>uniqueid_2114</td>\n",
              "      <td>No</td>\n",
              "      <td>Rural</td>\n",
              "      <td>Yes</td>\n",
              "      <td>2.0</td>\n",
              "      <td>27.0</td>\n",
              "      <td>Female</td>\n",
              "      <td>Head of Household</td>\n",
              "      <td>Single/Never Married</td>\n",
              "      <td>Secondary education</td>\n",
              "      <td>Other Income</td>\n",
              "    </tr>\n",
              "    <tr>\n",
              "      <th>23521</th>\n",
              "      <td>Uganda</td>\n",
              "      <td>2018</td>\n",
              "      <td>uniqueid_2115</td>\n",
              "      <td>No</td>\n",
              "      <td>Rural</td>\n",
              "      <td>Yes</td>\n",
              "      <td>5.0</td>\n",
              "      <td>27.0</td>\n",
              "      <td>Female</td>\n",
              "      <td>Parent</td>\n",
              "      <td>Widowed</td>\n",
              "      <td>Primary education</td>\n",
              "      <td>Other Income</td>\n",
              "    </tr>\n",
              "    <tr>\n",
              "      <th>23522</th>\n",
              "      <td>Uganda</td>\n",
              "      <td>2018</td>\n",
              "      <td>uniqueid_2116</td>\n",
              "      <td>No</td>\n",
              "      <td>Urban</td>\n",
              "      <td>Yes</td>\n",
              "      <td>7.0</td>\n",
              "      <td>30.0</td>\n",
              "      <td>Female</td>\n",
              "      <td>Parent</td>\n",
              "      <td>Divorced/Seperated</td>\n",
              "      <td>Secondary education</td>\n",
              "      <td>Self employed</td>\n",
              "    </tr>\n",
              "    <tr>\n",
              "      <th>23523</th>\n",
              "      <td>Uganda</td>\n",
              "      <td>2018</td>\n",
              "      <td>uniqueid_2117</td>\n",
              "      <td>No</td>\n",
              "      <td>Rural</td>\n",
              "      <td>Yes</td>\n",
              "      <td>10.0</td>\n",
              "      <td>20.0</td>\n",
              "      <td>Male</td>\n",
              "      <td>Child</td>\n",
              "      <td>Single/Never Married</td>\n",
              "      <td>Secondary education</td>\n",
              "      <td>No Income</td>\n",
              "    </tr>\n",
              "  </tbody>\n",
              "</table>\n",
              "</div>\n",
              "      <button class=\"colab-df-convert\" onclick=\"convertToInteractive('df-b648f318-091c-471e-a0b1-d5120ae3d09f')\"\n",
              "              title=\"Convert this dataframe to an interactive table.\"\n",
              "              style=\"display:none;\">\n",
              "        \n",
              "  <svg xmlns=\"http://www.w3.org/2000/svg\" height=\"24px\"viewBox=\"0 0 24 24\"\n",
              "       width=\"24px\">\n",
              "    <path d=\"M0 0h24v24H0V0z\" fill=\"none\"/>\n",
              "    <path d=\"M18.56 5.44l.94 2.06.94-2.06 2.06-.94-2.06-.94-.94-2.06-.94 2.06-2.06.94zm-11 1L8.5 8.5l.94-2.06 2.06-.94-2.06-.94L8.5 2.5l-.94 2.06-2.06.94zm10 10l.94 2.06.94-2.06 2.06-.94-2.06-.94-.94-2.06-.94 2.06-2.06.94z\"/><path d=\"M17.41 7.96l-1.37-1.37c-.4-.4-.92-.59-1.43-.59-.52 0-1.04.2-1.43.59L10.3 9.45l-7.72 7.72c-.78.78-.78 2.05 0 2.83L4 21.41c.39.39.9.59 1.41.59.51 0 1.02-.2 1.41-.59l7.78-7.78 2.81-2.81c.8-.78.8-2.07 0-2.86zM5.41 20L4 18.59l7.72-7.72 1.47 1.35L5.41 20z\"/>\n",
              "  </svg>\n",
              "      </button>\n",
              "      \n",
              "  <style>\n",
              "    .colab-df-container {\n",
              "      display:flex;\n",
              "      flex-wrap:wrap;\n",
              "      gap: 12px;\n",
              "    }\n",
              "\n",
              "    .colab-df-convert {\n",
              "      background-color: #E8F0FE;\n",
              "      border: none;\n",
              "      border-radius: 50%;\n",
              "      cursor: pointer;\n",
              "      display: none;\n",
              "      fill: #1967D2;\n",
              "      height: 32px;\n",
              "      padding: 0 0 0 0;\n",
              "      width: 32px;\n",
              "    }\n",
              "\n",
              "    .colab-df-convert:hover {\n",
              "      background-color: #E2EBFA;\n",
              "      box-shadow: 0px 1px 2px rgba(60, 64, 67, 0.3), 0px 1px 3px 1px rgba(60, 64, 67, 0.15);\n",
              "      fill: #174EA6;\n",
              "    }\n",
              "\n",
              "    [theme=dark] .colab-df-convert {\n",
              "      background-color: #3B4455;\n",
              "      fill: #D2E3FC;\n",
              "    }\n",
              "\n",
              "    [theme=dark] .colab-df-convert:hover {\n",
              "      background-color: #434B5C;\n",
              "      box-shadow: 0px 1px 3px 1px rgba(0, 0, 0, 0.15);\n",
              "      filter: drop-shadow(0px 1px 2px rgba(0, 0, 0, 0.3));\n",
              "      fill: #FFFFFF;\n",
              "    }\n",
              "  </style>\n",
              "\n",
              "      <script>\n",
              "        const buttonEl =\n",
              "          document.querySelector('#df-b648f318-091c-471e-a0b1-d5120ae3d09f button.colab-df-convert');\n",
              "        buttonEl.style.display =\n",
              "          google.colab.kernel.accessAllowed ? 'block' : 'none';\n",
              "\n",
              "        async function convertToInteractive(key) {\n",
              "          const element = document.querySelector('#df-b648f318-091c-471e-a0b1-d5120ae3d09f');\n",
              "          const dataTable =\n",
              "            await google.colab.kernel.invokeFunction('convertToInteractive',\n",
              "                                                     [key], {});\n",
              "          if (!dataTable) return;\n",
              "\n",
              "          const docLinkHtml = 'Like what you see? Visit the ' +\n",
              "            '<a target=\"_blank\" href=https://colab.research.google.com/notebooks/data_table.ipynb>data table notebook</a>'\n",
              "            + ' to learn more about interactive tables.';\n",
              "          element.innerHTML = '';\n",
              "          dataTable['output_type'] = 'display_data';\n",
              "          await google.colab.output.renderOutput(dataTable, element);\n",
              "          const docLink = document.createElement('div');\n",
              "          docLink.innerHTML = docLinkHtml;\n",
              "          element.appendChild(docLink);\n",
              "        }\n",
              "      </script>\n",
              "    </div>\n",
              "  </div>\n",
              "  "
            ]
          },
          "metadata": {},
          "execution_count": 1242
        }
      ]
    },
    {
      "cell_type": "code",
      "metadata": {
        "id": "n8-dW4sQWzbc",
        "colab": {
          "base_uri": "https://localhost:8080/"
        },
        "outputId": "776e14d3-4814-4709-a874-66ae5175b9c5"
      },
      "source": [
        "# Checking whether each column has an appropriate datatype\n",
        "EastAfrica_dataset.dtypes"
      ],
      "execution_count": 1243,
      "outputs": [
        {
          "output_type": "execute_result",
          "data": {
            "text/plain": [
              "country                    object\n",
              "year                        int64\n",
              "uniqueid                   object\n",
              "Has a Bank account         object\n",
              "Type of Location           object\n",
              "Cell Phone Access          object\n",
              "household_size            float64\n",
              "Respondent Age            float64\n",
              "gender_of_respondent       object\n",
              "The relathip with head     object\n",
              "marital_status             object\n",
              "Level of Educuation        object\n",
              "Type of Job                object\n",
              "dtype: object"
            ]
          },
          "metadata": {},
          "execution_count": 1243
        }
      ]
    },
    {
      "cell_type": "markdown",
      "metadata": {
        "id": "ckfufNrcUHeH"
      },
      "source": [
        "## 4. External Data Source Validation"
      ]
    },
    {
      "cell_type": "markdown",
      "metadata": {
        "id": "6L4sl_0WXlbg"
      },
      "source": [
        "Making sure your data matches something outside of the dataset is very important. It allows you to ensure that the measurements are roughly in line with what they should be and it serves as a check on what other things might be wrong in your dataset. External validation can often be as simple as checking your data against a single number, as we will do here.\n",
        "\n",
        "An example would be suppose that you're working with a dataset on the population of countries during the year 2016. Validating such information with an external reliable resource such as World Bank Data would be important step to providing credibility to your dataset. Have a look at the following link for an example. [Link](https://rstudio-pubs-static.s3.amazonaws.com/182250_19977d0c5c06403fbad1e653850fc7c6.html)."
      ]
    },
    {
      "cell_type": "markdown",
      "metadata": {
        "id": "6XC_g-zKxe-r"
      },
      "source": [
        "### a.Validation"
      ]
    },
    {
      "cell_type": "markdown",
      "source": [
        ""
      ],
      "metadata": {
        "id": "18hh6VmZjz9d"
      }
    },
    {
      "cell_type": "markdown",
      "metadata": {
        "id": "FlBMxEDBUc9B"
      },
      "source": [
        "## 5. Tidying the Dataset"
      ]
    },
    {
      "cell_type": "code",
      "source": [
        "#Changing column names\n",
        "EastAfrica_dataset.rename(columns = {\"Has a Bank account\":\"Has_a_Bank_account\", \"Type of Location\":\"Type_of_Location\", \"Cell Phone Access\":\"Cell_Phone_Access\", \"Respondent Age\":\"Respondent_Age\", \"The relathip with head\":\"Relationship_with_head\", \"Level of Educuation\":\"Level_of_Educuation\", \"Type of Job\":\"Type_of_Job\"}, inplace = True)\n",
        "EastAfrica_dataset.columns"
      ],
      "metadata": {
        "colab": {
          "base_uri": "https://localhost:8080/"
        },
        "id": "9NYUKSZ9Bdel",
        "outputId": "84feef2e-f44b-40e4-845c-cbbfd590df1f"
      },
      "execution_count": 1244,
      "outputs": [
        {
          "output_type": "execute_result",
          "data": {
            "text/plain": [
              "Index(['country', 'year', 'uniqueid', 'Has_a_Bank_account', 'Type_of_Location',\n",
              "       'Cell_Phone_Access', 'household_size', 'Respondent_Age',\n",
              "       'gender_of_respondent', 'Relationship_with_head', 'marital_status',\n",
              "       'Level_of_Educuation', 'Type_of_Job'],\n",
              "      dtype='object')"
            ]
          },
          "metadata": {},
          "execution_count": 1244
        }
      ]
    },
    {
      "cell_type": "code",
      "source": [
        "EastAfrica_dataset.info()"
      ],
      "metadata": {
        "colab": {
          "base_uri": "https://localhost:8080/"
        },
        "id": "qouXkBHIGks8",
        "outputId": "52fb1dda-2fa7-43bf-db05-bed74a92c441"
      },
      "execution_count": 1245,
      "outputs": [
        {
          "output_type": "stream",
          "name": "stdout",
          "text": [
            "<class 'pandas.core.frame.DataFrame'>\n",
            "RangeIndex: 23524 entries, 0 to 23523\n",
            "Data columns (total 13 columns):\n",
            " #   Column                  Non-Null Count  Dtype  \n",
            "---  ------                  --------------  -----  \n",
            " 0   country                 23510 non-null  object \n",
            " 1   year                    23524 non-null  int64  \n",
            " 2   uniqueid                23524 non-null  object \n",
            " 3   Has_a_Bank_account      23488 non-null  object \n",
            " 4   Type_of_Location        23509 non-null  object \n",
            " 5   Cell_Phone_Access       23513 non-null  object \n",
            " 6   household_size          23496 non-null  float64\n",
            " 7   Respondent_Age          23490 non-null  float64\n",
            " 8   gender_of_respondent    23490 non-null  object \n",
            " 9   Relationship_with_head  23520 non-null  object \n",
            " 10  marital_status          23492 non-null  object \n",
            " 11  Level_of_Educuation     23495 non-null  object \n",
            " 12  Type_of_Job             23494 non-null  object \n",
            "dtypes: float64(2), int64(1), object(10)\n",
            "memory usage: 2.3+ MB\n"
          ]
        }
      ]
    },
    {
      "cell_type": "code",
      "metadata": {
        "id": "5o_bQcT5W3Wz",
        "colab": {
          "base_uri": "https://localhost:8080/",
          "height": 352
        },
        "outputId": "215b8b34-9f20-4f19-b526-ccabde91c911"
      },
      "source": [
        "# Checking for Outliers\n",
        "#This will only work for data with float values or int.\n",
        "sns.boxplot(EastAfrica_dataset[\"Respondent_Age\"])"
      ],
      "execution_count": 1246,
      "outputs": [
        {
          "output_type": "stream",
          "name": "stderr",
          "text": [
            "/usr/local/lib/python3.7/dist-packages/seaborn/_decorators.py:43: FutureWarning: Pass the following variable as a keyword arg: x. From version 0.12, the only valid positional argument will be `data`, and passing other arguments without an explicit keyword will result in an error or misinterpretation.\n",
            "  FutureWarning\n"
          ]
        },
        {
          "output_type": "execute_result",
          "data": {
            "text/plain": [
              "<matplotlib.axes._subplots.AxesSubplot at 0x7f3ebcee08d0>"
            ]
          },
          "metadata": {},
          "execution_count": 1246
        },
        {
          "output_type": "display_data",
          "data": {
            "text/plain": [
              "<Figure size 432x288 with 1 Axes>"
            ],
            "image/png": "[encoded data removed]"
          },
          "metadata": {
            "needs_background": "light"
          }
        }
      ]
    },
    {
      "cell_type": "code",
      "source": [
        "sns.boxplot(EastAfrica_dataset[\"household_size\"])"
      ],
      "metadata": {
        "colab": {
          "base_uri": "https://localhost:8080/",
          "height": 352
        },
        "id": "G2B2WJ4WF16a",
        "outputId": "a5fde57d-ab7c-4e51-efb6-292fbd9cb2e8"
      },
      "execution_count": 1247,
      "outputs": [
        {
          "output_type": "stream",
          "name": "stderr",
          "text": [
            "/usr/local/lib/python3.7/dist-packages/seaborn/_decorators.py:43: FutureWarning: Pass the following variable as a keyword arg: x. From version 0.12, the only valid positional argument will be `data`, and passing other arguments without an explicit keyword will result in an error or misinterpretation.\n",
            "  FutureWarning\n"
          ]
        },
        {
          "output_type": "execute_result",
          "data": {
            "text/plain": [
              "<matplotlib.axes._subplots.AxesSubplot at 0x7f3ebcdf86d0>"
            ]
          },
          "metadata": {},
          "execution_count": 1247
        },
        {
          "output_type": "display_data",
          "data": {
            "text/plain": [
              "<Figure size 432x288 with 1 Axes>"
            ],
            "image/png": "[encoded data removed]"
          },
          "metadata": {
            "needs_background": "light"
          }
        }
      ]
    },
    {
      "cell_type": "code",
      "source": [
        "# Checking for Anomalies\n",
        "#For the EastAfrica_dataset\n",
        "EastAfrica_dataset.describe()"
      ],
      "metadata": {
        "colab": {
          "base_uri": "https://localhost:8080/",
          "height": 300
        },
        "id": "WHOQ97p4diun",
        "outputId": "861b5798-929a-4e98-aef4-b18ef20a783b"
      },
      "execution_count": 1248,
      "outputs": [
        {
          "output_type": "execute_result",
          "data": {
            "text/plain": [
              "               year  household_size  Respondent_Age\n",
              "count  23524.000000    23496.000000    23490.000000\n",
              "mean    2016.979000        3.681818       38.804300\n",
              "std        0.899669        2.279933       16.519996\n",
              "min     2016.000000        0.000000       16.000000\n",
              "25%     2016.000000        2.000000       26.000000\n",
              "50%     2017.000000        3.000000       35.000000\n",
              "75%     2018.000000        5.000000       49.000000\n",
              "max     2056.000000       21.000000      100.000000"
            ],
            "text/html": [
              "\n",
              "  <div id=\"df-246c5312-acd9-4cbd-aee3-1f913e446ed1\">\n",
              "    <div class=\"colab-df-container\">\n",
              "      <div>\n",
              "<style scoped>\n",
              "    .dataframe tbody tr th:only-of-type {\n",
              "        vertical-align: middle;\n",
              "    }\n",
              "\n",
              "    .dataframe tbody tr th {\n",
              "        vertical-align: top;\n",
              "    }\n",
              "\n",
              "    .dataframe thead th {\n",
              "        text-align: right;\n",
              "    }\n",
              "</style>\n",
              "<table border=\"1\" class=\"dataframe\">\n",
              "  <thead>\n",
              "    <tr style=\"text-align: right;\">\n",
              "      <th></th>\n",
              "      <th>year</th>\n",
              "      <th>household_size</th>\n",
              "      <th>Respondent_Age</th>\n",
              "    </tr>\n",
              "  </thead>\n",
              "  <tbody>\n",
              "    <tr>\n",
              "      <th>count</th>\n",
              "      <td>23524.000000</td>\n",
              "      <td>23496.000000</td>\n",
              "      <td>23490.000000</td>\n",
              "    </tr>\n",
              "    <tr>\n",
              "      <th>mean</th>\n",
              "      <td>2016.979000</td>\n",
              "      <td>3.681818</td>\n",
              "      <td>38.804300</td>\n",
              "    </tr>\n",
              "    <tr>\n",
              "      <th>std</th>\n",
              "      <td>0.899669</td>\n",
              "      <td>2.279933</td>\n",
              "      <td>16.519996</td>\n",
              "    </tr>\n",
              "    <tr>\n",
              "      <th>min</th>\n",
              "      <td>2016.000000</td>\n",
              "      <td>0.000000</td>\n",
              "      <td>16.000000</td>\n",
              "    </tr>\n",
              "    <tr>\n",
              "      <th>25%</th>\n",
              "      <td>2016.000000</td>\n",
              "      <td>2.000000</td>\n",
              "      <td>26.000000</td>\n",
              "    </tr>\n",
              "    <tr>\n",
              "      <th>50%</th>\n",
              "      <td>2017.000000</td>\n",
              "      <td>3.000000</td>\n",
              "      <td>35.000000</td>\n",
              "    </tr>\n",
              "    <tr>\n",
              "      <th>75%</th>\n",
              "      <td>2018.000000</td>\n",
              "      <td>5.000000</td>\n",
              "      <td>49.000000</td>\n",
              "    </tr>\n",
              "    <tr>\n",
              "      <th>max</th>\n",
              "      <td>2056.000000</td>\n",
              "      <td>21.000000</td>\n",
              "      <td>100.000000</td>\n",
              "    </tr>\n",
              "  </tbody>\n",
              "</table>\n",
              "</div>\n",
              "      <button class=\"colab-df-convert\" onclick=\"convertToInteractive('df-246c5312-acd9-4cbd-aee3-1f913e446ed1')\"\n",
              "              title=\"Convert this dataframe to an interactive table.\"\n",
              "              style=\"display:none;\">\n",
              "        \n",
              "  <svg xmlns=\"http://www.w3.org/2000/svg\" height=\"24px\"viewBox=\"0 0 24 24\"\n",
              "       width=\"24px\">\n",
              "    <path d=\"M0 0h24v24H0V0z\" fill=\"none\"/>\n",
              "    <path d=\"M18.56 5.44l.94 2.06.94-2.06 2.06-.94-2.06-.94-.94-2.06-.94 2.06-2.06.94zm-11 1L8.5 8.5l.94-2.06 2.06-.94-2.06-.94L8.5 2.5l-.94 2.06-2.06.94zm10 10l.94 2.06.94-2.06 2.06-.94-2.06-.94-.94-2.06-.94 2.06-2.06.94z\"/><path d=\"M17.41 7.96l-1.37-1.37c-.4-.4-.92-.59-1.43-.59-.52 0-1.04.2-1.43.59L10.3 9.45l-7.72 7.72c-.78.78-.78 2.05 0 2.83L4 21.41c.39.39.9.59 1.41.59.51 0 1.02-.2 1.41-.59l7.78-7.78 2.81-2.81c.8-.78.8-2.07 0-2.86zM5.41 20L4 18.59l7.72-7.72 1.47 1.35L5.41 20z\"/>\n",
              "  </svg>\n",
              "      </button>\n",
              "      \n",
              "  <style>\n",
              "    .colab-df-container {\n",
              "      display:flex;\n",
              "      flex-wrap:wrap;\n",
              "      gap: 12px;\n",
              "    }\n",
              "\n",
              "    .colab-df-convert {\n",
              "      background-color: #E8F0FE;\n",
              "      border: none;\n",
              "      border-radius: 50%;\n",
              "      cursor: pointer;\n",
              "      display: none;\n",
              "      fill: #1967D2;\n",
              "      height: 32px;\n",
              "      padding: 0 0 0 0;\n",
              "      width: 32px;\n",
              "    }\n",
              "\n",
              "    .colab-df-convert:hover {\n",
              "      background-color: #E2EBFA;\n",
              "      box-shadow: 0px 1px 2px rgba(60, 64, 67, 0.3), 0px 1px 3px 1px rgba(60, 64, 67, 0.15);\n",
              "      fill: #174EA6;\n",
              "    }\n",
              "\n",
              "    [theme=dark] .colab-df-convert {\n",
              "      background-color: #3B4455;\n",
              "      fill: #D2E3FC;\n",
              "    }\n",
              "\n",
              "    [theme=dark] .colab-df-convert:hover {\n",
              "      background-color: #434B5C;\n",
              "      box-shadow: 0px 1px 3px 1px rgba(0, 0, 0, 0.15);\n",
              "      filter: drop-shadow(0px 1px 2px rgba(0, 0, 0, 0.3));\n",
              "      fill: #FFFFFF;\n",
              "    }\n",
              "  </style>\n",
              "\n",
              "      <script>\n",
              "        const buttonEl =\n",
              "          document.querySelector('#df-246c5312-acd9-4cbd-aee3-1f913e446ed1 button.colab-df-convert');\n",
              "        buttonEl.style.display =\n",
              "          google.colab.kernel.accessAllowed ? 'block' : 'none';\n",
              "\n",
              "        async function convertToInteractive(key) {\n",
              "          const element = document.querySelector('#df-246c5312-acd9-4cbd-aee3-1f913e446ed1');\n",
              "          const dataTable =\n",
              "            await google.colab.kernel.invokeFunction('convertToInteractive',\n",
              "                                                     [key], {});\n",
              "          if (!dataTable) return;\n",
              "\n",
              "          const docLinkHtml = 'Like what you see? Visit the ' +\n",
              "            '<a target=\"_blank\" href=https://colab.research.google.com/notebooks/data_table.ipynb>data table notebook</a>'\n",
              "            + ' to learn more about interactive tables.';\n",
              "          element.innerHTML = '';\n",
              "          dataTable['output_type'] = 'display_data';\n",
              "          await google.colab.output.renderOutput(dataTable, element);\n",
              "          const docLink = document.createElement('div');\n",
              "          docLink.innerHTML = docLinkHtml;\n",
              "          element.appendChild(docLink);\n",
              "        }\n",
              "      </script>\n",
              "    </div>\n",
              "  </div>\n",
              "  "
            ]
          },
          "metadata": {},
          "execution_count": 1248
        }
      ]
    },
    {
      "cell_type": "code",
      "metadata": {
        "id": "PWlukLKUvFQN",
        "colab": {
          "base_uri": "https://localhost:8080/"
        },
        "outputId": "4f0ed6e8-9100-4393-bb68-6b4a00a47edb"
      },
      "source": [
        "# Checking for Anomalies\n",
        "#For the EastAfrica_dataset\n",
        "quant_house_1 = EastAfrica_dataset['household_size'].quantile(.25)\n",
        "quant_house_2 = EastAfrica_dataset['household_size'].quantile(.75)\n",
        "\n",
        "difference_household = quant_house_2 - quant_house_1\n",
        "print(difference_household )"
      ],
      "execution_count": 1249,
      "outputs": [
        {
          "output_type": "stream",
          "name": "stdout",
          "text": [
            "3.0\n"
          ]
        }
      ]
    },
    {
      "cell_type": "code",
      "metadata": {
        "id": "PvCYb6dgW4yh",
        "colab": {
          "base_uri": "https://localhost:8080/"
        },
        "outputId": "a32e69c1-e89f-43c6-b726-9351c747daf0"
      },
      "source": [
        "# Identifying the Missing Data\n",
        "#\n",
        "EastAfrica_dataset.isnull().any()"
      ],
      "execution_count": 1250,
      "outputs": [
        {
          "output_type": "execute_result",
          "data": {
            "text/plain": [
              "country                    True\n",
              "year                      False\n",
              "uniqueid                  False\n",
              "Has_a_Bank_account         True\n",
              "Type_of_Location           True\n",
              "Cell_Phone_Access          True\n",
              "household_size             True\n",
              "Respondent_Age             True\n",
              "gender_of_respondent       True\n",
              "Relationship_with_head     True\n",
              "marital_status             True\n",
              "Level_of_Educuation        True\n",
              "Type_of_Job                True\n",
              "dtype: bool"
            ]
          },
          "metadata": {},
          "execution_count": 1250
        }
      ]
    },
    {
      "cell_type": "code",
      "metadata": {
        "id": "MpsDGKZHsf_W",
        "colab": {
          "base_uri": "https://localhost:8080/"
        },
        "outputId": "fbe6cbb1-3a5e-4b55-9927-e43a5d2078a4"
      },
      "source": [
        "# Dealing with the Missing Data\n",
        "EastAfrica_dataset.isnull().sum()"
      ],
      "execution_count": 1251,
      "outputs": [
        {
          "output_type": "execute_result",
          "data": {
            "text/plain": [
              "country                   14\n",
              "year                       0\n",
              "uniqueid                   0\n",
              "Has_a_Bank_account        36\n",
              "Type_of_Location          15\n",
              "Cell_Phone_Access         11\n",
              "household_size            28\n",
              "Respondent_Age            34\n",
              "gender_of_respondent      34\n",
              "Relationship_with_head     4\n",
              "marital_status            32\n",
              "Level_of_Educuation       29\n",
              "Type_of_Job               30\n",
              "dtype: int64"
            ]
          },
          "metadata": {},
          "execution_count": 1251
        }
      ]
    },
    {
      "cell_type": "markdown",
      "source": [
        "This shows that there is presence of many missing data , which could be the course of the outliers. "
      ],
      "metadata": {
        "id": "uuNxRJXNkUWJ"
      }
    },
    {
      "cell_type": "code",
      "source": [
        "#Dropping duplicates\n",
        "EastAfrica_dataset.drop_duplicates()\n"
      ],
      "metadata": {
        "colab": {
          "base_uri": "https://localhost:8080/",
          "height": 679
        },
        "id": "lS8Duk7eHn89",
        "outputId": "0804ed33-e864-44d8-fcb4-7dba13488ac2"
      },
      "execution_count": 1252,
      "outputs": [
        {
          "output_type": "execute_result",
          "data": {
            "text/plain": [
              "      country  year       uniqueid Has_a_Bank_account Type_of_Location  \\\n",
              "0       Kenya  2018     uniqueid_1                Yes            Rural   \n",
              "1       Kenya  2018     uniqueid_2                 No            Rural   \n",
              "2       Kenya  2018     uniqueid_3                Yes            Urban   \n",
              "3       Kenya  2018     uniqueid_4                 No            Rural   \n",
              "4       Kenya  2018     uniqueid_5                 No            Urban   \n",
              "...       ...   ...            ...                ...              ...   \n",
              "23519  Uganda  2018  uniqueid_2113                 No            Rural   \n",
              "23520  Uganda  2018  uniqueid_2114                 No            Rural   \n",
              "23521  Uganda  2018  uniqueid_2115                 No            Rural   \n",
              "23522  Uganda  2018  uniqueid_2116                 No            Urban   \n",
              "23523  Uganda  2018  uniqueid_2117                 No            Rural   \n",
              "\n",
              "      Cell_Phone_Access  household_size  Respondent_Age gender_of_respondent  \\\n",
              "0                   Yes             3.0            24.0               Female   \n",
              "1                    No             5.0            70.0               Female   \n",
              "2                   Yes             5.0            26.0                 Male   \n",
              "3                   Yes             5.0            34.0               Female   \n",
              "4                    No             8.0            26.0                 Male   \n",
              "...                 ...             ...             ...                  ...   \n",
              "23519               Yes             4.0            48.0               Female   \n",
              "23520               Yes             2.0            27.0               Female   \n",
              "23521               Yes             5.0            27.0               Female   \n",
              "23522               Yes             7.0            30.0               Female   \n",
              "23523               Yes            10.0            20.0                 Male   \n",
              "\n",
              "      Relationship_with_head           marital_status  \\\n",
              "0                     Spouse  Married/Living together   \n",
              "1          Head of Household                  Widowed   \n",
              "2             Other relative     Single/Never Married   \n",
              "3          Head of Household  Married/Living together   \n",
              "4                      Child     Single/Never Married   \n",
              "...                      ...                      ...   \n",
              "23519      Head of Household       Divorced/Seperated   \n",
              "23520      Head of Household     Single/Never Married   \n",
              "23521                 Parent                  Widowed   \n",
              "23522                 Parent       Divorced/Seperated   \n",
              "23523                  Child     Single/Never Married   \n",
              "\n",
              "                   Level_of_Educuation                Type_of_Job  \n",
              "0                  Secondary education              Self employed  \n",
              "1                  No formal education       Government Dependent  \n",
              "2      Vocational/Specialised training              Self employed  \n",
              "3                    Primary education  Formally employed Private  \n",
              "4                    Primary education        Informally employed  \n",
              "...                                ...                        ...  \n",
              "23519              No formal education               Other Income  \n",
              "23520              Secondary education               Other Income  \n",
              "23521                Primary education               Other Income  \n",
              "23522              Secondary education              Self employed  \n",
              "23523              Secondary education                  No Income  \n",
              "\n",
              "[23524 rows x 13 columns]"
            ],
            "text/html": [
              "\n",
              "  <div id=\"df-abd29e19-8a89-4b81-9aa4-3219b45c7b89\">\n",
              "    <div class=\"colab-df-container\">\n",
              "      <div>\n",
              "<style scoped>\n",
              "    .dataframe tbody tr th:only-of-type {\n",
              "        vertical-align: middle;\n",
              "    }\n",
              "\n",
              "    .dataframe tbody tr th {\n",
              "        vertical-align: top;\n",
              "    }\n",
              "\n",
              "    .dataframe thead th {\n",
              "        text-align: right;\n",
              "    }\n",
              "</style>\n",
              "<table border=\"1\" class=\"dataframe\">\n",
              "  <thead>\n",
              "    <tr style=\"text-align: right;\">\n",
              "      <th></th>\n",
              "      <th>country</th>\n",
              "      <th>year</th>\n",
              "      <th>uniqueid</th>\n",
              "      <th>Has_a_Bank_account</th>\n",
              "      <th>Type_of_Location</th>\n",
              "      <th>Cell_Phone_Access</th>\n",
              "      <th>household_size</th>\n",
              "      <th>Respondent_Age</th>\n",
              "      <th>gender_of_respondent</th>\n",
              "      <th>Relationship_with_head</th>\n",
              "      <th>marital_status</th>\n",
              "      <th>Level_of_Educuation</th>\n",
              "      <th>Type_of_Job</th>\n",
              "    </tr>\n",
              "  </thead>\n",
              "  <tbody>\n",
              "    <tr>\n",
              "      <th>0</th>\n",
              "      <td>Kenya</td>\n",
              "      <td>2018</td>\n",
              "      <td>uniqueid_1</td>\n",
              "      <td>Yes</td>\n",
              "      <td>Rural</td>\n",
              "      <td>Yes</td>\n",
              "      <td>3.0</td>\n",
              "      <td>24.0</td>\n",
              "      <td>Female</td>\n",
              "      <td>Spouse</td>\n",
              "      <td>Married/Living together</td>\n",
              "      <td>Secondary education</td>\n",
              "      <td>Self employed</td>\n",
              "    </tr>\n",
              "    <tr>\n",
              "      <th>1</th>\n",
              "      <td>Kenya</td>\n",
              "      <td>2018</td>\n",
              "      <td>uniqueid_2</td>\n",
              "      <td>No</td>\n",
              "      <td>Rural</td>\n",
              "      <td>No</td>\n",
              "      <td>5.0</td>\n",
              "      <td>70.0</td>\n",
              "      <td>Female</td>\n",
              "      <td>Head of Household</td>\n",
              "      <td>Widowed</td>\n",
              "      <td>No formal education</td>\n",
              "      <td>Government Dependent</td>\n",
              "    </tr>\n",
              "    <tr>\n",
              "      <th>2</th>\n",
              "      <td>Kenya</td>\n",
              "      <td>2018</td>\n",
              "      <td>uniqueid_3</td>\n",
              "      <td>Yes</td>\n",
              "      <td>Urban</td>\n",
              "      <td>Yes</td>\n",
              "      <td>5.0</td>\n",
              "      <td>26.0</td>\n",
              "      <td>Male</td>\n",
              "      <td>Other relative</td>\n",
              "      <td>Single/Never Married</td>\n",
              "      <td>Vocational/Specialised training</td>\n",
              "      <td>Self employed</td>\n",
              "    </tr>\n",
              "    <tr>\n",
              "      <th>3</th>\n",
              "      <td>Kenya</td>\n",
              "      <td>2018</td>\n",
              "      <td>uniqueid_4</td>\n",
              "      <td>No</td>\n",
              "      <td>Rural</td>\n",
              "      <td>Yes</td>\n",
              "      <td>5.0</td>\n",
              "      <td>34.0</td>\n",
              "      <td>Female</td>\n",
              "      <td>Head of Household</td>\n",
              "      <td>Married/Living together</td>\n",
              "      <td>Primary education</td>\n",
              "      <td>Formally employed Private</td>\n",
              "    </tr>\n",
              "    <tr>\n",
              "      <th>4</th>\n",
              "      <td>Kenya</td>\n",
              "      <td>2018</td>\n",
              "      <td>uniqueid_5</td>\n",
              "      <td>No</td>\n",
              "      <td>Urban</td>\n",
              "      <td>No</td>\n",
              "      <td>8.0</td>\n",
              "      <td>26.0</td>\n",
              "      <td>Male</td>\n",
              "      <td>Child</td>\n",
              "      <td>Single/Never Married</td>\n",
              "      <td>Primary education</td>\n",
              "      <td>Informally employed</td>\n",
              "    </tr>\n",
              "    <tr>\n",
              "      <th>...</th>\n",
              "      <td>...</td>\n",
              "      <td>...</td>\n",
              "      <td>...</td>\n",
              "      <td>...</td>\n",
              "      <td>...</td>\n",
              "      <td>...</td>\n",
              "      <td>...</td>\n",
              "      <td>...</td>\n",
              "      <td>...</td>\n",
              "      <td>...</td>\n",
              "      <td>...</td>\n",
              "      <td>...</td>\n",
              "      <td>...</td>\n",
              "    </tr>\n",
              "    <tr>\n",
              "      <th>23519</th>\n",
              "      <td>Uganda</td>\n",
              "      <td>2018</td>\n",
              "      <td>uniqueid_2113</td>\n",
              "      <td>No</td>\n",
              "      <td>Rural</td>\n",
              "      <td>Yes</td>\n",
              "      <td>4.0</td>\n",
              "      <td>48.0</td>\n",
              "      <td>Female</td>\n",
              "      <td>Head of Household</td>\n",
              "      <td>Divorced/Seperated</td>\n",
              "      <td>No formal education</td>\n",
              "      <td>Other Income</td>\n",
              "    </tr>\n",
              "    <tr>\n",
              "      <th>23520</th>\n",
              "      <td>Uganda</td>\n",
              "      <td>2018</td>\n",
              "      <td>uniqueid_2114</td>\n",
              "      <td>No</td>\n",
              "      <td>Rural</td>\n",
              "      <td>Yes</td>\n",
              "      <td>2.0</td>\n",
              "      <td>27.0</td>\n",
              "      <td>Female</td>\n",
              "      <td>Head of Household</td>\n",
              "      <td>Single/Never Married</td>\n",
              "      <td>Secondary education</td>\n",
              "      <td>Other Income</td>\n",
              "    </tr>\n",
              "    <tr>\n",
              "      <th>23521</th>\n",
              "      <td>Uganda</td>\n",
              "      <td>2018</td>\n",
              "      <td>uniqueid_2115</td>\n",
              "      <td>No</td>\n",
              "      <td>Rural</td>\n",
              "      <td>Yes</td>\n",
              "      <td>5.0</td>\n",
              "      <td>27.0</td>\n",
              "      <td>Female</td>\n",
              "      <td>Parent</td>\n",
              "      <td>Widowed</td>\n",
              "      <td>Primary education</td>\n",
              "      <td>Other Income</td>\n",
              "    </tr>\n",
              "    <tr>\n",
              "      <th>23522</th>\n",
              "      <td>Uganda</td>\n",
              "      <td>2018</td>\n",
              "      <td>uniqueid_2116</td>\n",
              "      <td>No</td>\n",
              "      <td>Urban</td>\n",
              "      <td>Yes</td>\n",
              "      <td>7.0</td>\n",
              "      <td>30.0</td>\n",
              "      <td>Female</td>\n",
              "      <td>Parent</td>\n",
              "      <td>Divorced/Seperated</td>\n",
              "      <td>Secondary education</td>\n",
              "      <td>Self employed</td>\n",
              "    </tr>\n",
              "    <tr>\n",
              "      <th>23523</th>\n",
              "      <td>Uganda</td>\n",
              "      <td>2018</td>\n",
              "      <td>uniqueid_2117</td>\n",
              "      <td>No</td>\n",
              "      <td>Rural</td>\n",
              "      <td>Yes</td>\n",
              "      <td>10.0</td>\n",
              "      <td>20.0</td>\n",
              "      <td>Male</td>\n",
              "      <td>Child</td>\n",
              "      <td>Single/Never Married</td>\n",
              "      <td>Secondary education</td>\n",
              "      <td>No Income</td>\n",
              "    </tr>\n",
              "  </tbody>\n",
              "</table>\n",
              "<p>23524 rows × 13 columns</p>\n",
              "</div>\n",
              "      <button class=\"colab-df-convert\" onclick=\"convertToInteractive('df-abd29e19-8a89-4b81-9aa4-3219b45c7b89')\"\n",
              "              title=\"Convert this dataframe to an interactive table.\"\n",
              "              style=\"display:none;\">\n",
              "        \n",
              "  <svg xmlns=\"http://www.w3.org/2000/svg\" height=\"24px\"viewBox=\"0 0 24 24\"\n",
              "       width=\"24px\">\n",
              "    <path d=\"M0 0h24v24H0V0z\" fill=\"none\"/>\n",
              "    <path d=\"M18.56 5.44l.94 2.06.94-2.06 2.06-.94-2.06-.94-.94-2.06-.94 2.06-2.06.94zm-11 1L8.5 8.5l.94-2.06 2.06-.94-2.06-.94L8.5 2.5l-.94 2.06-2.06.94zm10 10l.94 2.06.94-2.06 2.06-.94-2.06-.94-.94-2.06-.94 2.06-2.06.94z\"/><path d=\"M17.41 7.96l-1.37-1.37c-.4-.4-.92-.59-1.43-.59-.52 0-1.04.2-1.43.59L10.3 9.45l-7.72 7.72c-.78.78-.78 2.05 0 2.83L4 21.41c.39.39.9.59 1.41.59.51 0 1.02-.2 1.41-.59l7.78-7.78 2.81-2.81c.8-.78.8-2.07 0-2.86zM5.41 20L4 18.59l7.72-7.72 1.47 1.35L5.41 20z\"/>\n",
              "  </svg>\n",
              "      </button>\n",
              "      \n",
              "  <style>\n",
              "    .colab-df-container {\n",
              "      display:flex;\n",
              "      flex-wrap:wrap;\n",
              "      gap: 12px;\n",
              "    }\n",
              "\n",
              "    .colab-df-convert {\n",
              "      background-color: #E8F0FE;\n",
              "      border: none;\n",
              "      border-radius: 50%;\n",
              "      cursor: pointer;\n",
              "      display: none;\n",
              "      fill: #1967D2;\n",
              "      height: 32px;\n",
              "      padding: 0 0 0 0;\n",
              "      width: 32px;\n",
              "    }\n",
              "\n",
              "    .colab-df-convert:hover {\n",
              "      background-color: #E2EBFA;\n",
              "      box-shadow: 0px 1px 2px rgba(60, 64, 67, 0.3), 0px 1px 3px 1px rgba(60, 64, 67, 0.15);\n",
              "      fill: #174EA6;\n",
              "    }\n",
              "\n",
              "    [theme=dark] .colab-df-convert {\n",
              "      background-color: #3B4455;\n",
              "      fill: #D2E3FC;\n",
              "    }\n",
              "\n",
              "    [theme=dark] .colab-df-convert:hover {\n",
              "      background-color: #434B5C;\n",
              "      box-shadow: 0px 1px 3px 1px rgba(0, 0, 0, 0.15);\n",
              "      filter: drop-shadow(0px 1px 2px rgba(0, 0, 0, 0.3));\n",
              "      fill: #FFFFFF;\n",
              "    }\n",
              "  </style>\n",
              "\n",
              "      <script>\n",
              "        const buttonEl =\n",
              "          document.querySelector('#df-abd29e19-8a89-4b81-9aa4-3219b45c7b89 button.colab-df-convert');\n",
              "        buttonEl.style.display =\n",
              "          google.colab.kernel.accessAllowed ? 'block' : 'none';\n",
              "\n",
              "        async function convertToInteractive(key) {\n",
              "          const element = document.querySelector('#df-abd29e19-8a89-4b81-9aa4-3219b45c7b89');\n",
              "          const dataTable =\n",
              "            await google.colab.kernel.invokeFunction('convertToInteractive',\n",
              "                                                     [key], {});\n",
              "          if (!dataTable) return;\n",
              "\n",
              "          const docLinkHtml = 'Like what you see? Visit the ' +\n",
              "            '<a target=\"_blank\" href=https://colab.research.google.com/notebooks/data_table.ipynb>data table notebook</a>'\n",
              "            + ' to learn more about interactive tables.';\n",
              "          element.innerHTML = '';\n",
              "          dataTable['output_type'] = 'display_data';\n",
              "          await google.colab.output.renderOutput(dataTable, element);\n",
              "          const docLink = document.createElement('div');\n",
              "          docLink.innerHTML = docLinkHtml;\n",
              "          element.appendChild(docLink);\n",
              "        }\n",
              "      </script>\n",
              "    </div>\n",
              "  </div>\n",
              "  "
            ]
          },
          "metadata": {},
          "execution_count": 1252
        }
      ]
    },
    {
      "cell_type": "code",
      "source": [
        "##Solving the missing values\n",
        "#\n",
        "EastAfrica_dataset_clean = EastAfrica_dataset.dropna(axis=0)\n",
        "EastAfrica_dataset_clean"
      ],
      "metadata": {
        "colab": {
          "base_uri": "https://localhost:8080/",
          "height": 679
        },
        "id": "a3oDRNh8k-a6",
        "outputId": "fefe6903-1ec1-4c8d-9de9-0b41f131ea58"
      },
      "execution_count": 1253,
      "outputs": [
        {
          "output_type": "execute_result",
          "data": {
            "text/plain": [
              "      country  year       uniqueid Has_a_Bank_account Type_of_Location  \\\n",
              "0       Kenya  2018     uniqueid_1                Yes            Rural   \n",
              "1       Kenya  2018     uniqueid_2                 No            Rural   \n",
              "2       Kenya  2018     uniqueid_3                Yes            Urban   \n",
              "3       Kenya  2018     uniqueid_4                 No            Rural   \n",
              "4       Kenya  2018     uniqueid_5                 No            Urban   \n",
              "...       ...   ...            ...                ...              ...   \n",
              "23519  Uganda  2018  uniqueid_2113                 No            Rural   \n",
              "23520  Uganda  2018  uniqueid_2114                 No            Rural   \n",
              "23521  Uganda  2018  uniqueid_2115                 No            Rural   \n",
              "23522  Uganda  2018  uniqueid_2116                 No            Urban   \n",
              "23523  Uganda  2018  uniqueid_2117                 No            Rural   \n",
              "\n",
              "      Cell_Phone_Access  household_size  Respondent_Age gender_of_respondent  \\\n",
              "0                   Yes             3.0            24.0               Female   \n",
              "1                    No             5.0            70.0               Female   \n",
              "2                   Yes             5.0            26.0                 Male   \n",
              "3                   Yes             5.0            34.0               Female   \n",
              "4                    No             8.0            26.0                 Male   \n",
              "...                 ...             ...             ...                  ...   \n",
              "23519               Yes             4.0            48.0               Female   \n",
              "23520               Yes             2.0            27.0               Female   \n",
              "23521               Yes             5.0            27.0               Female   \n",
              "23522               Yes             7.0            30.0               Female   \n",
              "23523               Yes            10.0            20.0                 Male   \n",
              "\n",
              "      Relationship_with_head           marital_status  \\\n",
              "0                     Spouse  Married/Living together   \n",
              "1          Head of Household                  Widowed   \n",
              "2             Other relative     Single/Never Married   \n",
              "3          Head of Household  Married/Living together   \n",
              "4                      Child     Single/Never Married   \n",
              "...                      ...                      ...   \n",
              "23519      Head of Household       Divorced/Seperated   \n",
              "23520      Head of Household     Single/Never Married   \n",
              "23521                 Parent                  Widowed   \n",
              "23522                 Parent       Divorced/Seperated   \n",
              "23523                  Child     Single/Never Married   \n",
              "\n",
              "                   Level_of_Educuation                Type_of_Job  \n",
              "0                  Secondary education              Self employed  \n",
              "1                  No formal education       Government Dependent  \n",
              "2      Vocational/Specialised training              Self employed  \n",
              "3                    Primary education  Formally employed Private  \n",
              "4                    Primary education        Informally employed  \n",
              "...                                ...                        ...  \n",
              "23519              No formal education               Other Income  \n",
              "23520              Secondary education               Other Income  \n",
              "23521                Primary education               Other Income  \n",
              "23522              Secondary education              Self employed  \n",
              "23523              Secondary education                  No Income  \n",
              "\n",
              "[23343 rows x 13 columns]"
            ],
            "text/html": [
              "\n",
              "  <div id=\"df-3518a631-f244-4840-a389-77c4de2ede69\">\n",
              "    <div class=\"colab-df-container\">\n",
              "      <div>\n",
              "<style scoped>\n",
              "    .dataframe tbody tr th:only-of-type {\n",
              "        vertical-align: middle;\n",
              "    }\n",
              "\n",
              "    .dataframe tbody tr th {\n",
              "        vertical-align: top;\n",
              "    }\n",
              "\n",
              "    .dataframe thead th {\n",
              "        text-align: right;\n",
              "    }\n",
              "</style>\n",
              "<table border=\"1\" class=\"dataframe\">\n",
              "  <thead>\n",
              "    <tr style=\"text-align: right;\">\n",
              "      <th></th>\n",
              "      <th>country</th>\n",
              "      <th>year</th>\n",
              "      <th>uniqueid</th>\n",
              "      <th>Has_a_Bank_account</th>\n",
              "      <th>Type_of_Location</th>\n",
              "      <th>Cell_Phone_Access</th>\n",
              "      <th>household_size</th>\n",
              "      <th>Respondent_Age</th>\n",
              "      <th>gender_of_respondent</th>\n",
              "      <th>Relationship_with_head</th>\n",
              "      <th>marital_status</th>\n",
              "      <th>Level_of_Educuation</th>\n",
              "      <th>Type_of_Job</th>\n",
              "    </tr>\n",
              "  </thead>\n",
              "  <tbody>\n",
              "    <tr>\n",
              "      <th>0</th>\n",
              "      <td>Kenya</td>\n",
              "      <td>2018</td>\n",
              "      <td>uniqueid_1</td>\n",
              "      <td>Yes</td>\n",
              "      <td>Rural</td>\n",
              "      <td>Yes</td>\n",
              "      <td>3.0</td>\n",
              "      <td>24.0</td>\n",
              "      <td>Female</td>\n",
              "      <td>Spouse</td>\n",
              "      <td>Married/Living together</td>\n",
              "      <td>Secondary education</td>\n",
              "      <td>Self employed</td>\n",
              "    </tr>\n",
              "    <tr>\n",
              "      <th>1</th>\n",
              "      <td>Kenya</td>\n",
              "      <td>2018</td>\n",
              "      <td>uniqueid_2</td>\n",
              "      <td>No</td>\n",
              "      <td>Rural</td>\n",
              "      <td>No</td>\n",
              "      <td>5.0</td>\n",
              "      <td>70.0</td>\n",
              "      <td>Female</td>\n",
              "      <td>Head of Household</td>\n",
              "      <td>Widowed</td>\n",
              "      <td>No formal education</td>\n",
              "      <td>Government Dependent</td>\n",
              "    </tr>\n",
              "    <tr>\n",
              "      <th>2</th>\n",
              "      <td>Kenya</td>\n",
              "      <td>2018</td>\n",
              "      <td>uniqueid_3</td>\n",
              "      <td>Yes</td>\n",
              "      <td>Urban</td>\n",
              "      <td>Yes</td>\n",
              "      <td>5.0</td>\n",
              "      <td>26.0</td>\n",
              "      <td>Male</td>\n",
              "      <td>Other relative</td>\n",
              "      <td>Single/Never Married</td>\n",
              "      <td>Vocational/Specialised training</td>\n",
              "      <td>Self employed</td>\n",
              "    </tr>\n",
              "    <tr>\n",
              "      <th>3</th>\n",
              "      <td>Kenya</td>\n",
              "      <td>2018</td>\n",
              "      <td>uniqueid_4</td>\n",
              "      <td>No</td>\n",
              "      <td>Rural</td>\n",
              "      <td>Yes</td>\n",
              "      <td>5.0</td>\n",
              "      <td>34.0</td>\n",
              "      <td>Female</td>\n",
              "      <td>Head of Household</td>\n",
              "      <td>Married/Living together</td>\n",
              "      <td>Primary education</td>\n",
              "      <td>Formally employed Private</td>\n",
              "    </tr>\n",
              "    <tr>\n",
              "      <th>4</th>\n",
              "      <td>Kenya</td>\n",
              "      <td>2018</td>\n",
              "      <td>uniqueid_5</td>\n",
              "      <td>No</td>\n",
              "      <td>Urban</td>\n",
              "      <td>No</td>\n",
              "      <td>8.0</td>\n",
              "      <td>26.0</td>\n",
              "      <td>Male</td>\n",
              "      <td>Child</td>\n",
              "      <td>Single/Never Married</td>\n",
              "      <td>Primary education</td>\n",
              "      <td>Informally employed</td>\n",
              "    </tr>\n",
              "    <tr>\n",
              "      <th>...</th>\n",
              "      <td>...</td>\n",
              "      <td>...</td>\n",
              "      <td>...</td>\n",
              "      <td>...</td>\n",
              "      <td>...</td>\n",
              "      <td>...</td>\n",
              "      <td>...</td>\n",
              "      <td>...</td>\n",
              "      <td>...</td>\n",
              "      <td>...</td>\n",
              "      <td>...</td>\n",
              "      <td>...</td>\n",
              "      <td>...</td>\n",
              "    </tr>\n",
              "    <tr>\n",
              "      <th>23519</th>\n",
              "      <td>Uganda</td>\n",
              "      <td>2018</td>\n",
              "      <td>uniqueid_2113</td>\n",
              "      <td>No</td>\n",
              "      <td>Rural</td>\n",
              "      <td>Yes</td>\n",
              "      <td>4.0</td>\n",
              "      <td>48.0</td>\n",
              "      <td>Female</td>\n",
              "      <td>Head of Household</td>\n",
              "      <td>Divorced/Seperated</td>\n",
              "      <td>No formal education</td>\n",
              "      <td>Other Income</td>\n",
              "    </tr>\n",
              "    <tr>\n",
              "      <th>23520</th>\n",
              "      <td>Uganda</td>\n",
              "      <td>2018</td>\n",
              "      <td>uniqueid_2114</td>\n",
              "      <td>No</td>\n",
              "      <td>Rural</td>\n",
              "      <td>Yes</td>\n",
              "      <td>2.0</td>\n",
              "      <td>27.0</td>\n",
              "      <td>Female</td>\n",
              "      <td>Head of Household</td>\n",
              "      <td>Single/Never Married</td>\n",
              "      <td>Secondary education</td>\n",
              "      <td>Other Income</td>\n",
              "    </tr>\n",
              "    <tr>\n",
              "      <th>23521</th>\n",
              "      <td>Uganda</td>\n",
              "      <td>2018</td>\n",
              "      <td>uniqueid_2115</td>\n",
              "      <td>No</td>\n",
              "      <td>Rural</td>\n",
              "      <td>Yes</td>\n",
              "      <td>5.0</td>\n",
              "      <td>27.0</td>\n",
              "      <td>Female</td>\n",
              "      <td>Parent</td>\n",
              "      <td>Widowed</td>\n",
              "      <td>Primary education</td>\n",
              "      <td>Other Income</td>\n",
              "    </tr>\n",
              "    <tr>\n",
              "      <th>23522</th>\n",
              "      <td>Uganda</td>\n",
              "      <td>2018</td>\n",
              "      <td>uniqueid_2116</td>\n",
              "      <td>No</td>\n",
              "      <td>Urban</td>\n",
              "      <td>Yes</td>\n",
              "      <td>7.0</td>\n",
              "      <td>30.0</td>\n",
              "      <td>Female</td>\n",
              "      <td>Parent</td>\n",
              "      <td>Divorced/Seperated</td>\n",
              "      <td>Secondary education</td>\n",
              "      <td>Self employed</td>\n",
              "    </tr>\n",
              "    <tr>\n",
              "      <th>23523</th>\n",
              "      <td>Uganda</td>\n",
              "      <td>2018</td>\n",
              "      <td>uniqueid_2117</td>\n",
              "      <td>No</td>\n",
              "      <td>Rural</td>\n",
              "      <td>Yes</td>\n",
              "      <td>10.0</td>\n",
              "      <td>20.0</td>\n",
              "      <td>Male</td>\n",
              "      <td>Child</td>\n",
              "      <td>Single/Never Married</td>\n",
              "      <td>Secondary education</td>\n",
              "      <td>No Income</td>\n",
              "    </tr>\n",
              "  </tbody>\n",
              "</table>\n",
              "<p>23343 rows × 13 columns</p>\n",
              "</div>\n",
              "      <button class=\"colab-df-convert\" onclick=\"convertToInteractive('df-3518a631-f244-4840-a389-77c4de2ede69')\"\n",
              "              title=\"Convert this dataframe to an interactive table.\"\n",
              "              style=\"display:none;\">\n",
              "        \n",
              "  <svg xmlns=\"http://www.w3.org/2000/svg\" height=\"24px\"viewBox=\"0 0 24 24\"\n",
              "       width=\"24px\">\n",
              "    <path d=\"M0 0h24v24H0V0z\" fill=\"none\"/>\n",
              "    <path d=\"M18.56 5.44l.94 2.06.94-2.06 2.06-.94-2.06-.94-.94-2.06-.94 2.06-2.06.94zm-11 1L8.5 8.5l.94-2.06 2.06-.94-2.06-.94L8.5 2.5l-.94 2.06-2.06.94zm10 10l.94 2.06.94-2.06 2.06-.94-2.06-.94-.94-2.06-.94 2.06-2.06.94z\"/><path d=\"M17.41 7.96l-1.37-1.37c-.4-.4-.92-.59-1.43-.59-.52 0-1.04.2-1.43.59L10.3 9.45l-7.72 7.72c-.78.78-.78 2.05 0 2.83L4 21.41c.39.39.9.59 1.41.59.51 0 1.02-.2 1.41-.59l7.78-7.78 2.81-2.81c.8-.78.8-2.07 0-2.86zM5.41 20L4 18.59l7.72-7.72 1.47 1.35L5.41 20z\"/>\n",
              "  </svg>\n",
              "      </button>\n",
              "      \n",
              "  <style>\n",
              "    .colab-df-container {\n",
              "      display:flex;\n",
              "      flex-wrap:wrap;\n",
              "      gap: 12px;\n",
              "    }\n",
              "\n",
              "    .colab-df-convert {\n",
              "      background-color: #E8F0FE;\n",
              "      border: none;\n",
              "      border-radius: 50%;\n",
              "      cursor: pointer;\n",
              "      display: none;\n",
              "      fill: #1967D2;\n",
              "      height: 32px;\n",
              "      padding: 0 0 0 0;\n",
              "      width: 32px;\n",
              "    }\n",
              "\n",
              "    .colab-df-convert:hover {\n",
              "      background-color: #E2EBFA;\n",
              "      box-shadow: 0px 1px 2px rgba(60, 64, 67, 0.3), 0px 1px 3px 1px rgba(60, 64, 67, 0.15);\n",
              "      fill: #174EA6;\n",
              "    }\n",
              "\n",
              "    [theme=dark] .colab-df-convert {\n",
              "      background-color: #3B4455;\n",
              "      fill: #D2E3FC;\n",
              "    }\n",
              "\n",
              "    [theme=dark] .colab-df-convert:hover {\n",
              "      background-color: #434B5C;\n",
              "      box-shadow: 0px 1px 3px 1px rgba(0, 0, 0, 0.15);\n",
              "      filter: drop-shadow(0px 1px 2px rgba(0, 0, 0, 0.3));\n",
              "      fill: #FFFFFF;\n",
              "    }\n",
              "  </style>\n",
              "\n",
              "      <script>\n",
              "        const buttonEl =\n",
              "          document.querySelector('#df-3518a631-f244-4840-a389-77c4de2ede69 button.colab-df-convert');\n",
              "        buttonEl.style.display =\n",
              "          google.colab.kernel.accessAllowed ? 'block' : 'none';\n",
              "\n",
              "        async function convertToInteractive(key) {\n",
              "          const element = document.querySelector('#df-3518a631-f244-4840-a389-77c4de2ede69');\n",
              "          const dataTable =\n",
              "            await google.colab.kernel.invokeFunction('convertToInteractive',\n",
              "                                                     [key], {});\n",
              "          if (!dataTable) return;\n",
              "\n",
              "          const docLinkHtml = 'Like what you see? Visit the ' +\n",
              "            '<a target=\"_blank\" href=https://colab.research.google.com/notebooks/data_table.ipynb>data table notebook</a>'\n",
              "            + ' to learn more about interactive tables.';\n",
              "          element.innerHTML = '';\n",
              "          dataTable['output_type'] = 'display_data';\n",
              "          await google.colab.output.renderOutput(dataTable, element);\n",
              "          const docLink = document.createElement('div');\n",
              "          docLink.innerHTML = docLinkHtml;\n",
              "          element.appendChild(docLink);\n",
              "        }\n",
              "      </script>\n",
              "    </div>\n",
              "  </div>\n",
              "  "
            ]
          },
          "metadata": {},
          "execution_count": 1253
        }
      ]
    },
    {
      "cell_type": "markdown",
      "source": [
        "Since the content if deleted won't affect the output too much, I have chosen to drop the rows with missing data.\n",
        "The number of rows are still many and enough."
      ],
      "metadata": {
        "id": "dQ21YzYurDJ3"
      }
    },
    {
      "cell_type": "code",
      "source": [
        "EastAfrica_dataset_clean.shape"
      ],
      "metadata": {
        "colab": {
          "base_uri": "https://localhost:8080/"
        },
        "id": "tlwR0mlJrpXy",
        "outputId": "1da24ac4-c53f-43f7-a212-f111b4204911"
      },
      "execution_count": 1254,
      "outputs": [
        {
          "output_type": "execute_result",
          "data": {
            "text/plain": [
              "(23343, 13)"
            ]
          },
          "metadata": {},
          "execution_count": 1254
        }
      ]
    },
    {
      "cell_type": "code",
      "source": [
        "EastAfrica_dataset_clean.info()"
      ],
      "metadata": {
        "colab": {
          "base_uri": "https://localhost:8080/"
        },
        "id": "Ul8bzu68qnm-",
        "outputId": "083032be-830e-4852-dfcf-a41bd6469742"
      },
      "execution_count": 1255,
      "outputs": [
        {
          "output_type": "stream",
          "name": "stdout",
          "text": [
            "<class 'pandas.core.frame.DataFrame'>\n",
            "Int64Index: 23343 entries, 0 to 23523\n",
            "Data columns (total 13 columns):\n",
            " #   Column                  Non-Null Count  Dtype  \n",
            "---  ------                  --------------  -----  \n",
            " 0   country                 23343 non-null  object \n",
            " 1   year                    23343 non-null  int64  \n",
            " 2   uniqueid                23343 non-null  object \n",
            " 3   Has_a_Bank_account      23343 non-null  object \n",
            " 4   Type_of_Location        23343 non-null  object \n",
            " 5   Cell_Phone_Access       23343 non-null  object \n",
            " 6   household_size          23343 non-null  float64\n",
            " 7   Respondent_Age          23343 non-null  float64\n",
            " 8   gender_of_respondent    23343 non-null  object \n",
            " 9   Relationship_with_head  23343 non-null  object \n",
            " 10  marital_status          23343 non-null  object \n",
            " 11  Level_of_Educuation     23343 non-null  object \n",
            " 12  Type_of_Job             23343 non-null  object \n",
            "dtypes: float64(2), int64(1), object(10)\n",
            "memory usage: 2.5+ MB\n"
          ]
        }
      ]
    },
    {
      "cell_type": "code",
      "source": [
        "EastAfrica_dataset_clean.isnull().any()"
      ],
      "metadata": {
        "colab": {
          "base_uri": "https://localhost:8080/"
        },
        "id": "fPB9wU2ZqyGF",
        "outputId": "250b1899-6f50-44d7-ef79-f6797573479c"
      },
      "execution_count": 1256,
      "outputs": [
        {
          "output_type": "execute_result",
          "data": {
            "text/plain": [
              "country                   False\n",
              "year                      False\n",
              "uniqueid                  False\n",
              "Has_a_Bank_account        False\n",
              "Type_of_Location          False\n",
              "Cell_Phone_Access         False\n",
              "household_size            False\n",
              "Respondent_Age            False\n",
              "gender_of_respondent      False\n",
              "Relationship_with_head    False\n",
              "marital_status            False\n",
              "Level_of_Educuation       False\n",
              "Type_of_Job               False\n",
              "dtype: bool"
            ]
          },
          "metadata": {},
          "execution_count": 1256
        }
      ]
    },
    {
      "cell_type": "code",
      "source": [
        "EastAfrica_dataset_clean.shape"
      ],
      "metadata": {
        "colab": {
          "base_uri": "https://localhost:8080/"
        },
        "id": "o2sw5hB8INsc",
        "outputId": "0ce8653a-0e1d-4f2c-f63c-4e5470b0736a"
      },
      "execution_count": 1257,
      "outputs": [
        {
          "output_type": "execute_result",
          "data": {
            "text/plain": [
              "(23343, 13)"
            ]
          },
          "metadata": {},
          "execution_count": 1257
        }
      ]
    },
    {
      "cell_type": "markdown",
      "source": [
        "There is no missing data "
      ],
      "metadata": {
        "id": "-71vJ2OQHzRA"
      }
    },
    {
      "cell_type": "code",
      "source": [
        "EastAfrica_dataset_clean[\"Type_of_Location\"].unique()\n"
      ],
      "metadata": {
        "colab": {
          "base_uri": "https://localhost:8080/"
        },
        "id": "5fBghFbiIVHK",
        "outputId": "2e9c3cdc-090c-458b-f073-6b6435a90dca"
      },
      "execution_count": 1258,
      "outputs": [
        {
          "output_type": "execute_result",
          "data": {
            "text/plain": [
              "array(['Rural', 'Urban'], dtype=object)"
            ]
          },
          "metadata": {},
          "execution_count": 1258
        }
      ]
    },
    {
      "cell_type": "code",
      "source": [
        "EastAfrica_dataset_clean[\"country\"].unique()"
      ],
      "metadata": {
        "colab": {
          "base_uri": "https://localhost:8080/"
        },
        "id": "PlwgI2XGIoqE",
        "outputId": "06b1664a-0974-4481-833e-06316b1b71e3"
      },
      "execution_count": 1259,
      "outputs": [
        {
          "output_type": "execute_result",
          "data": {
            "text/plain": [
              "array(['Kenya', 'Rwanda', 'Tanzania', 'Uganda'], dtype=object)"
            ]
          },
          "metadata": {},
          "execution_count": 1259
        }
      ]
    },
    {
      "cell_type": "code",
      "source": [
        "EastAfrica_dataset_clean[\"gender_of_respondent\"].unique()"
      ],
      "metadata": {
        "colab": {
          "base_uri": "https://localhost:8080/"
        },
        "id": "_54ijvjBJk2h",
        "outputId": "3787f69e-4185-48ea-bba8-fc766e4a2e64"
      },
      "execution_count": 1260,
      "outputs": [
        {
          "output_type": "execute_result",
          "data": {
            "text/plain": [
              "array(['Female', 'Male'], dtype=object)"
            ]
          },
          "metadata": {},
          "execution_count": 1260
        }
      ]
    },
    {
      "cell_type": "code",
      "source": [
        "EastAfrica_dataset_clean[\"Cell_Phone_Access\"].unique()"
      ],
      "metadata": {
        "colab": {
          "base_uri": "https://localhost:8080/"
        },
        "id": "WOd2Xc_fJsR5",
        "outputId": "f7c8cc24-c335-4375-d78d-2571d4c1f541"
      },
      "execution_count": 1261,
      "outputs": [
        {
          "output_type": "execute_result",
          "data": {
            "text/plain": [
              "array(['Yes', 'No'], dtype=object)"
            ]
          },
          "metadata": {},
          "execution_count": 1261
        }
      ]
    },
    {
      "cell_type": "code",
      "source": [
        "EastAfrica_dataset_clean[\"gender_of_respondent\"].unique()"
      ],
      "metadata": {
        "colab": {
          "base_uri": "https://localhost:8080/"
        },
        "id": "tSiyWApQ-K39",
        "outputId": "449d6536-c9eb-49a4-e62b-045e22843e01"
      },
      "execution_count": 1262,
      "outputs": [
        {
          "output_type": "execute_result",
          "data": {
            "text/plain": [
              "array(['Female', 'Male'], dtype=object)"
            ]
          },
          "metadata": {},
          "execution_count": 1262
        }
      ]
    },
    {
      "cell_type": "code",
      "source": [
        "EastAfrica_dataset_clean[\"Relationship_with_head\"].unique()"
      ],
      "metadata": {
        "colab": {
          "base_uri": "https://localhost:8080/"
        },
        "id": "Sy9JLU5u-Th_",
        "outputId": "8dec4871-6fbb-4bad-ba02-0982d6663b70"
      },
      "execution_count": 1263,
      "outputs": [
        {
          "output_type": "execute_result",
          "data": {
            "text/plain": [
              "array(['Spouse', 'Head of Household', 'Other relative', 'Child', 'Parent',\n",
              "       'Other non-relatives'], dtype=object)"
            ]
          },
          "metadata": {},
          "execution_count": 1263
        }
      ]
    },
    {
      "cell_type": "code",
      "source": [
        "EastAfrica_dataset_clean[\"marital_status\"].unique()"
      ],
      "metadata": {
        "colab": {
          "base_uri": "https://localhost:8080/"
        },
        "id": "UwLZ0jqN-dhE",
        "outputId": "87e442fd-541e-49bf-b48e-3a4494c481d2"
      },
      "execution_count": 1264,
      "outputs": [
        {
          "output_type": "execute_result",
          "data": {
            "text/plain": [
              "array(['Married/Living together', 'Widowed', 'Single/Never Married',\n",
              "       'Divorced/Seperated', 'Dont know'], dtype=object)"
            ]
          },
          "metadata": {},
          "execution_count": 1264
        }
      ]
    },
    {
      "cell_type": "code",
      "source": [
        "EastAfrica_dataset_clean[\"Level_of_Educuation\"].unique()"
      ],
      "metadata": {
        "colab": {
          "base_uri": "https://localhost:8080/"
        },
        "id": "RizVECxD-l0X",
        "outputId": "196eb161-4424-4558-fdc9-6b350515cdac"
      },
      "execution_count": 1265,
      "outputs": [
        {
          "output_type": "execute_result",
          "data": {
            "text/plain": [
              "array(['Secondary education', 'No formal education',\n",
              "       'Vocational/Specialised training', 'Primary education',\n",
              "       'Tertiary education', 'Other/Dont know/RTA', '6'], dtype=object)"
            ]
          },
          "metadata": {},
          "execution_count": 1265
        }
      ]
    },
    {
      "cell_type": "code",
      "source": [
        "EastAfrica_dataset_clean[\"Type_of_Job\"].unique()"
      ],
      "metadata": {
        "colab": {
          "base_uri": "https://localhost:8080/"
        },
        "id": "kmXQp04o-v0n",
        "outputId": "ce0f0586-d885-4522-8a24-9e5bb0968a28"
      },
      "execution_count": 1266,
      "outputs": [
        {
          "output_type": "execute_result",
          "data": {
            "text/plain": [
              "array(['Self employed', 'Government Dependent',\n",
              "       'Formally employed Private', 'Informally employed',\n",
              "       'Formally employed Government', 'Farming and Fishing',\n",
              "       'Remittance Dependent', 'Other Income',\n",
              "       'Dont Know/Refuse to answer', 'No Income'], dtype=object)"
            ]
          },
          "metadata": {},
          "execution_count": 1266
        }
      ]
    },
    {
      "cell_type": "code",
      "source": [
        "#Dropping uniqueid column\n",
        "EastAfrica_dataset_clean_new = EastAfrica_dataset_clean.drop(['uniqueid'], axis=1)"
      ],
      "metadata": {
        "id": "2J_CoSvgEQw0"
      },
      "execution_count": 1267,
      "outputs": []
    },
    {
      "cell_type": "code",
      "source": [
        "#Viewing the data again\n",
        "EastAfrica_dataset_clean_new.head(5)"
      ],
      "metadata": {
        "colab": {
          "base_uri": "https://localhost:8080/",
          "height": 374
        },
        "id": "Nt43V5ZVEenT",
        "outputId": "cb3e58cf-92d2-45ee-ad40-29b38228784a"
      },
      "execution_count": 1268,
      "outputs": [
        {
          "output_type": "execute_result",
          "data": {
            "text/plain": [
              "  country  year Has_a_Bank_account Type_of_Location Cell_Phone_Access  \\\n",
              "0   Kenya  2018                Yes            Rural               Yes   \n",
              "1   Kenya  2018                 No            Rural                No   \n",
              "2   Kenya  2018                Yes            Urban               Yes   \n",
              "3   Kenya  2018                 No            Rural               Yes   \n",
              "4   Kenya  2018                 No            Urban                No   \n",
              "\n",
              "   household_size  Respondent_Age gender_of_respondent Relationship_with_head  \\\n",
              "0             3.0            24.0               Female                 Spouse   \n",
              "1             5.0            70.0               Female      Head of Household   \n",
              "2             5.0            26.0                 Male         Other relative   \n",
              "3             5.0            34.0               Female      Head of Household   \n",
              "4             8.0            26.0                 Male                  Child   \n",
              "\n",
              "            marital_status              Level_of_Educuation  \\\n",
              "0  Married/Living together              Secondary education   \n",
              "1                  Widowed              No formal education   \n",
              "2     Single/Never Married  Vocational/Specialised training   \n",
              "3  Married/Living together                Primary education   \n",
              "4     Single/Never Married                Primary education   \n",
              "\n",
              "                 Type_of_Job  \n",
              "0              Self employed  \n",
              "1       Government Dependent  \n",
              "2              Self employed  \n",
              "3  Formally employed Private  \n",
              "4        Informally employed  "
            ],
            "text/html": [
              "\n",
              "  <div id=\"df-06d7c954-51b6-413b-8d50-381762b76d18\">\n",
              "    <div class=\"colab-df-container\">\n",
              "      <div>\n",
              "<style scoped>\n",
              "    .dataframe tbody tr th:only-of-type {\n",
              "        vertical-align: middle;\n",
              "    }\n",
              "\n",
              "    .dataframe tbody tr th {\n",
              "        vertical-align: top;\n",
              "    }\n",
              "\n",
              "    .dataframe thead th {\n",
              "        text-align: right;\n",
              "    }\n",
              "</style>\n",
              "<table border=\"1\" class=\"dataframe\">\n",
              "  <thead>\n",
              "    <tr style=\"text-align: right;\">\n",
              "      <th></th>\n",
              "      <th>country</th>\n",
              "      <th>year</th>\n",
              "      <th>Has_a_Bank_account</th>\n",
              "      <th>Type_of_Location</th>\n",
              "      <th>Cell_Phone_Access</th>\n",
              "      <th>household_size</th>\n",
              "      <th>Respondent_Age</th>\n",
              "      <th>gender_of_respondent</th>\n",
              "      <th>Relationship_with_head</th>\n",
              "      <th>marital_status</th>\n",
              "      <th>Level_of_Educuation</th>\n",
              "      <th>Type_of_Job</th>\n",
              "    </tr>\n",
              "  </thead>\n",
              "  <tbody>\n",
              "    <tr>\n",
              "      <th>0</th>\n",
              "      <td>Kenya</td>\n",
              "      <td>2018</td>\n",
              "      <td>Yes</td>\n",
              "      <td>Rural</td>\n",
              "      <td>Yes</td>\n",
              "      <td>3.0</td>\n",
              "      <td>24.0</td>\n",
              "      <td>Female</td>\n",
              "      <td>Spouse</td>\n",
              "      <td>Married/Living together</td>\n",
              "      <td>Secondary education</td>\n",
              "      <td>Self employed</td>\n",
              "    </tr>\n",
              "    <tr>\n",
              "      <th>1</th>\n",
              "      <td>Kenya</td>\n",
              "      <td>2018</td>\n",
              "      <td>No</td>\n",
              "      <td>Rural</td>\n",
              "      <td>No</td>\n",
              "      <td>5.0</td>\n",
              "      <td>70.0</td>\n",
              "      <td>Female</td>\n",
              "      <td>Head of Household</td>\n",
              "      <td>Widowed</td>\n",
              "      <td>No formal education</td>\n",
              "      <td>Government Dependent</td>\n",
              "    </tr>\n",
              "    <tr>\n",
              "      <th>2</th>\n",
              "      <td>Kenya</td>\n",
              "      <td>2018</td>\n",
              "      <td>Yes</td>\n",
              "      <td>Urban</td>\n",
              "      <td>Yes</td>\n",
              "      <td>5.0</td>\n",
              "      <td>26.0</td>\n",
              "      <td>Male</td>\n",
              "      <td>Other relative</td>\n",
              "      <td>Single/Never Married</td>\n",
              "      <td>Vocational/Specialised training</td>\n",
              "      <td>Self employed</td>\n",
              "    </tr>\n",
              "    <tr>\n",
              "      <th>3</th>\n",
              "      <td>Kenya</td>\n",
              "      <td>2018</td>\n",
              "      <td>No</td>\n",
              "      <td>Rural</td>\n",
              "      <td>Yes</td>\n",
              "      <td>5.0</td>\n",
              "      <td>34.0</td>\n",
              "      <td>Female</td>\n",
              "      <td>Head of Household</td>\n",
              "      <td>Married/Living together</td>\n",
              "      <td>Primary education</td>\n",
              "      <td>Formally employed Private</td>\n",
              "    </tr>\n",
              "    <tr>\n",
              "      <th>4</th>\n",
              "      <td>Kenya</td>\n",
              "      <td>2018</td>\n",
              "      <td>No</td>\n",
              "      <td>Urban</td>\n",
              "      <td>No</td>\n",
              "      <td>8.0</td>\n",
              "      <td>26.0</td>\n",
              "      <td>Male</td>\n",
              "      <td>Child</td>\n",
              "      <td>Single/Never Married</td>\n",
              "      <td>Primary education</td>\n",
              "      <td>Informally employed</td>\n",
              "    </tr>\n",
              "  </tbody>\n",
              "</table>\n",
              "</div>\n",
              "      <button class=\"colab-df-convert\" onclick=\"convertToInteractive('df-06d7c954-51b6-413b-8d50-381762b76d18')\"\n",
              "              title=\"Convert this dataframe to an interactive table.\"\n",
              "              style=\"display:none;\">\n",
              "        \n",
              "  <svg xmlns=\"http://www.w3.org/2000/svg\" height=\"24px\"viewBox=\"0 0 24 24\"\n",
              "       width=\"24px\">\n",
              "    <path d=\"M0 0h24v24H0V0z\" fill=\"none\"/>\n",
              "    <path d=\"M18.56 5.44l.94 2.06.94-2.06 2.06-.94-2.06-.94-.94-2.06-.94 2.06-2.06.94zm-11 1L8.5 8.5l.94-2.06 2.06-.94-2.06-.94L8.5 2.5l-.94 2.06-2.06.94zm10 10l.94 2.06.94-2.06 2.06-.94-2.06-.94-.94-2.06-.94 2.06-2.06.94z\"/><path d=\"M17.41 7.96l-1.37-1.37c-.4-.4-.92-.59-1.43-.59-.52 0-1.04.2-1.43.59L10.3 9.45l-7.72 7.72c-.78.78-.78 2.05 0 2.83L4 21.41c.39.39.9.59 1.41.59.51 0 1.02-.2 1.41-.59l7.78-7.78 2.81-2.81c.8-.78.8-2.07 0-2.86zM5.41 20L4 18.59l7.72-7.72 1.47 1.35L5.41 20z\"/>\n",
              "  </svg>\n",
              "      </button>\n",
              "      \n",
              "  <style>\n",
              "    .colab-df-container {\n",
              "      display:flex;\n",
              "      flex-wrap:wrap;\n",
              "      gap: 12px;\n",
              "    }\n",
              "\n",
              "    .colab-df-convert {\n",
              "      background-color: #E8F0FE;\n",
              "      border: none;\n",
              "      border-radius: 50%;\n",
              "      cursor: pointer;\n",
              "      display: none;\n",
              "      fill: #1967D2;\n",
              "      height: 32px;\n",
              "      padding: 0 0 0 0;\n",
              "      width: 32px;\n",
              "    }\n",
              "\n",
              "    .colab-df-convert:hover {\n",
              "      background-color: #E2EBFA;\n",
              "      box-shadow: 0px 1px 2px rgba(60, 64, 67, 0.3), 0px 1px 3px 1px rgba(60, 64, 67, 0.15);\n",
              "      fill: #174EA6;\n",
              "    }\n",
              "\n",
              "    [theme=dark] .colab-df-convert {\n",
              "      background-color: #3B4455;\n",
              "      fill: #D2E3FC;\n",
              "    }\n",
              "\n",
              "    [theme=dark] .colab-df-convert:hover {\n",
              "      background-color: #434B5C;\n",
              "      box-shadow: 0px 1px 3px 1px rgba(0, 0, 0, 0.15);\n",
              "      filter: drop-shadow(0px 1px 2px rgba(0, 0, 0, 0.3));\n",
              "      fill: #FFFFFF;\n",
              "    }\n",
              "  </style>\n",
              "\n",
              "      <script>\n",
              "        const buttonEl =\n",
              "          document.querySelector('#df-06d7c954-51b6-413b-8d50-381762b76d18 button.colab-df-convert');\n",
              "        buttonEl.style.display =\n",
              "          google.colab.kernel.accessAllowed ? 'block' : 'none';\n",
              "\n",
              "        async function convertToInteractive(key) {\n",
              "          const element = document.querySelector('#df-06d7c954-51b6-413b-8d50-381762b76d18');\n",
              "          const dataTable =\n",
              "            await google.colab.kernel.invokeFunction('convertToInteractive',\n",
              "                                                     [key], {});\n",
              "          if (!dataTable) return;\n",
              "\n",
              "          const docLinkHtml = 'Like what you see? Visit the ' +\n",
              "            '<a target=\"_blank\" href=https://colab.research.google.com/notebooks/data_table.ipynb>data table notebook</a>'\n",
              "            + ' to learn more about interactive tables.';\n",
              "          element.innerHTML = '';\n",
              "          dataTable['output_type'] = 'display_data';\n",
              "          await google.colab.output.renderOutput(dataTable, element);\n",
              "          const docLink = document.createElement('div');\n",
              "          docLink.innerHTML = docLinkHtml;\n",
              "          element.appendChild(docLink);\n",
              "        }\n",
              "      </script>\n",
              "    </div>\n",
              "  </div>\n",
              "  "
            ]
          },
          "metadata": {},
          "execution_count": 1268
        }
      ]
    },
    {
      "cell_type": "code",
      "source": [
        "EastAfrica_dataset_clean_new.tail(5)"
      ],
      "metadata": {
        "colab": {
          "base_uri": "https://localhost:8080/",
          "height": 357
        },
        "id": "057n8mbyEwYe",
        "outputId": "38d2d52c-d5ea-4ff6-88e8-ccb92c29c4b2"
      },
      "execution_count": 1269,
      "outputs": [
        {
          "output_type": "execute_result",
          "data": {
            "text/plain": [
              "      country  year Has_a_Bank_account Type_of_Location Cell_Phone_Access  \\\n",
              "23519  Uganda  2018                 No            Rural               Yes   \n",
              "23520  Uganda  2018                 No            Rural               Yes   \n",
              "23521  Uganda  2018                 No            Rural               Yes   \n",
              "23522  Uganda  2018                 No            Urban               Yes   \n",
              "23523  Uganda  2018                 No            Rural               Yes   \n",
              "\n",
              "       household_size  Respondent_Age gender_of_respondent  \\\n",
              "23519             4.0            48.0               Female   \n",
              "23520             2.0            27.0               Female   \n",
              "23521             5.0            27.0               Female   \n",
              "23522             7.0            30.0               Female   \n",
              "23523            10.0            20.0                 Male   \n",
              "\n",
              "      Relationship_with_head        marital_status  Level_of_Educuation  \\\n",
              "23519      Head of Household    Divorced/Seperated  No formal education   \n",
              "23520      Head of Household  Single/Never Married  Secondary education   \n",
              "23521                 Parent               Widowed    Primary education   \n",
              "23522                 Parent    Divorced/Seperated  Secondary education   \n",
              "23523                  Child  Single/Never Married  Secondary education   \n",
              "\n",
              "         Type_of_Job  \n",
              "23519   Other Income  \n",
              "23520   Other Income  \n",
              "23521   Other Income  \n",
              "23522  Self employed  \n",
              "23523      No Income  "
            ],
            "text/html": [
              "\n",
              "  <div id=\"df-b011e524-3ac3-48fa-82d2-511906ad94cb\">\n",
              "    <div class=\"colab-df-container\">\n",
              "      <div>\n",
              "<style scoped>\n",
              "    .dataframe tbody tr th:only-of-type {\n",
              "        vertical-align: middle;\n",
              "    }\n",
              "\n",
              "    .dataframe tbody tr th {\n",
              "        vertical-align: top;\n",
              "    }\n",
              "\n",
              "    .dataframe thead th {\n",
              "        text-align: right;\n",
              "    }\n",
              "</style>\n",
              "<table border=\"1\" class=\"dataframe\">\n",
              "  <thead>\n",
              "    <tr style=\"text-align: right;\">\n",
              "      <th></th>\n",
              "      <th>country</th>\n",
              "      <th>year</th>\n",
              "      <th>Has_a_Bank_account</th>\n",
              "      <th>Type_of_Location</th>\n",
              "      <th>Cell_Phone_Access</th>\n",
              "      <th>household_size</th>\n",
              "      <th>Respondent_Age</th>\n",
              "      <th>gender_of_respondent</th>\n",
              "      <th>Relationship_with_head</th>\n",
              "      <th>marital_status</th>\n",
              "      <th>Level_of_Educuation</th>\n",
              "      <th>Type_of_Job</th>\n",
              "    </tr>\n",
              "  </thead>\n",
              "  <tbody>\n",
              "    <tr>\n",
              "      <th>23519</th>\n",
              "      <td>Uganda</td>\n",
              "      <td>2018</td>\n",
              "      <td>No</td>\n",
              "      <td>Rural</td>\n",
              "      <td>Yes</td>\n",
              "      <td>4.0</td>\n",
              "      <td>48.0</td>\n",
              "      <td>Female</td>\n",
              "      <td>Head of Household</td>\n",
              "      <td>Divorced/Seperated</td>\n",
              "      <td>No formal education</td>\n",
              "      <td>Other Income</td>\n",
              "    </tr>\n",
              "    <tr>\n",
              "      <th>23520</th>\n",
              "      <td>Uganda</td>\n",
              "      <td>2018</td>\n",
              "      <td>No</td>\n",
              "      <td>Rural</td>\n",
              "      <td>Yes</td>\n",
              "      <td>2.0</td>\n",
              "      <td>27.0</td>\n",
              "      <td>Female</td>\n",
              "      <td>Head of Household</td>\n",
              "      <td>Single/Never Married</td>\n",
              "      <td>Secondary education</td>\n",
              "      <td>Other Income</td>\n",
              "    </tr>\n",
              "    <tr>\n",
              "      <th>23521</th>\n",
              "      <td>Uganda</td>\n",
              "      <td>2018</td>\n",
              "      <td>No</td>\n",
              "      <td>Rural</td>\n",
              "      <td>Yes</td>\n",
              "      <td>5.0</td>\n",
              "      <td>27.0</td>\n",
              "      <td>Female</td>\n",
              "      <td>Parent</td>\n",
              "      <td>Widowed</td>\n",
              "      <td>Primary education</td>\n",
              "      <td>Other Income</td>\n",
              "    </tr>\n",
              "    <tr>\n",
              "      <th>23522</th>\n",
              "      <td>Uganda</td>\n",
              "      <td>2018</td>\n",
              "      <td>No</td>\n",
              "      <td>Urban</td>\n",
              "      <td>Yes</td>\n",
              "      <td>7.0</td>\n",
              "      <td>30.0</td>\n",
              "      <td>Female</td>\n",
              "      <td>Parent</td>\n",
              "      <td>Divorced/Seperated</td>\n",
              "      <td>Secondary education</td>\n",
              "      <td>Self employed</td>\n",
              "    </tr>\n",
              "    <tr>\n",
              "      <th>23523</th>\n",
              "      <td>Uganda</td>\n",
              "      <td>2018</td>\n",
              "      <td>No</td>\n",
              "      <td>Rural</td>\n",
              "      <td>Yes</td>\n",
              "      <td>10.0</td>\n",
              "      <td>20.0</td>\n",
              "      <td>Male</td>\n",
              "      <td>Child</td>\n",
              "      <td>Single/Never Married</td>\n",
              "      <td>Secondary education</td>\n",
              "      <td>No Income</td>\n",
              "    </tr>\n",
              "  </tbody>\n",
              "</table>\n",
              "</div>\n",
              "      <button class=\"colab-df-convert\" onclick=\"convertToInteractive('df-b011e524-3ac3-48fa-82d2-511906ad94cb')\"\n",
              "              title=\"Convert this dataframe to an interactive table.\"\n",
              "              style=\"display:none;\">\n",
              "        \n",
              "  <svg xmlns=\"http://www.w3.org/2000/svg\" height=\"24px\"viewBox=\"0 0 24 24\"\n",
              "       width=\"24px\">\n",
              "    <path d=\"M0 0h24v24H0V0z\" fill=\"none\"/>\n",
              "    <path d=\"M18.56 5.44l.94 2.06.94-2.06 2.06-.94-2.06-.94-.94-2.06-.94 2.06-2.06.94zm-11 1L8.5 8.5l.94-2.06 2.06-.94-2.06-.94L8.5 2.5l-.94 2.06-2.06.94zm10 10l.94 2.06.94-2.06 2.06-.94-2.06-.94-.94-2.06-.94 2.06-2.06.94z\"/><path d=\"M17.41 7.96l-1.37-1.37c-.4-.4-.92-.59-1.43-.59-.52 0-1.04.2-1.43.59L10.3 9.45l-7.72 7.72c-.78.78-.78 2.05 0 2.83L4 21.41c.39.39.9.59 1.41.59.51 0 1.02-.2 1.41-.59l7.78-7.78 2.81-2.81c.8-.78.8-2.07 0-2.86zM5.41 20L4 18.59l7.72-7.72 1.47 1.35L5.41 20z\"/>\n",
              "  </svg>\n",
              "      </button>\n",
              "      \n",
              "  <style>\n",
              "    .colab-df-container {\n",
              "      display:flex;\n",
              "      flex-wrap:wrap;\n",
              "      gap: 12px;\n",
              "    }\n",
              "\n",
              "    .colab-df-convert {\n",
              "      background-color: #E8F0FE;\n",
              "      border: none;\n",
              "      border-radius: 50%;\n",
              "      cursor: pointer;\n",
              "      display: none;\n",
              "      fill: #1967D2;\n",
              "      height: 32px;\n",
              "      padding: 0 0 0 0;\n",
              "      width: 32px;\n",
              "    }\n",
              "\n",
              "    .colab-df-convert:hover {\n",
              "      background-color: #E2EBFA;\n",
              "      box-shadow: 0px 1px 2px rgba(60, 64, 67, 0.3), 0px 1px 3px 1px rgba(60, 64, 67, 0.15);\n",
              "      fill: #174EA6;\n",
              "    }\n",
              "\n",
              "    [theme=dark] .colab-df-convert {\n",
              "      background-color: #3B4455;\n",
              "      fill: #D2E3FC;\n",
              "    }\n",
              "\n",
              "    [theme=dark] .colab-df-convert:hover {\n",
              "      background-color: #434B5C;\n",
              "      box-shadow: 0px 1px 3px 1px rgba(0, 0, 0, 0.15);\n",
              "      filter: drop-shadow(0px 1px 2px rgba(0, 0, 0, 0.3));\n",
              "      fill: #FFFFFF;\n",
              "    }\n",
              "  </style>\n",
              "\n",
              "      <script>\n",
              "        const buttonEl =\n",
              "          document.querySelector('#df-b011e524-3ac3-48fa-82d2-511906ad94cb button.colab-df-convert');\n",
              "        buttonEl.style.display =\n",
              "          google.colab.kernel.accessAllowed ? 'block' : 'none';\n",
              "\n",
              "        async function convertToInteractive(key) {\n",
              "          const element = document.querySelector('#df-b011e524-3ac3-48fa-82d2-511906ad94cb');\n",
              "          const dataTable =\n",
              "            await google.colab.kernel.invokeFunction('convertToInteractive',\n",
              "                                                     [key], {});\n",
              "          if (!dataTable) return;\n",
              "\n",
              "          const docLinkHtml = 'Like what you see? Visit the ' +\n",
              "            '<a target=\"_blank\" href=https://colab.research.google.com/notebooks/data_table.ipynb>data table notebook</a>'\n",
              "            + ' to learn more about interactive tables.';\n",
              "          element.innerHTML = '';\n",
              "          dataTable['output_type'] = 'display_data';\n",
              "          await google.colab.output.renderOutput(dataTable, element);\n",
              "          const docLink = document.createElement('div');\n",
              "          docLink.innerHTML = docLinkHtml;\n",
              "          element.appendChild(docLink);\n",
              "        }\n",
              "      </script>\n",
              "    </div>\n",
              "  </div>\n",
              "  "
            ]
          },
          "metadata": {},
          "execution_count": 1269
        }
      ]
    },
    {
      "cell_type": "markdown",
      "metadata": {
        "id": "rF2ABPsHUtbZ"
      },
      "source": [
        "## 6. Exploratory Analysis"
      ]
    },
    {
      "cell_type": "markdown",
      "source": [
        "##UNIVARIATE ANALYSIS\n"
      ],
      "metadata": {
        "id": "VGbxCWmsu2eq"
      }
    },
    {
      "cell_type": "markdown",
      "source": [
        "## 1. Categorical variables"
      ],
      "metadata": {
        "id": "SOFkQK-pFpOC"
      }
    },
    {
      "cell_type": "markdown",
      "source": [
        "**Analysing the countries being studied**"
      ],
      "metadata": {
        "id": "IU5Z8BhayFFe"
      }
    },
    {
      "cell_type": "code",
      "source": [
        "#The number of countries in the study and totals for each\n",
        "countries = EastAfrica_dataset_clean_new.country.value_counts()\n",
        "countries"
      ],
      "metadata": {
        "colab": {
          "base_uri": "https://localhost:8080/"
        },
        "id": "kr31N1Qcu-Ah",
        "outputId": "2130d96f-4b55-43a8-c7c0-15d8a7789cbe"
      },
      "execution_count": 1270,
      "outputs": [
        {
          "output_type": "execute_result",
          "data": {
            "text/plain": [
              "Rwanda      8684\n",
              "Tanzania    6500\n",
              "Kenya       6064\n",
              "Uganda      2095\n",
              "Name: country, dtype: int64"
            ]
          },
          "metadata": {},
          "execution_count": 1270
        }
      ]
    },
    {
      "cell_type": "markdown",
      "source": [
        "We are studying 8,684 people from Rwanda, 6500 from Tanzania, 6064 from Kenyaand 2095 from Uganda."
      ],
      "metadata": {
        "id": "Sol-mDqmJnta"
      }
    },
    {
      "cell_type": "code",
      "source": [
        "explode = (0.1, 0.1, 0.1, 0.1)\n",
        "region = ['Rwanda', 'Tanzania', 'Kenya', 'Uganda']\n",
        "colors = ['gold', 'yellowgreen', 'lightcoral', 'lightskyblue']\n",
        "\n",
        "plt.pie(countries, explode=explode, labels=region, colors=colors,\n",
        "autopct='%1.1f%%', shadow=True, startangle=90)\n",
        "\n",
        "plt.axis('equal')\n",
        "plt.title('Pie of percentage represented for the 4 countries')\n",
        "plt.legend()\n",
        "plt.show()\n",
        "\n",
        "#plt.pie(plot1)"
      ],
      "metadata": {
        "colab": {
          "base_uri": "https://localhost:8080/",
          "height": 267
        },
        "id": "vv6Lwy79J9_W",
        "outputId": "6c73a83a-50f4-4b9f-ec7a-5a15f3332351"
      },
      "execution_count": 1271,
      "outputs": [
        {
          "output_type": "display_data",
          "data": {
            "text/plain": [
              "<Figure size 432x288 with 1 Axes>"
            ],
            "image/png": "[encoded data removed]"
          },
          "metadata": {}
        }
      ]
    },
    {
      "cell_type": "markdown",
      "source": [
        "From the pie chart, it can be seen that the largest percentage of the data is from Rwanda, followed by Tanzania, then Kenya and finally Uganda"
      ],
      "metadata": {
        "id": "gwHmVaeYL80f"
      }
    },
    {
      "cell_type": "markdown",
      "source": [
        "**People with or without bank accounts**"
      ],
      "metadata": {
        "id": "mNarlCVxyQyd"
      }
    },
    {
      "cell_type": "code",
      "source": [
        "banks = EastAfrica_dataset_clean_new.Has_a_Bank_account.value_counts()\n",
        "banks"
      ],
      "metadata": {
        "colab": {
          "base_uri": "https://localhost:8080/"
        },
        "id": "wUjtJ5ZbN9kT",
        "outputId": "18a41079-c12d-4760-fdfc-750adc32c95a"
      },
      "execution_count": 1272,
      "outputs": [
        {
          "output_type": "execute_result",
          "data": {
            "text/plain": [
              "No     20046\n",
              "Yes     3297\n",
              "Name: Has_a_Bank_account, dtype: int64"
            ]
          },
          "metadata": {},
          "execution_count": 1272
        }
      ]
    },
    {
      "cell_type": "code",
      "source": [
        "#Checking the percentage of people with bank accounts in the dataset\n",
        "banks = EastAfrica_dataset_clean_new.Has_a_Bank_account.value_counts()\n",
        "\n",
        "explode = (0.1, 0.1)\n",
        "response = ['No', 'Yes']\n",
        "colors = ['gold', 'yellowgreen']\n",
        "\n",
        "plt.pie(banks, explode=explode, labels=response, colors=colors,\n",
        "autopct='%1.1f%%', shadow=True, startangle=90)\n",
        "\n",
        "plt.axis('equal')\n",
        "plt.title('Pie of percentage of people with bank accounts')\n",
        "plt.legend()\n",
        "plt.show()\n",
        "\n",
        "#plt.pie(plot1)"
      ],
      "metadata": {
        "colab": {
          "base_uri": "https://localhost:8080/",
          "height": 264
        },
        "id": "GFnVqd2WL6ZL",
        "outputId": "5e92b6ec-55e7-4c2f-81b1-c7b41cc18fe2"
      },
      "execution_count": 1273,
      "outputs": [
        {
          "output_type": "display_data",
          "data": {
            "text/plain": [
              "<Figure size 432x288 with 1 Axes>"
            ],
            "image/png": "[encoded data removed]"
          },
          "metadata": {}
        }
      ]
    },
    {
      "cell_type": "markdown",
      "source": [
        "In the study, 20,046 people don'h have bank accounts which represents 85.9%\n",
        " while 3297 people which represents 14.1% have bank accounts."
      ],
      "metadata": {
        "id": "5yIBKYYEPGDP"
      }
    },
    {
      "cell_type": "markdown",
      "source": [
        "**Data for the different countries**\n",
        "\n",
        "\n",
        "\n"
      ],
      "metadata": {
        "id": "YXYNh__Py6SA"
      }
    },
    {
      "cell_type": "code",
      "source": [
        "Rwanda_dataset = EastAfrica_dataset_clean_new[EastAfrica_dataset_clean_new.country == 'Rwanda']\n",
        "#Rwanda_dataset"
      ],
      "metadata": {
        "id": "Kps62ffoy5B1"
      },
      "execution_count": 1274,
      "outputs": []
    },
    {
      "cell_type": "code",
      "source": [
        "Tanzania_dataset = EastAfrica_dataset_clean_new[EastAfrica_dataset_clean_new.country == 'Tanzania']\n",
        "#Tanzania_dataset"
      ],
      "metadata": {
        "id": "zURjI0WEy4wo"
      },
      "execution_count": 1275,
      "outputs": []
    },
    {
      "cell_type": "code",
      "source": [
        "Kenya_dataset = EastAfrica_dataset_clean_new[EastAfrica_dataset_clean_new.country == 'Kenya']\n",
        "#Kenya_dataset"
      ],
      "metadata": {
        "id": "UXN1exfP0eSj"
      },
      "execution_count": 1276,
      "outputs": []
    },
    {
      "cell_type": "code",
      "source": [
        "Uganda_dataset = EastAfrica_dataset_clean_new[EastAfrica_dataset_clean_new.country == 'Uganda']\n",
        "#Uganda_dataset"
      ],
      "metadata": {
        "id": "TiL0tsZ40mU5"
      },
      "execution_count": 1277,
      "outputs": []
    },
    {
      "cell_type": "code",
      "source": [
        "##Summary for those with access to the bank or have bank accounts per country\n",
        "bank_country = EastAfrica_dataset_clean_new.Has_a_Bank_account.groupby(EastAfrica_dataset_clean_new.country).value_counts()\n",
        "bank_country"
      ],
      "metadata": {
        "colab": {
          "base_uri": "https://localhost:8080/"
        },
        "id": "BhKyjLoY6_XT",
        "outputId": "86b51d15-303a-4eb9-d080-117b5005c1ea"
      },
      "execution_count": 1278,
      "outputs": [
        {
          "output_type": "execute_result",
          "data": {
            "text/plain": [
              "country   Has_a_Bank_account\n",
              "Kenya     No                    4544\n",
              "          Yes                   1520\n",
              "Rwanda    No                    7687\n",
              "          Yes                    997\n",
              "Tanzania  No                    5901\n",
              "          Yes                    599\n",
              "Uganda    No                    1914\n",
              "          Yes                    181\n",
              "Name: Has_a_Bank_account, dtype: int64"
            ]
          },
          "metadata": {},
          "execution_count": 1278
        }
      ]
    },
    {
      "cell_type": "code",
      "source": [
        "#Checking the bank accounts per country\n",
        "banks_Rwanda = Rwanda_dataset.Has_a_Bank_account.value_counts()\n",
        "banks_Tanzania = Tanzania_dataset.Has_a_Bank_account.value_counts()\n",
        "banks_Kenya = Kenya_dataset.Has_a_Bank_account.value_counts()\n",
        "banks_Uganda = Uganda_dataset.Has_a_Bank_account.value_counts()\n"
      ],
      "metadata": {
        "id": "upfT118S2Sga"
      },
      "execution_count": 1279,
      "outputs": []
    },
    {
      "cell_type": "code",
      "source": [
        "explode = (0.1, 0.1)\n",
        "response = ['No', 'Yes']\n",
        "colors1 = ['gold', 'yellowgreen']\n",
        "colors2 = ['blue', 'yellowgreen']\n",
        "colors3 = ['green', 'yellowgreen']\n",
        "colors4 = ['lightcoral', 'yellowgreen']"
      ],
      "metadata": {
        "id": "zdyEwbvi3DU2"
      },
      "execution_count": 1280,
      "outputs": []
    },
    {
      "cell_type": "code",
      "source": [
        "plt.pie(banks_Rwanda, explode=explode, labels=response, colors=colors1,\n",
        "autopct='%1.1f%%', shadow=True, startangle=90)\n",
        "\n",
        "plt.axis('equal')\n",
        "plt.title('Pie of percentage of people with bank accounts in Rwanda')\n",
        "plt.legend()\n",
        "plt.show()"
      ],
      "metadata": {
        "colab": {
          "base_uri": "https://localhost:8080/",
          "height": 264
        },
        "id": "tFcRxTIb2SaR",
        "outputId": "20c07e71-8000-4c87-e7b2-3d785c732c20"
      },
      "execution_count": 1281,
      "outputs": [
        {
          "output_type": "display_data",
          "data": {
            "text/plain": [
              "<Figure size 432x288 with 1 Axes>"
            ],
            "image/png": "[encoded data removed]"
          },
          "metadata": {}
        }
      ]
    },
    {
      "cell_type": "markdown",
      "source": [
        "Only 11.5% of people in Rwanda have bank accounts."
      ],
      "metadata": {
        "id": "pWEv3tXh4WeJ"
      }
    },
    {
      "cell_type": "code",
      "source": [
        "plt.pie(banks_Tanzania, explode=explode, labels=response, colors=colors2,\n",
        "autopct='%1.1f%%', shadow=True, startangle=90)\n",
        "\n",
        "plt.axis('equal')\n",
        "plt.title('Pie of percentage of people with bank accounts in Tanzania')\n",
        "plt.legend()\n",
        "plt.show()"
      ],
      "metadata": {
        "colab": {
          "base_uri": "https://localhost:8080/",
          "height": 264
        },
        "id": "v9X1gekC4dCv",
        "outputId": "26737073-03fd-461b-ceb7-e35bc501802e"
      },
      "execution_count": 1282,
      "outputs": [
        {
          "output_type": "display_data",
          "data": {
            "text/plain": [
              "<Figure size 432x288 with 1 Axes>"
            ],
            "image/png": "[encoded data removed]"
          },
          "metadata": {}
        }
      ]
    },
    {
      "cell_type": "markdown",
      "source": [
        "Only 9.2% of people in Tanzania have bank accounts"
      ],
      "metadata": {
        "id": "CPUJdiDC4kyF"
      }
    },
    {
      "cell_type": "code",
      "source": [
        "plt.pie(banks_Kenya, explode=explode, labels=response, colors=colors3,\n",
        "autopct='%1.1f%%', shadow=True, startangle=90)\n",
        "\n",
        "plt.axis('equal')\n",
        "plt.title('Pie of percentage of people with bank accounts in Kenya')\n",
        "plt.legend()\n",
        "plt.show()"
      ],
      "metadata": {
        "colab": {
          "base_uri": "https://localhost:8080/",
          "height": 264
        },
        "id": "pQ1-z4QE2SOH",
        "outputId": "69345f74-ae16-43e2-c643-a5e80bebe179"
      },
      "execution_count": 1283,
      "outputs": [
        {
          "output_type": "display_data",
          "data": {
            "text/plain": [
              "<Figure size 432x288 with 1 Axes>"
            ],
            "image/png": "[encoded data removed]"
          },
          "metadata": {}
        }
      ]
    },
    {
      "cell_type": "markdown",
      "source": [
        "25.1% of people in Kenya have a bank account"
      ],
      "metadata": {
        "id": "WVhF3Ibq5wnh"
      }
    },
    {
      "cell_type": "code",
      "source": [
        "plt.pie(banks_Uganda, explode=explode, labels=response, colors=colors4,\n",
        "autopct='%1.1f%%', shadow=True, startangle=90)\n",
        "\n",
        "plt.axis('equal')\n",
        "plt.title('Pie of percentage of people with bank accounts in Uganda')\n",
        "plt.legend()\n",
        "plt.show()"
      ],
      "metadata": {
        "colab": {
          "base_uri": "https://localhost:8080/",
          "height": 264
        },
        "id": "I7WwIE8i5DLz",
        "outputId": "b26231be-0e31-4062-df49-cc88854ce1c2"
      },
      "execution_count": 1284,
      "outputs": [
        {
          "output_type": "display_data",
          "data": {
            "text/plain": [
              "<Figure size 432x288 with 1 Axes>"
            ],
            "image/png": "[encoded data removed]"
          },
          "metadata": {}
        }
      ]
    },
    {
      "cell_type": "markdown",
      "source": [
        "8.6% of people in Uganda have access or have a bank account.\n",
        "Kenya is leading, followed by Rwanda, then Tanzania and Uganda being the last with people who have access to the bank or have ank accounts."
      ],
      "metadata": {
        "id": "NEqPnJtx6PQs"
      }
    },
    {
      "cell_type": "code",
      "source": [
        "#fig, axs = plt.subplots(2, 2)\n",
        "#plt.title(\"Rwanda\")\n",
        "#axs[0, 0].pie(banks_Rwanda, explode=explode, labels=response, colors=colors1,\n",
        "#autopct='%1.1f%%', shadow=True, startangle=90)\n",
        "\n",
        "\n",
        "#axs[0, 1].pie(banks_Tanzania, explode=explode, labels=response, colors=colors2,\n",
        "#autopct='%1.1f%%', shadow=True, startangle=90)\n",
        "\n",
        "#axs[1,0].pie(banks_Kenya, explode=explode, labels=response, colors=colors3,\n",
        "#autopct='%1.1f%%', shadow=True, startangle=90)\n",
        "\n",
        "#axs[1,1].pie(banks_Uganda, explode=explode, labels=response, colors=colors4,\n",
        "#autopct='%1.1f%%', shadow=True, startangle=90)"
      ],
      "metadata": {
        "id": "1azfVbgv5Do-"
      },
      "execution_count": 1285,
      "outputs": []
    },
    {
      "cell_type": "markdown",
      "source": [
        "**Location of the respondents**"
      ],
      "metadata": {
        "id": "mabvdCw__KkL"
      }
    },
    {
      "cell_type": "code",
      "source": [
        "Location = EastAfrica_dataset_clean_new.Type_of_Location.value_counts()\n",
        "Location"
      ],
      "metadata": {
        "colab": {
          "base_uri": "https://localhost:8080/"
        },
        "id": "fxQEIlZ7QFMG",
        "outputId": "df158991-2d14-4e49-e459-6e038cbeb6ea"
      },
      "execution_count": 1286,
      "outputs": [
        {
          "output_type": "execute_result",
          "data": {
            "text/plain": [
              "Rural    14264\n",
              "Urban     9079\n",
              "Name: Type_of_Location, dtype: int64"
            ]
          },
          "metadata": {},
          "execution_count": 1286
        }
      ]
    },
    {
      "cell_type": "code",
      "source": [
        "colors5 = ['lightcoral', 'lightskyblue']\n",
        "area = ['Rural','Urban']\n",
        "plt.pie(Location, explode=explode, labels=area, colors=colors5,\n",
        "autopct='%1.1f%%', shadow=True, startangle=90)\n",
        "\n",
        "plt.axis('equal')\n",
        "plt.title('Type of locations of the respondents')\n",
        "plt.legend()\n",
        "plt.show()"
      ],
      "metadata": {
        "colab": {
          "base_uri": "https://localhost:8080/",
          "height": 264
        },
        "id": "1H1tk7FMQFI9",
        "outputId": "e1585a69-6eec-4aa3-ec0b-600fe48b68f5"
      },
      "execution_count": 1287,
      "outputs": [
        {
          "output_type": "display_data",
          "data": {
            "text/plain": [
              "<Figure size 432x288 with 1 Axes>"
            ],
            "image/png": "[encoded data removed]"
          },
          "metadata": {}
        }
      ]
    },
    {
      "cell_type": "markdown",
      "source": [
        "14264 respondents are from the rural areas which represents 61.1% while 9079 are from the urban areas which accounts for 38.9% of the total responses."
      ],
      "metadata": {
        "id": "OknT2qrQCn2s"
      }
    },
    {
      "cell_type": "markdown",
      "source": [
        "**Cell phone access**"
      ],
      "metadata": {
        "id": "m9XLhQJpDA8J"
      }
    },
    {
      "cell_type": "code",
      "source": [
        "cellphone = EastAfrica_dataset_clean_new.Cell_Phone_Access.value_counts()\n",
        "cellphone\n",
        "\n"
      ],
      "metadata": {
        "colab": {
          "base_uri": "https://localhost:8080/"
        },
        "id": "bsPQPJgcDARY",
        "outputId": "0caf843a-6f44-418f-9b48-e8249b522d58"
      },
      "execution_count": 1288,
      "outputs": [
        {
          "output_type": "execute_result",
          "data": {
            "text/plain": [
              "Yes    17334\n",
              "No      6009\n",
              "Name: Cell_Phone_Access, dtype: int64"
            ]
          },
          "metadata": {},
          "execution_count": 1288
        }
      ]
    },
    {
      "cell_type": "code",
      "source": [
        "colors6 = ['lightgreen', 'lightskyblue']\n",
        "cell = ['Yes','No']\n",
        "plt.pie(cellphone, explode=explode, labels=cell, colors=colors6,\n",
        "autopct='%1.1f%%', shadow=True, startangle=90)\n",
        "\n",
        "plt.axis('equal')\n",
        "plt.title('People with acess to a cell phone')\n",
        "plt.legend()\n",
        "plt.show()"
      ],
      "metadata": {
        "colab": {
          "base_uri": "https://localhost:8080/",
          "height": 264
        },
        "id": "G8nqFTunQFB8",
        "outputId": "79640980-9c65-439e-b731-b74fafa316b2"
      },
      "execution_count": 1289,
      "outputs": [
        {
          "output_type": "display_data",
          "data": {
            "text/plain": [
              "<Figure size 432x288 with 1 Axes>"
            ],
            "image/png": "[encoded data removed]"
          },
          "metadata": {}
        }
      ]
    },
    {
      "cell_type": "markdown",
      "source": [
        "It can be seen that majority of the people 74.3% have access to a cell phone across the regions while only 25.7% do not have the access."
      ],
      "metadata": {
        "id": "vAPCVLaPDt9E"
      }
    },
    {
      "cell_type": "markdown",
      "source": [
        "**Gender of the respondents**"
      ],
      "metadata": {
        "id": "v8DdT3T1EP7C"
      }
    },
    {
      "cell_type": "code",
      "source": [
        "Gender = EastAfrica_dataset_clean_new.gender_of_respondent.value_counts()\n",
        "Gender"
      ],
      "metadata": {
        "colab": {
          "base_uri": "https://localhost:8080/"
        },
        "id": "_1MHqlV7QE-x",
        "outputId": "15079bb3-083c-4c43-b521-842f769761bf"
      },
      "execution_count": 1290,
      "outputs": [
        {
          "output_type": "execute_result",
          "data": {
            "text/plain": [
              "Female    13767\n",
              "Male       9576\n",
              "Name: gender_of_respondent, dtype: int64"
            ]
          },
          "metadata": {},
          "execution_count": 1290
        }
      ]
    },
    {
      "cell_type": "code",
      "source": [
        "colors7 = ['lightcoral', 'skyblue']\n",
        "sex= ['Female','Male']\n",
        "plt.pie(Gender, explode=explode, labels=sex, colors=colors7,\n",
        "autopct='%1.1f%%', shadow=True, startangle=90)\n",
        "\n",
        "plt.axis('equal')\n",
        "plt.title('Gender of the respondents')\n",
        "plt.legend()\n",
        "plt.show()"
      ],
      "metadata": {
        "colab": {
          "base_uri": "https://localhost:8080/",
          "height": 264
        },
        "id": "MWGjdsCFQE60",
        "outputId": "e2bb9307-152d-4aff-d952-9da62829bd4d"
      },
      "execution_count": 1291,
      "outputs": [
        {
          "output_type": "display_data",
          "data": {
            "text/plain": [
              "<Figure size 432x288 with 1 Axes>"
            ],
            "image/png": "[encoded data removed]"
          },
          "metadata": {}
        }
      ]
    },
    {
      "cell_type": "markdown",
      "source": [
        "It can be seen that majority of the respondents were females accounting for 59% while male accounted for 41% of the population."
      ],
      "metadata": {
        "id": "717qhjLjFpiQ"
      }
    },
    {
      "cell_type": "markdown",
      "source": [
        "**Relationship with the head**"
      ],
      "metadata": {
        "id": "xRQoMMVGKDXk"
      }
    },
    {
      "cell_type": "code",
      "source": [
        "relationship_head = EastAfrica_dataset_clean_new.Relationship_with_head.value_counts()\n",
        "relationship_head"
      ],
      "metadata": {
        "colab": {
          "base_uri": "https://localhost:8080/"
        },
        "id": "WM_ZsVdUKCcF",
        "outputId": "5b0438f9-20d8-43e4-e36f-b505806e5e90"
      },
      "execution_count": 1292,
      "outputs": [
        {
          "output_type": "execute_result",
          "data": {
            "text/plain": [
              "Head of Household      12730\n",
              "Spouse                  6471\n",
              "Child                   2221\n",
              "Parent                  1069\n",
              "Other relative           663\n",
              "Other non-relatives      189\n",
              "Name: Relationship_with_head, dtype: int64"
            ]
          },
          "metadata": {},
          "execution_count": 1292
        }
      ]
    },
    {
      "cell_type": "code",
      "source": [
        "colors8 = ['lightcoral', 'green','blue', 'pink', 'red','violet']\n",
        "explode1 = (0.1, 0.1, 0.1, 0.1,0.1, 0.1)\n",
        "rship= ['Head of Household','Spouse', 'Child','Parent','Other relative', 'Other non-relatives']\n",
        "plt.pie(relationship_head, explode=explode1, labels=rship, colors=colors8,\n",
        "autopct='%1.1f%%', shadow=True, startangle=90)\n",
        "\n",
        "plt.axis('equal')\n",
        "plt.title('Relationship of the respondents to head of the family')\n",
        "plt.legend()\n",
        "plt.show()"
      ],
      "metadata": {
        "colab": {
          "base_uri": "https://localhost:8080/",
          "height": 264
        },
        "id": "XLpLgPvdQE3w",
        "outputId": "8f217b05-0362-4ee4-ff9b-44e54aadef00"
      },
      "execution_count": 1293,
      "outputs": [
        {
          "output_type": "display_data",
          "data": {
            "text/plain": [
              "<Figure size 432x288 with 1 Axes>"
            ],
            "image/png": "[encoded data removed]"
          },
          "metadata": {}
        }
      ]
    },
    {
      "cell_type": "markdown",
      "source": [
        "Majority of the respondents were the household heads followed by the spouce, then the children accounting for 54.5%, 27.7%, 9.5% respectively."
      ],
      "metadata": {
        "id": "mY525eKzMB7Q"
      }
    },
    {
      "cell_type": "markdown",
      "source": [
        "**Marital status**"
      ],
      "metadata": {
        "id": "JKKRwGhUMZg2"
      }
    },
    {
      "cell_type": "code",
      "source": [
        "marital_status = EastAfrica_dataset_clean_new.marital_status.value_counts()\n",
        "marital_status"
      ],
      "metadata": {
        "colab": {
          "base_uri": "https://localhost:8080/"
        },
        "id": "kculY9K3QE0T",
        "outputId": "4a41ecce-8055-4425-f057-6872460eab59"
      },
      "execution_count": 1294,
      "outputs": [
        {
          "output_type": "execute_result",
          "data": {
            "text/plain": [
              "Married/Living together    10700\n",
              "Single/Never Married        7903\n",
              "Widowed                     2683\n",
              "Divorced/Seperated          2049\n",
              "Dont know                      8\n",
              "Name: marital_status, dtype: int64"
            ]
          },
          "metadata": {},
          "execution_count": 1294
        }
      ]
    },
    {
      "cell_type": "code",
      "source": [
        "colors9 = ['green','blue', 'pink', 'lightblue','violet']\n",
        "explode2 = (0.1, 0.1, 0.1, 0.1,0.1)\n",
        "rship= ['Married','Single', 'Widowed','Divorced/Seperated','Dont know']\n",
        "plt.pie(marital_status, explode=explode2, labels=rship, colors=colors9,\n",
        "autopct='%1.1f%%', shadow=True, startangle=90)\n",
        "\n",
        "plt.axis('equal')\n",
        "plt.title('Marital status of the respondents')\n",
        "plt.legend()\n",
        "plt.show()"
      ],
      "metadata": {
        "colab": {
          "base_uri": "https://localhost:8080/",
          "height": 264
        },
        "id": "kESfE8JLMqsQ",
        "outputId": "55634617-3ef3-4f5f-eaf3-51a0148f3bb1"
      },
      "execution_count": 1295,
      "outputs": [
        {
          "output_type": "display_data",
          "data": {
            "text/plain": [
              "<Figure size 432x288 with 1 Axes>"
            ],
            "image/png": "[encoded data removed]"
          },
          "metadata": {}
        }
      ]
    },
    {
      "cell_type": "markdown",
      "source": [
        "Majority of the respondents were married followed by those that were single then widowed. Those that were divorced or separated followed and the least being those that didn't know."
      ],
      "metadata": {
        "id": "MOU3s4qnNf_T"
      }
    },
    {
      "cell_type": "markdown",
      "source": [
        "**Level of Education**"
      ],
      "metadata": {
        "id": "fnIn5hbdRBPC"
      }
    },
    {
      "cell_type": "code",
      "source": [
        "education = EastAfrica_dataset_clean_new.Level_of_Educuation.value_counts()\n",
        "education"
      ],
      "metadata": {
        "colab": {
          "base_uri": "https://localhost:8080/"
        },
        "id": "NtN1GHVkMqkn",
        "outputId": "4305f6a1-6e3d-4b78-8c3a-7b208e7fc578"
      },
      "execution_count": 1296,
      "outputs": [
        {
          "output_type": "execute_result",
          "data": {
            "text/plain": [
              "Primary education                  12689\n",
              "No formal education                 4467\n",
              "Secondary education                 4207\n",
              "Tertiary education                  1144\n",
              "Vocational/Specialised training      801\n",
              "6                                     27\n",
              "Other/Dont know/RTA                    8\n",
              "Name: Level_of_Educuation, dtype: int64"
            ]
          },
          "metadata": {},
          "execution_count": 1296
        }
      ]
    },
    {
      "cell_type": "code",
      "source": [
        "colors9 = ['purple','blue', 'pink', 'lightblue','violet','lightgreen', 'indigo']\n",
        "explode2 = (0.1, 0.1, 0.1, 0.1,0.1,0.1,0.1)\n",
        "rship= ['Primary','No formal', 'Secondary','Tertiary','Vocational','6', 'Dont know/RTA/Other']\n",
        "plt.pie(education, explode=explode2, labels=rship, colors=colors9,\n",
        "autopct='%1.1f%%', shadow=True, startangle=90)\n",
        "\n",
        "plt.axis('equal')\n",
        "plt.title('Level of education of the respondents')\n",
        "plt.legend()\n",
        "plt.show()"
      ],
      "metadata": {
        "colab": {
          "base_uri": "https://localhost:8080/",
          "height": 264
        },
        "id": "0yYWP3HJMqhr",
        "outputId": "82a81727-ef86-405f-85b7-3b5fde312c12"
      },
      "execution_count": 1297,
      "outputs": [
        {
          "output_type": "display_data",
          "data": {
            "text/plain": [
              "<Figure size 432x288 with 1 Axes>"
            ],
            "image/png": "[encoded data removed]"
          },
          "metadata": {}
        }
      ]
    },
    {
      "cell_type": "markdown",
      "source": [
        "Majority of the respondents have completed primary school with the least being the retired and those that don't know their levels."
      ],
      "metadata": {
        "id": "LAvZAKVwSNpE"
      }
    },
    {
      "cell_type": "markdown",
      "source": [
        "**Type of job**"
      ],
      "metadata": {
        "id": "77vm3TA7ShH9"
      }
    },
    {
      "cell_type": "code",
      "source": [
        "job = EastAfrica_dataset_clean_new.Type_of_Job.value_counts()\n",
        "job"
      ],
      "metadata": {
        "colab": {
          "base_uri": "https://localhost:8080/"
        },
        "id": "GiGCqfPUMqY1",
        "outputId": "3cefd217-6147-477e-878e-3905af9c8b10"
      },
      "execution_count": 1298,
      "outputs": [
        {
          "output_type": "execute_result",
          "data": {
            "text/plain": [
              "Self employed                   6361\n",
              "Informally employed             5550\n",
              "Farming and Fishing             5422\n",
              "Remittance Dependent            2509\n",
              "Other Income                    1077\n",
              "Formally employed Private       1048\n",
              "No Income                        618\n",
              "Formally employed Government     386\n",
              "Government Dependent             247\n",
              "Dont Know/Refuse to answer       125\n",
              "Name: Type_of_Job, dtype: int64"
            ]
          },
          "metadata": {},
          "execution_count": 1298
        }
      ]
    },
    {
      "cell_type": "markdown",
      "source": [
        "## Numerical variables"
      ],
      "metadata": {
        "id": "V_-s4FoLXnve"
      }
    },
    {
      "cell_type": "markdown",
      "source": [
        "Measures of central tendancy"
      ],
      "metadata": {
        "id": "cXZNowruYJaq"
      }
    },
    {
      "cell_type": "markdown",
      "source": [
        "**Household size for the respondents**"
      ],
      "metadata": {
        "id": "8GmU2RdJTyfP"
      }
    },
    {
      "cell_type": "code",
      "source": [
        "household = EastAfrica_dataset_clean_new['household_size']\n"
      ],
      "metadata": {
        "id": "jPSJjjRhVHLU"
      },
      "execution_count": 1299,
      "outputs": []
    },
    {
      "cell_type": "code",
      "source": [
        "#Mean\n",
        "household.mean()"
      ],
      "metadata": {
        "colab": {
          "base_uri": "https://localhost:8080/"
        },
        "id": "bAkv76zCXttY",
        "outputId": "b5181fc9-1301-4e24-d8b4-5625e73c76f6"
      },
      "execution_count": 1300,
      "outputs": [
        {
          "output_type": "execute_result",
          "data": {
            "text/plain": [
              "3.6886432763569377"
            ]
          },
          "metadata": {},
          "execution_count": 1300
        }
      ]
    },
    {
      "cell_type": "markdown",
      "source": [
        "An average respondents family, has approximately 4 members."
      ],
      "metadata": {
        "id": "BxIAp25WYja6"
      }
    },
    {
      "cell_type": "code",
      "source": [
        "#Mode\n",
        "household.mode()"
      ],
      "metadata": {
        "colab": {
          "base_uri": "https://localhost:8080/"
        },
        "id": "AGZ-7EdxXtns",
        "outputId": "05f5b78e-925a-4ec5-f7ba-f0ae82e7e1ed"
      },
      "execution_count": 1301,
      "outputs": [
        {
          "output_type": "execute_result",
          "data": {
            "text/plain": [
              "0    2.0\n",
              "dtype: float64"
            ]
          },
          "metadata": {},
          "execution_count": 1301
        }
      ]
    },
    {
      "cell_type": "markdown",
      "source": [
        "Most of the respondents have a family size of 2 members"
      ],
      "metadata": {
        "id": "AGdc32tdYvWH"
      }
    },
    {
      "cell_type": "code",
      "source": [
        "#Median\n",
        "household.median()"
      ],
      "metadata": {
        "colab": {
          "base_uri": "https://localhost:8080/"
        },
        "id": "hXJFQ6Y-Xtkm",
        "outputId": "a6f89810-3a15-49b0-8dd8-8614e9456648"
      },
      "execution_count": 1302,
      "outputs": [
        {
          "output_type": "execute_result",
          "data": {
            "text/plain": [
              "3.0"
            ]
          },
          "metadata": {},
          "execution_count": 1302
        }
      ]
    },
    {
      "cell_type": "markdown",
      "source": [
        "The middle family size in the in the data has 3 members"
      ],
      "metadata": {
        "id": "rVz_7hPDY0X_"
      }
    },
    {
      "cell_type": "markdown",
      "source": [
        "###  Measures of Dispersion/Variability/Spread\n"
      ],
      "metadata": {
        "id": "a2_B8v_uZOHf"
      }
    },
    {
      "cell_type": "code",
      "source": [
        "#Standard Deviation\n",
        "household.std()"
      ],
      "metadata": {
        "colab": {
          "base_uri": "https://localhost:8080/"
        },
        "id": "rkODgvGpXtcp",
        "outputId": "1c118a8d-fd23-4065-caeb-49a5e63ee8bf"
      },
      "execution_count": 1303,
      "outputs": [
        {
          "output_type": "execute_result",
          "data": {
            "text/plain": [
              "2.2811835250351495"
            ]
          },
          "metadata": {},
          "execution_count": 1303
        }
      ]
    },
    {
      "cell_type": "markdown",
      "source": [
        "From the standard deviation obtained, we conclude that most of the family sizes, varied from the mean with 2 members."
      ],
      "metadata": {
        "id": "3C55dWi3ZxGv"
      }
    },
    {
      "cell_type": "code",
      "source": [
        "#Variance\n",
        "household.var()"
      ],
      "metadata": {
        "colab": {
          "base_uri": "https://localhost:8080/"
        },
        "id": "swtbTVg7XtXG",
        "outputId": "75fb5671-b2da-4a34-a2f3-f77161cada17"
      },
      "execution_count": 1304,
      "outputs": [
        {
          "output_type": "execute_result",
          "data": {
            "text/plain": [
              "5.20379827489179"
            ]
          },
          "metadata": {},
          "execution_count": 1304
        }
      ]
    },
    {
      "cell_type": "markdown",
      "source": [
        "The household sizes do not vary very much amongst each other."
      ],
      "metadata": {
        "id": "3FwyhysOaQPW"
      }
    },
    {
      "cell_type": "code",
      "source": [
        "#Range\n",
        "max_house = household.max()\n",
        "min_house = household.min()\n",
        "print(max_house, min_house)\n"
      ],
      "metadata": {
        "colab": {
          "base_uri": "https://localhost:8080/"
        },
        "id": "xULe5LeYaeVb",
        "outputId": "ce0320db-fe1f-4e16-d297-a45d61372cff"
      },
      "execution_count": 1305,
      "outputs": [
        {
          "output_type": "stream",
          "name": "stdout",
          "text": [
            "21.0 0.0\n"
          ]
        }
      ]
    },
    {
      "cell_type": "code",
      "source": [
        "range =  max_house - min_house\n",
        "range"
      ],
      "metadata": {
        "colab": {
          "base_uri": "https://localhost:8080/"
        },
        "id": "Ios1_reya7Do",
        "outputId": "08cc81cc-fe26-4e94-bf21-68dde4e1e48b"
      },
      "execution_count": 1306,
      "outputs": [
        {
          "output_type": "execute_result",
          "data": {
            "text/plain": [
              "21.0"
            ]
          },
          "metadata": {},
          "execution_count": 1306
        }
      ]
    },
    {
      "cell_type": "markdown",
      "source": [
        "The largest household has a size of 21 members wile the least is 0."
      ],
      "metadata": {
        "id": "RzTtZesDaw-v"
      }
    },
    {
      "cell_type": "code",
      "source": [
        "#Quartiles\n",
        "household.quantile([0.25,0.5,0.75])"
      ],
      "metadata": {
        "colab": {
          "base_uri": "https://localhost:8080/"
        },
        "id": "6oDSO6_KaePq",
        "outputId": "66e50ec2-8b2c-4cf5-c14f-aa4dfba1e28a"
      },
      "execution_count": 1307,
      "outputs": [
        {
          "output_type": "execute_result",
          "data": {
            "text/plain": [
              "0.25    2.0\n",
              "0.50    3.0\n",
              "0.75    5.0\n",
              "Name: household_size, dtype: float64"
            ]
          },
          "metadata": {},
          "execution_count": 1307
        }
      ]
    },
    {
      "cell_type": "markdown",
      "source": [
        "25% of the households have a size of 2 members each. 50% of the population have a size of 3 members while 75% of the households, have 5 members each."
      ],
      "metadata": {
        "id": "WkPBw3rTdMsY"
      }
    },
    {
      "cell_type": "code",
      "source": [
        "#Skewness\n",
        "household.skew()"
      ],
      "metadata": {
        "colab": {
          "base_uri": "https://localhost:8080/"
        },
        "id": "F7XQdQw4aeMN",
        "outputId": "0cb70fbc-8e74-4554-e532-f5c29f71cbea"
      },
      "execution_count": 1308,
      "outputs": [
        {
          "output_type": "execute_result",
          "data": {
            "text/plain": [
              "0.9741086837897069"
            ]
          },
          "metadata": {},
          "execution_count": 1308
        }
      ]
    },
    {
      "cell_type": "markdown",
      "source": [
        "The distribution of the household is positively skewed. Meaning that most of the household size data lies on the right tail."
      ],
      "metadata": {
        "id": "rEWq3-JR5Evz"
      }
    },
    {
      "cell_type": "code",
      "source": [
        "#Kurtosis\n",
        "household.kurt()"
      ],
      "metadata": {
        "colab": {
          "base_uri": "https://localhost:8080/"
        },
        "id": "tAehFWg_aeE0",
        "outputId": "cfeb5d58-4e3d-4900-ec64-572223a2a8ea"
      },
      "execution_count": 1309,
      "outputs": [
        {
          "output_type": "execute_result",
          "data": {
            "text/plain": [
              "1.1538690689335573"
            ]
          },
          "metadata": {},
          "execution_count": 1309
        }
      ]
    },
    {
      "cell_type": "markdown",
      "source": [
        "Then the household size distribution has heavier tails and is called a leptokurtic distribution. Presence of outliers is caused by the different amount of sizes of the households."
      ],
      "metadata": {
        "id": "uEeTzMBD5irp"
      }
    },
    {
      "cell_type": "code",
      "source": [
        "household.describe()"
      ],
      "metadata": {
        "colab": {
          "base_uri": "https://localhost:8080/"
        },
        "id": "U8RAsw9BaeA9",
        "outputId": "8880650c-f958-410e-83ad-dd257592f3d3"
      },
      "execution_count": 1310,
      "outputs": [
        {
          "output_type": "execute_result",
          "data": {
            "text/plain": [
              "count    23343.000000\n",
              "mean         3.688643\n",
              "std          2.281184\n",
              "min          0.000000\n",
              "25%          2.000000\n",
              "50%          3.000000\n",
              "75%          5.000000\n",
              "max         21.000000\n",
              "Name: household_size, dtype: float64"
            ]
          },
          "metadata": {},
          "execution_count": 1310
        }
      ]
    },
    {
      "cell_type": "markdown",
      "source": [
        "That provides a summary of the household size in the dataset."
      ],
      "metadata": {
        "id": "tr4-PVxT5-hG"
      }
    },
    {
      "cell_type": "code",
      "source": [
        "sns.boxplot(household, showmeans=True, color='lightblue')"
      ],
      "metadata": {
        "colab": {
          "base_uri": "https://localhost:8080/",
          "height": 352
        },
        "id": "SHfC2TwA6oV-",
        "outputId": "be8c052c-a5c2-4d6f-a1f2-71645a2d2c38"
      },
      "execution_count": 1311,
      "outputs": [
        {
          "output_type": "stream",
          "name": "stderr",
          "text": [
            "/usr/local/lib/python3.7/dist-packages/seaborn/_decorators.py:43: FutureWarning: Pass the following variable as a keyword arg: x. From version 0.12, the only valid positional argument will be `data`, and passing other arguments without an explicit keyword will result in an error or misinterpretation.\n",
            "  FutureWarning\n"
          ]
        },
        {
          "output_type": "execute_result",
          "data": {
            "text/plain": [
              "<matplotlib.axes._subplots.AxesSubplot at 0x7f3ebc6fe650>"
            ]
          },
          "metadata": {},
          "execution_count": 1311
        },
        {
          "output_type": "display_data",
          "data": {
            "text/plain": [
              "<Figure size 432x288 with 1 Axes>"
            ],
            "image/png": "[encoded data removed]"
          },
          "metadata": {
            "needs_background": "light"
          }
        }
      ]
    },
    {
      "cell_type": "markdown",
      "source": [
        "To justify the data above, some families are polygamous and as such have large sizes of their household members. While others have very few members."
      ],
      "metadata": {
        "id": "ZIIwcML46w8k"
      }
    },
    {
      "cell_type": "code",
      "source": [
        "household.hist()\n",
        "plt.title(\"Distribution of the respondents household sizes\")\n",
        "plt.xlabel(\"Household size\")\n",
        "plt.ylabel(\"Number of observations\")\n",
        "plt.show()\n"
      ],
      "metadata": {
        "colab": {
          "base_uri": "https://localhost:8080/",
          "height": 295
        },
        "id": "qA42CzT36wS-",
        "outputId": "70541397-2029-475f-b39d-83c772978d33"
      },
      "execution_count": 1312,
      "outputs": [
        {
          "output_type": "display_data",
          "data": {
            "text/plain": [
              "<Figure size 432x288 with 1 Axes>"
            ],
            "image/png": "[encoded data removed]"
          },
          "metadata": {
            "needs_background": "light"
          }
        }
      ]
    },
    {
      "cell_type": "markdown",
      "source": [
        "The histogram shows a summary of the number of observations for every size of a household."
      ],
      "metadata": {
        "id": "3XKzlmYX7dtJ"
      }
    },
    {
      "cell_type": "markdown",
      "source": [
        " **Respondent age**"
      ],
      "metadata": {
        "id": "7CaGtvHc7pVi"
      }
    },
    {
      "cell_type": "code",
      "source": [
        "age = EastAfrica_dataset_clean_new['Respondent_Age']\n",
        "\n"
      ],
      "metadata": {
        "id": "nE6auVc26oTY"
      },
      "execution_count": 1313,
      "outputs": []
    },
    {
      "cell_type": "code",
      "source": [
        "#mean\n",
        "age.mean()"
      ],
      "metadata": {
        "colab": {
          "base_uri": "https://localhost:8080/"
        },
        "id": "1zItivQF6oQk",
        "outputId": "bc9b5519-4d00-46f5-fbb2-2c21ed881eb5"
      },
      "execution_count": 1314,
      "outputs": [
        {
          "output_type": "execute_result",
          "data": {
            "text/plain": [
              "38.80550914621085"
            ]
          },
          "metadata": {},
          "execution_count": 1314
        }
      ]
    },
    {
      "cell_type": "markdown",
      "source": [
        "The averae age of the respondents in this study is 38.8 years"
      ],
      "metadata": {
        "id": "ZRQ9BBrS9Snq"
      }
    },
    {
      "cell_type": "code",
      "source": [
        "#mode\n",
        "age.mode()"
      ],
      "metadata": {
        "colab": {
          "base_uri": "https://localhost:8080/"
        },
        "id": "cFnuwFr26oNr",
        "outputId": "d7505117-1b7f-4978-aec5-a6a3eb7c58e5"
      },
      "execution_count": 1315,
      "outputs": [
        {
          "output_type": "execute_result",
          "data": {
            "text/plain": [
              "0    30.0\n",
              "dtype: float64"
            ]
          },
          "metadata": {},
          "execution_count": 1315
        }
      ]
    },
    {
      "cell_type": "markdown",
      "source": [
        "Respondents of age 30 years were the majority"
      ],
      "metadata": {
        "id": "ATbgSdbk9aEo"
      }
    },
    {
      "cell_type": "code",
      "source": [
        "#median\n",
        "age.median()"
      ],
      "metadata": {
        "colab": {
          "base_uri": "https://localhost:8080/"
        },
        "id": "6EgrIr_N9PVd",
        "outputId": "f5137e9c-c605-4018-eb87-bc9f4bfac809"
      },
      "execution_count": 1316,
      "outputs": [
        {
          "output_type": "execute_result",
          "data": {
            "text/plain": [
              "35.0"
            ]
          },
          "metadata": {},
          "execution_count": 1316
        }
      ]
    },
    {
      "cell_type": "markdown",
      "source": [
        "The middle age in the dataset of the respodents is 35 years."
      ],
      "metadata": {
        "id": "poCURrGO9jpl"
      }
    },
    {
      "cell_type": "code",
      "source": [
        "#Standard deviation\n",
        "age.std()"
      ],
      "metadata": {
        "colab": {
          "base_uri": "https://localhost:8080/"
        },
        "id": "Y-EKoadz9PSn",
        "outputId": "9d33865b-6207-4951-b8ff-a905557ea91b"
      },
      "execution_count": 1317,
      "outputs": [
        {
          "output_type": "execute_result",
          "data": {
            "text/plain": [
              "16.51980349804178"
            ]
          },
          "metadata": {},
          "execution_count": 1317
        }
      ]
    },
    {
      "cell_type": "markdown",
      "source": [
        "The respondents age vary with 16 years from the mean."
      ],
      "metadata": {
        "id": "8e1OYd14-UzY"
      }
    },
    {
      "cell_type": "code",
      "source": [
        "#variance\n",
        "age.var()"
      ],
      "metadata": {
        "colab": {
          "base_uri": "https://localhost:8080/"
        },
        "id": "MSmjh_LS9PQP",
        "outputId": "4705fdea-d1c1-45e9-8640-129043bb5d44"
      },
      "execution_count": 1318,
      "outputs": [
        {
          "output_type": "execute_result",
          "data": {
            "text/plain": [
              "272.90390761391353"
            ]
          },
          "metadata": {},
          "execution_count": 1318
        }
      ]
    },
    {
      "cell_type": "markdown",
      "source": [
        "The respondents age vary so much amongst each other."
      ],
      "metadata": {
        "id": "uZfRF324-c7W"
      }
    },
    {
      "cell_type": "code",
      "source": [
        "#Skewness\n",
        "age.skew()"
      ],
      "metadata": {
        "colab": {
          "base_uri": "https://localhost:8080/"
        },
        "id": "zVxQfMZB9PNq",
        "outputId": "6f1d5303-ef62-4247-e355-7d8f91fdc875"
      },
      "execution_count": 1319,
      "outputs": [
        {
          "output_type": "execute_result",
          "data": {
            "text/plain": [
              "0.840661747532081"
            ]
          },
          "metadata": {},
          "execution_count": 1319
        }
      ]
    },
    {
      "cell_type": "markdown",
      "source": [
        "The age of the respondents is also positively skewed, meaning that most of them lies on the right tail."
      ],
      "metadata": {
        "id": "nzxVgtiD--0X"
      }
    },
    {
      "cell_type": "code",
      "source": [
        "#Kurtosis\n",
        "age.kurt()"
      ],
      "metadata": {
        "colab": {
          "base_uri": "https://localhost:8080/"
        },
        "id": "zYNvWBQ89PKv",
        "outputId": "b3e7cace-6952-45ff-bba5-7e3a181542d0"
      },
      "execution_count": 1320,
      "outputs": [
        {
          "output_type": "execute_result",
          "data": {
            "text/plain": [
              "0.09844652254807196"
            ]
          },
          "metadata": {},
          "execution_count": 1320
        }
      ]
    },
    {
      "cell_type": "markdown",
      "source": [
        "The age of the respondents has heavier tails and is called a leptokurtic distribution. This is because the survey targeted people of different ages."
      ],
      "metadata": {
        "id": "2ChML4Hs_Lqz"
      }
    },
    {
      "cell_type": "code",
      "source": [
        "#The range of the age\n",
        "max_age = age.max()\n",
        "min_age = age.min()\n",
        "print(max_age, min_age)"
      ],
      "metadata": {
        "colab": {
          "base_uri": "https://localhost:8080/"
        },
        "id": "s5XVqI859PHB",
        "outputId": "daf8f962-e09d-4e42-caa7-5d6b441192f5"
      },
      "execution_count": 1321,
      "outputs": [
        {
          "output_type": "stream",
          "name": "stdout",
          "text": [
            "100.0 16.0\n"
          ]
        }
      ]
    },
    {
      "cell_type": "markdown",
      "source": [
        "The range of the age that was considered during the study was a minimum of 16 years and a maximum of 100 years."
      ],
      "metadata": {
        "id": "qFRrTGUDAgt6"
      }
    },
    {
      "cell_type": "code",
      "source": [
        "#Range\n",
        "age_range = max_age - min_age\n",
        "age_range "
      ],
      "metadata": {
        "colab": {
          "base_uri": "https://localhost:8080/"
        },
        "id": "SvWv-wRa9PEH",
        "outputId": "6c0639cf-da09-447c-b49c-094940b7436a"
      },
      "execution_count": 1322,
      "outputs": [
        {
          "output_type": "execute_result",
          "data": {
            "text/plain": [
              "84.0"
            ]
          },
          "metadata": {},
          "execution_count": 1322
        }
      ]
    },
    {
      "cell_type": "markdown",
      "source": [
        "The difference between the oldest and the youngest respondent was 84 years."
      ],
      "metadata": {
        "id": "ZBDk5TpOA1ku"
      }
    },
    {
      "cell_type": "code",
      "source": [
        "#Skewness\n",
        "household.skew()"
      ],
      "metadata": {
        "colab": {
          "base_uri": "https://localhost:8080/"
        },
        "id": "RvS_yjkl9PBT",
        "outputId": "624cf2c3-b96a-4ded-d609-2ab833d6a024"
      },
      "execution_count": 1323,
      "outputs": [
        {
          "output_type": "execute_result",
          "data": {
            "text/plain": [
              "0.9741086837897069"
            ]
          },
          "metadata": {},
          "execution_count": 1323
        }
      ]
    },
    {
      "cell_type": "markdown",
      "source": [
        "The age data is positively skewed."
      ],
      "metadata": {
        "id": "pUKSmH74DwNV"
      }
    },
    {
      "cell_type": "code",
      "source": [
        "#Kurtosis\n",
        "age.kurt()"
      ],
      "metadata": {
        "colab": {
          "base_uri": "https://localhost:8080/"
        },
        "id": "AFRMAAmCDVT0",
        "outputId": "785eab24-8ae6-4381-b223-7b4519f576fc"
      },
      "execution_count": 1324,
      "outputs": [
        {
          "output_type": "execute_result",
          "data": {
            "text/plain": [
              "0.09844652254807196"
            ]
          },
          "metadata": {},
          "execution_count": 1324
        }
      ]
    },
    {
      "cell_type": "markdown",
      "source": [
        "Since the kurtosis is very close to 0, it shows that age assumes a normal distribution."
      ],
      "metadata": {
        "id": "mfgtmlrsEPwB"
      }
    },
    {
      "cell_type": "code",
      "source": [
        "age.describe()"
      ],
      "metadata": {
        "colab": {
          "base_uri": "https://localhost:8080/"
        },
        "id": "aVPFL1guDVRH",
        "outputId": "628f55e5-82dc-4d60-9c85-fafe62d3ca2a"
      },
      "execution_count": 1325,
      "outputs": [
        {
          "output_type": "execute_result",
          "data": {
            "text/plain": [
              "count    23343.000000\n",
              "mean        38.805509\n",
              "std         16.519803\n",
              "min         16.000000\n",
              "25%         26.000000\n",
              "50%         35.000000\n",
              "75%         49.000000\n",
              "max        100.000000\n",
              "Name: Respondent_Age, dtype: float64"
            ]
          },
          "metadata": {},
          "execution_count": 1325
        }
      ]
    },
    {
      "cell_type": "markdown",
      "source": [
        "This shows a summary of the age in the database as already discussed."
      ],
      "metadata": {
        "id": "y_T3dxVGEhAq"
      }
    },
    {
      "cell_type": "code",
      "source": [
        "sns.boxplot(age, showmeans=True, color='lightgreen')"
      ],
      "metadata": {
        "colab": {
          "base_uri": "https://localhost:8080/",
          "height": 352
        },
        "id": "V7GUoNqyDVOT",
        "outputId": "cf05a1b4-8238-4d82-92fc-182f826a219c"
      },
      "execution_count": 1326,
      "outputs": [
        {
          "output_type": "stream",
          "name": "stderr",
          "text": [
            "/usr/local/lib/python3.7/dist-packages/seaborn/_decorators.py:43: FutureWarning: Pass the following variable as a keyword arg: x. From version 0.12, the only valid positional argument will be `data`, and passing other arguments without an explicit keyword will result in an error or misinterpretation.\n",
            "  FutureWarning\n"
          ]
        },
        {
          "output_type": "execute_result",
          "data": {
            "text/plain": [
              "<matplotlib.axes._subplots.AxesSubplot at 0x7f3ebce0d590>"
            ]
          },
          "metadata": {},
          "execution_count": 1326
        },
        {
          "output_type": "display_data",
          "data": {
            "text/plain": [
              "<Figure size 432x288 with 1 Axes>"
            ],
            "image/png": "[encoded data removed]"
          },
          "metadata": {
            "needs_background": "light"
          }
        }
      ]
    },
    {
      "cell_type": "markdown",
      "source": [
        "The boxplot shows an accumulation of agesets that are being considered as outliers. In this study, we will still consider the age since they have all been considered in the range."
      ],
      "metadata": {
        "id": "GQkOgguOE0XC"
      }
    },
    {
      "cell_type": "code",
      "source": [
        "age.hist()\n",
        "plt.title(\"Distribution of the respondents age\")\n",
        "plt.xlabel(\"Age\")\n",
        "plt.ylabel(\"Number of observations\")\n",
        "plt.show()"
      ],
      "metadata": {
        "colab": {
          "base_uri": "https://localhost:8080/",
          "height": 295
        },
        "id": "hqDMMKQcDVLH",
        "outputId": "12f39345-4bde-4cf8-9e7a-e68ba9fdde06"
      },
      "execution_count": 1327,
      "outputs": [
        {
          "output_type": "display_data",
          "data": {
            "text/plain": [
              "<Figure size 432x288 with 1 Axes>"
            ],
            "image/png": "[encoded data removed]"
          },
          "metadata": {
            "needs_background": "light"
          }
        }
      ]
    },
    {
      "cell_type": "markdown",
      "source": [
        "The histogram shows a summary of the number of observations for every age of the respondents."
      ],
      "metadata": {
        "id": "AmEl2Dq6OMxt"
      }
    },
    {
      "cell_type": "markdown",
      "source": [
        "In this study, the univariate analysis worked well, and showed the different variables in the study as well as the differences in the countries. At the end, we will be able to understand the different variables and how they influence one having a bank account."
      ],
      "metadata": {
        "id": "_o88cueqnVaC"
      }
    },
    {
      "cell_type": "markdown",
      "source": [
        "##BIVARIATE ANALYSIS\n"
      ],
      "metadata": {
        "id": "yX0GajQtOAyo"
      }
    },
    {
      "cell_type": "markdown",
      "source": [
        "Numerical and Numerical"
      ],
      "metadata": {
        "id": "zjnuvnzfPtCB"
      }
    },
    {
      "cell_type": "code",
      "source": [
        "#Plotting a scatter plot between household size and age\n",
        "EastAfrica_dataset_clean_new.plot(x = 'Respondent_Age', y = 'household_size', kind='scatter', color = \"brown\")\n",
        "plt.title(\"Scatter plot of the respondents age and the size of household\")\n",
        "plt.xlabel(\"Respondents age\")\n",
        "plt.ylabel(\"Household size\")\n",
        "plt.show()"
      ],
      "metadata": {
        "colab": {
          "base_uri": "https://localhost:8080/",
          "height": 295
        },
        "id": "rqP8qGO5DVHo",
        "outputId": "4c151739-bec6-4694-8681-19d6ab3f3974"
      },
      "execution_count": 1328,
      "outputs": [
        {
          "output_type": "display_data",
          "data": {
            "text/plain": [
              "<Figure size 432x288 with 1 Axes>"
            ],
            "image/png": "[encoded data removed]"
          },
          "metadata": {
            "needs_background": "light"
          }
        }
      ]
    },
    {
      "cell_type": "markdown",
      "source": [
        "The scatter plot above shows data that is scattered allover with no specific pattern. It does not show any linear relationship between respondents age and the household size."
      ],
      "metadata": {
        "id": "vlaC2yzdUK2n"
      }
    },
    {
      "cell_type": "code",
      "source": [
        "#Pearsons correlation coefficient\n",
        "np.corrcoef(EastAfrica_dataset_clean_new.Respondent_Age, EastAfrica_dataset_clean_new.household_size)"
      ],
      "metadata": {
        "colab": {
          "base_uri": "https://localhost:8080/"
        },
        "id": "ItQLN8lVDVET",
        "outputId": "94845c5b-7cde-4d84-9f73-3197737774d4"
      },
      "execution_count": 1329,
      "outputs": [
        {
          "output_type": "execute_result",
          "data": {
            "text/plain": [
              "array([[ 1.       , -0.1197092],\n",
              "       [-0.1197092,  1.       ]])"
            ]
          },
          "metadata": {},
          "execution_count": 1329
        }
      ]
    },
    {
      "cell_type": "markdown",
      "source": [
        "This indicates a weak negative correlation between the respondents age and the household size. "
      ],
      "metadata": {
        "id": "5SdlTLN3Ub9l"
      }
    },
    {
      "cell_type": "code",
      "source": [
        "#t-test of te two independent variables\n",
        "t_statistic, p_value = ttest_ind(EastAfrica_dataset_clean_new.Respondent_Age, EastAfrica_dataset_clean_new.household_size)\n",
        "t_statistic, p_value"
      ],
      "metadata": {
        "colab": {
          "base_uri": "https://localhost:8080/"
        },
        "id": "3F2Hu7aOixSU",
        "outputId": "c6611612-56bc-4003-eef5-800bddbead77"
      },
      "execution_count": 1330,
      "outputs": [
        {
          "output_type": "execute_result",
          "data": {
            "text/plain": [
              "(321.7270468155308, 0.0)"
            ]
          },
          "metadata": {},
          "execution_count": 1330
        }
      ]
    },
    {
      "cell_type": "markdown",
      "source": [
        "The t test shows that there is a very huge difference between respondent age and the size of the household. They are not each others determinants."
      ],
      "metadata": {
        "id": "3TVlT3ZlkB2H"
      }
    },
    {
      "cell_type": "markdown",
      "source": [
        "For the sake of this study, the bivariate analysis between categorical variables was not that effective, this is because they are very categorical and difficult to quantify. Further analysis though, will try to show the types of factors that respondents have to determine if at all they have the bank accounts."
      ],
      "metadata": {
        "id": "RJJpuGo8mkMx"
      }
    },
    {
      "cell_type": "markdown",
      "source": [
        "##MULTIVARIATE ANALYSIS\n",
        "\n",
        "\n"
      ],
      "metadata": {
        "id": "nqS_JTkjk9Ce"
      }
    },
    {
      "cell_type": "markdown",
      "source": [
        "We will start by first viewing the distribution of data of the entire dataset."
      ],
      "metadata": {
        "id": "y1B9_T7oowRS"
      }
    },
    {
      "cell_type": "code",
      "source": [
        "# Ploting the bivariate summaries and recording our observations.\n",
        "sns.pairplot(EastAfrica_dataset_clean_new)\n",
        "plt.show()"
      ],
      "metadata": {
        "colab": {
          "base_uri": "https://localhost:8080/",
          "height": 550
        },
        "id": "JLrWWO2TYZKf",
        "outputId": "015566fa-c7a8-448a-87b3-a81771191567"
      },
      "execution_count": 1331,
      "outputs": [
        {
          "output_type": "display_data",
          "data": {
            "text/plain": [
              "<Figure size 540x540 with 12 Axes>"
            ],
            "image/png": "[encoded data removed]"
          },
          "metadata": {
            "needs_background": "light"
          }
        }
      ]
    },
    {
      "cell_type": "markdown",
      "source": [
        "The output shows the distribution of the year, household size and respondent age amongst each other."
      ],
      "metadata": {
        "id": "lQMztfV2qAjg"
      }
    },
    {
      "cell_type": "markdown",
      "source": [
        "The next step is to check the correlation of the entire dataset, to see how the different variables/columns relate with each other."
      ],
      "metadata": {
        "id": "AWXSChlfqS_e"
      }
    },
    {
      "cell_type": "code",
      "source": [
        "#Correlation table\n",
        "sns.heatmap(EastAfrica_dataset_clean_new.corr(),annot=True)\n",
        "plt.show()"
      ],
      "metadata": {
        "colab": {
          "base_uri": "https://localhost:8080/",
          "height": 270
        },
        "id": "bmMd0omzYZD3",
        "outputId": "a1b9fc17-7114-4379-f7ad-e40c7b6b7dc0"
      },
      "execution_count": 1332,
      "outputs": [
        {
          "output_type": "display_data",
          "data": {
            "text/plain": [
              "<Figure size 432x288 with 2 Axes>"
            ],
            "image/png": "[encoded data removed]"
          },
          "metadata": {
            "needs_background": "light"
          }
        }
      ]
    },
    {
      "cell_type": "markdown",
      "source": [
        "From the correlation table, household size has a negative very weak correlation with year. The respondent age too, has a negative and very weak correlation with year, which is almost tending to zero. There also a negative weak correlation between the respondents age and the household size."
      ],
      "metadata": {
        "id": "YrNRNWxxsoOu"
      }
    },
    {
      "cell_type": "markdown",
      "source": [
        "Principal Component Analysis"
      ],
      "metadata": {
        "id": "4SNE7u6FDPMv"
      }
    },
    {
      "cell_type": "code",
      "source": [
        "#Removing one column that I prefer not to use\n",
        "EastAfrica_dataset_clean_new_without = EastAfrica_dataset_clean_new.drop(\"Relationship_with_head\", 1)\n",
        "EastAfrica_dataset_clean_new_without.head()"
      ],
      "metadata": {
        "colab": {
          "base_uri": "https://localhost:8080/",
          "height": 409
        },
        "id": "rxN8SPW3If9O",
        "outputId": "010caf51-fccf-4764-d303-9b0ece6efdb2"
      },
      "execution_count": 1333,
      "outputs": [
        {
          "output_type": "stream",
          "name": "stderr",
          "text": [
            "/usr/local/lib/python3.7/dist-packages/ipykernel_launcher.py:2: FutureWarning: In a future version of pandas all arguments of DataFrame.drop except for the argument 'labels' will be keyword-only\n",
            "  \n"
          ]
        },
        {
          "output_type": "execute_result",
          "data": {
            "text/plain": [
              "  country  year Has_a_Bank_account Type_of_Location Cell_Phone_Access  \\\n",
              "0   Kenya  2018                Yes            Rural               Yes   \n",
              "1   Kenya  2018                 No            Rural                No   \n",
              "2   Kenya  2018                Yes            Urban               Yes   \n",
              "3   Kenya  2018                 No            Rural               Yes   \n",
              "4   Kenya  2018                 No            Urban                No   \n",
              "\n",
              "   household_size  Respondent_Age gender_of_respondent  \\\n",
              "0             3.0            24.0               Female   \n",
              "1             5.0            70.0               Female   \n",
              "2             5.0            26.0                 Male   \n",
              "3             5.0            34.0               Female   \n",
              "4             8.0            26.0                 Male   \n",
              "\n",
              "            marital_status              Level_of_Educuation  \\\n",
              "0  Married/Living together              Secondary education   \n",
              "1                  Widowed              No formal education   \n",
              "2     Single/Never Married  Vocational/Specialised training   \n",
              "3  Married/Living together                Primary education   \n",
              "4     Single/Never Married                Primary education   \n",
              "\n",
              "                 Type_of_Job  \n",
              "0              Self employed  \n",
              "1       Government Dependent  \n",
              "2              Self employed  \n",
              "3  Formally employed Private  \n",
              "4        Informally employed  "
            ],
            "text/html": [
              "\n",
              "  <div id=\"df-06b3760a-18fb-4c92-bfc3-2c36d5fb8e61\">\n",
              "    <div class=\"colab-df-container\">\n",
              "      <div>\n",
              "<style scoped>\n",
              "    .dataframe tbody tr th:only-of-type {\n",
              "        vertical-align: middle;\n",
              "    }\n",
              "\n",
              "    .dataframe tbody tr th {\n",
              "        vertical-align: top;\n",
              "    }\n",
              "\n",
              "    .dataframe thead th {\n",
              "        text-align: right;\n",
              "    }\n",
              "</style>\n",
              "<table border=\"1\" class=\"dataframe\">\n",
              "  <thead>\n",
              "    <tr style=\"text-align: right;\">\n",
              "      <th></th>\n",
              "      <th>country</th>\n",
              "      <th>year</th>\n",
              "      <th>Has_a_Bank_account</th>\n",
              "      <th>Type_of_Location</th>\n",
              "      <th>Cell_Phone_Access</th>\n",
              "      <th>household_size</th>\n",
              "      <th>Respondent_Age</th>\n",
              "      <th>gender_of_respondent</th>\n",
              "      <th>marital_status</th>\n",
              "      <th>Level_of_Educuation</th>\n",
              "      <th>Type_of_Job</th>\n",
              "    </tr>\n",
              "  </thead>\n",
              "  <tbody>\n",
              "    <tr>\n",
              "      <th>0</th>\n",
              "      <td>Kenya</td>\n",
              "      <td>2018</td>\n",
              "      <td>Yes</td>\n",
              "      <td>Rural</td>\n",
              "      <td>Yes</td>\n",
              "      <td>3.0</td>\n",
              "      <td>24.0</td>\n",
              "      <td>Female</td>\n",
              "      <td>Married/Living together</td>\n",
              "      <td>Secondary education</td>\n",
              "      <td>Self employed</td>\n",
              "    </tr>\n",
              "    <tr>\n",
              "      <th>1</th>\n",
              "      <td>Kenya</td>\n",
              "      <td>2018</td>\n",
              "      <td>No</td>\n",
              "      <td>Rural</td>\n",
              "      <td>No</td>\n",
              "      <td>5.0</td>\n",
              "      <td>70.0</td>\n",
              "      <td>Female</td>\n",
              "      <td>Widowed</td>\n",
              "      <td>No formal education</td>\n",
              "      <td>Government Dependent</td>\n",
              "    </tr>\n",
              "    <tr>\n",
              "      <th>2</th>\n",
              "      <td>Kenya</td>\n",
              "      <td>2018</td>\n",
              "      <td>Yes</td>\n",
              "      <td>Urban</td>\n",
              "      <td>Yes</td>\n",
              "      <td>5.0</td>\n",
              "      <td>26.0</td>\n",
              "      <td>Male</td>\n",
              "      <td>Single/Never Married</td>\n",
              "      <td>Vocational/Specialised training</td>\n",
              "      <td>Self employed</td>\n",
              "    </tr>\n",
              "    <tr>\n",
              "      <th>3</th>\n",
              "      <td>Kenya</td>\n",
              "      <td>2018</td>\n",
              "      <td>No</td>\n",
              "      <td>Rural</td>\n",
              "      <td>Yes</td>\n",
              "      <td>5.0</td>\n",
              "      <td>34.0</td>\n",
              "      <td>Female</td>\n",
              "      <td>Married/Living together</td>\n",
              "      <td>Primary education</td>\n",
              "      <td>Formally employed Private</td>\n",
              "    </tr>\n",
              "    <tr>\n",
              "      <th>4</th>\n",
              "      <td>Kenya</td>\n",
              "      <td>2018</td>\n",
              "      <td>No</td>\n",
              "      <td>Urban</td>\n",
              "      <td>No</td>\n",
              "      <td>8.0</td>\n",
              "      <td>26.0</td>\n",
              "      <td>Male</td>\n",
              "      <td>Single/Never Married</td>\n",
              "      <td>Primary education</td>\n",
              "      <td>Informally employed</td>\n",
              "    </tr>\n",
              "  </tbody>\n",
              "</table>\n",
              "</div>\n",
              "      <button class=\"colab-df-convert\" onclick=\"convertToInteractive('df-06b3760a-18fb-4c92-bfc3-2c36d5fb8e61')\"\n",
              "              title=\"Convert this dataframe to an interactive table.\"\n",
              "              style=\"display:none;\">\n",
              "        \n",
              "  <svg xmlns=\"http://www.w3.org/2000/svg\" height=\"24px\"viewBox=\"0 0 24 24\"\n",
              "       width=\"24px\">\n",
              "    <path d=\"M0 0h24v24H0V0z\" fill=\"none\"/>\n",
              "    <path d=\"M18.56 5.44l.94 2.06.94-2.06 2.06-.94-2.06-.94-.94-2.06-.94 2.06-2.06.94zm-11 1L8.5 8.5l.94-2.06 2.06-.94-2.06-.94L8.5 2.5l-.94 2.06-2.06.94zm10 10l.94 2.06.94-2.06 2.06-.94-2.06-.94-.94-2.06-.94 2.06-2.06.94z\"/><path d=\"M17.41 7.96l-1.37-1.37c-.4-.4-.92-.59-1.43-.59-.52 0-1.04.2-1.43.59L10.3 9.45l-7.72 7.72c-.78.78-.78 2.05 0 2.83L4 21.41c.39.39.9.59 1.41.59.51 0 1.02-.2 1.41-.59l7.78-7.78 2.81-2.81c.8-.78.8-2.07 0-2.86zM5.41 20L4 18.59l7.72-7.72 1.47 1.35L5.41 20z\"/>\n",
              "  </svg>\n",
              "      </button>\n",
              "      \n",
              "  <style>\n",
              "    .colab-df-container {\n",
              "      display:flex;\n",
              "      flex-wrap:wrap;\n",
              "      gap: 12px;\n",
              "    }\n",
              "\n",
              "    .colab-df-convert {\n",
              "      background-color: #E8F0FE;\n",
              "      border: none;\n",
              "      border-radius: 50%;\n",
              "      cursor: pointer;\n",
              "      display: none;\n",
              "      fill: #1967D2;\n",
              "      height: 32px;\n",
              "      padding: 0 0 0 0;\n",
              "      width: 32px;\n",
              "    }\n",
              "\n",
              "    .colab-df-convert:hover {\n",
              "      background-color: #E2EBFA;\n",
              "      box-shadow: 0px 1px 2px rgba(60, 64, 67, 0.3), 0px 1px 3px 1px rgba(60, 64, 67, 0.15);\n",
              "      fill: #174EA6;\n",
              "    }\n",
              "\n",
              "    [theme=dark] .colab-df-convert {\n",
              "      background-color: #3B4455;\n",
              "      fill: #D2E3FC;\n",
              "    }\n",
              "\n",
              "    [theme=dark] .colab-df-convert:hover {\n",
              "      background-color: #434B5C;\n",
              "      box-shadow: 0px 1px 3px 1px rgba(0, 0, 0, 0.15);\n",
              "      filter: drop-shadow(0px 1px 2px rgba(0, 0, 0, 0.3));\n",
              "      fill: #FFFFFF;\n",
              "    }\n",
              "  </style>\n",
              "\n",
              "      <script>\n",
              "        const buttonEl =\n",
              "          document.querySelector('#df-06b3760a-18fb-4c92-bfc3-2c36d5fb8e61 button.colab-df-convert');\n",
              "        buttonEl.style.display =\n",
              "          google.colab.kernel.accessAllowed ? 'block' : 'none';\n",
              "\n",
              "        async function convertToInteractive(key) {\n",
              "          const element = document.querySelector('#df-06b3760a-18fb-4c92-bfc3-2c36d5fb8e61');\n",
              "          const dataTable =\n",
              "            await google.colab.kernel.invokeFunction('convertToInteractive',\n",
              "                                                     [key], {});\n",
              "          if (!dataTable) return;\n",
              "\n",
              "          const docLinkHtml = 'Like what you see? Visit the ' +\n",
              "            '<a target=\"_blank\" href=https://colab.research.google.com/notebooks/data_table.ipynb>data table notebook</a>'\n",
              "            + ' to learn more about interactive tables.';\n",
              "          element.innerHTML = '';\n",
              "          dataTable['output_type'] = 'display_data';\n",
              "          await google.colab.output.renderOutput(dataTable, element);\n",
              "          const docLink = document.createElement('div');\n",
              "          docLink.innerHTML = docLinkHtml;\n",
              "          element.appendChild(docLink);\n",
              "        }\n",
              "      </script>\n",
              "    </div>\n",
              "  </div>\n",
              "  "
            ]
          },
          "metadata": {},
          "execution_count": 1333
        }
      ]
    },
    {
      "cell_type": "code",
      "source": [
        "#Dropping the year column\n",
        "EastAfrica_dataset_clean_new_without_year = EastAfrica_dataset_clean_new_without.drop(\"year\", 1)"
      ],
      "metadata": {
        "colab": {
          "base_uri": "https://localhost:8080/"
        },
        "id": "LTnuGaQMGacS",
        "outputId": "d8fd3cd5-b502-4748-e0f6-8c24fd6e2a1e"
      },
      "execution_count": 1334,
      "outputs": [
        {
          "output_type": "stream",
          "name": "stderr",
          "text": [
            "/usr/local/lib/python3.7/dist-packages/ipykernel_launcher.py:2: FutureWarning: In a future version of pandas all arguments of DataFrame.drop except for the argument 'labels' will be keyword-only\n",
            "  \n"
          ]
        }
      ]
    },
    {
      "cell_type": "code",
      "source": [
        "#Giving the categorical values, int numbers\n",
        "country_name = {'country':{'Rwanda': 1, 'Tanzania':2, 'Kenya':3, 'Uganda':4}}\n",
        "EastAfrica_dataset_clean_new_without_year.replace(country_name, inplace=True)\n",
        "EastAfrica_dataset_clean_new_without_year['country']=EastAfrica_dataset_clean_new_without_year['country'].astype('int')\n",
        "EastAfrica_dataset_clean_new_without_year.head()"
      ],
      "metadata": {
        "colab": {
          "base_uri": "https://localhost:8080/",
          "height": 374
        },
        "id": "vlf0p25VFujU",
        "outputId": "9dc43c90-ef3f-4289-8f5a-5c13b6149b7d"
      },
      "execution_count": 1335,
      "outputs": [
        {
          "output_type": "execute_result",
          "data": {
            "text/plain": [
              "   country Has_a_Bank_account Type_of_Location Cell_Phone_Access  \\\n",
              "0        3                Yes            Rural               Yes   \n",
              "1        3                 No            Rural                No   \n",
              "2        3                Yes            Urban               Yes   \n",
              "3        3                 No            Rural               Yes   \n",
              "4        3                 No            Urban                No   \n",
              "\n",
              "   household_size  Respondent_Age gender_of_respondent  \\\n",
              "0             3.0            24.0               Female   \n",
              "1             5.0            70.0               Female   \n",
              "2             5.0            26.0                 Male   \n",
              "3             5.0            34.0               Female   \n",
              "4             8.0            26.0                 Male   \n",
              "\n",
              "            marital_status              Level_of_Educuation  \\\n",
              "0  Married/Living together              Secondary education   \n",
              "1                  Widowed              No formal education   \n",
              "2     Single/Never Married  Vocational/Specialised training   \n",
              "3  Married/Living together                Primary education   \n",
              "4     Single/Never Married                Primary education   \n",
              "\n",
              "                 Type_of_Job  \n",
              "0              Self employed  \n",
              "1       Government Dependent  \n",
              "2              Self employed  \n",
              "3  Formally employed Private  \n",
              "4        Informally employed  "
            ],
            "text/html": [
              "\n",
              "  <div id=\"df-2a37d104-1b78-44c7-bb98-62db5b0949d6\">\n",
              "    <div class=\"colab-df-container\">\n",
              "      <div>\n",
              "<style scoped>\n",
              "    .dataframe tbody tr th:only-of-type {\n",
              "        vertical-align: middle;\n",
              "    }\n",
              "\n",
              "    .dataframe tbody tr th {\n",
              "        vertical-align: top;\n",
              "    }\n",
              "\n",
              "    .dataframe thead th {\n",
              "        text-align: right;\n",
              "    }\n",
              "</style>\n",
              "<table border=\"1\" class=\"dataframe\">\n",
              "  <thead>\n",
              "    <tr style=\"text-align: right;\">\n",
              "      <th></th>\n",
              "      <th>country</th>\n",
              "      <th>Has_a_Bank_account</th>\n",
              "      <th>Type_of_Location</th>\n",
              "      <th>Cell_Phone_Access</th>\n",
              "      <th>household_size</th>\n",
              "      <th>Respondent_Age</th>\n",
              "      <th>gender_of_respondent</th>\n",
              "      <th>marital_status</th>\n",
              "      <th>Level_of_Educuation</th>\n",
              "      <th>Type_of_Job</th>\n",
              "    </tr>\n",
              "  </thead>\n",
              "  <tbody>\n",
              "    <tr>\n",
              "      <th>0</th>\n",
              "      <td>3</td>\n",
              "      <td>Yes</td>\n",
              "      <td>Rural</td>\n",
              "      <td>Yes</td>\n",
              "      <td>3.0</td>\n",
              "      <td>24.0</td>\n",
              "      <td>Female</td>\n",
              "      <td>Married/Living together</td>\n",
              "      <td>Secondary education</td>\n",
              "      <td>Self employed</td>\n",
              "    </tr>\n",
              "    <tr>\n",
              "      <th>1</th>\n",
              "      <td>3</td>\n",
              "      <td>No</td>\n",
              "      <td>Rural</td>\n",
              "      <td>No</td>\n",
              "      <td>5.0</td>\n",
              "      <td>70.0</td>\n",
              "      <td>Female</td>\n",
              "      <td>Widowed</td>\n",
              "      <td>No formal education</td>\n",
              "      <td>Government Dependent</td>\n",
              "    </tr>\n",
              "    <tr>\n",
              "      <th>2</th>\n",
              "      <td>3</td>\n",
              "      <td>Yes</td>\n",
              "      <td>Urban</td>\n",
              "      <td>Yes</td>\n",
              "      <td>5.0</td>\n",
              "      <td>26.0</td>\n",
              "      <td>Male</td>\n",
              "      <td>Single/Never Married</td>\n",
              "      <td>Vocational/Specialised training</td>\n",
              "      <td>Self employed</td>\n",
              "    </tr>\n",
              "    <tr>\n",
              "      <th>3</th>\n",
              "      <td>3</td>\n",
              "      <td>No</td>\n",
              "      <td>Rural</td>\n",
              "      <td>Yes</td>\n",
              "      <td>5.0</td>\n",
              "      <td>34.0</td>\n",
              "      <td>Female</td>\n",
              "      <td>Married/Living together</td>\n",
              "      <td>Primary education</td>\n",
              "      <td>Formally employed Private</td>\n",
              "    </tr>\n",
              "    <tr>\n",
              "      <th>4</th>\n",
              "      <td>3</td>\n",
              "      <td>No</td>\n",
              "      <td>Urban</td>\n",
              "      <td>No</td>\n",
              "      <td>8.0</td>\n",
              "      <td>26.0</td>\n",
              "      <td>Male</td>\n",
              "      <td>Single/Never Married</td>\n",
              "      <td>Primary education</td>\n",
              "      <td>Informally employed</td>\n",
              "    </tr>\n",
              "  </tbody>\n",
              "</table>\n",
              "</div>\n",
              "      <button class=\"colab-df-convert\" onclick=\"convertToInteractive('df-2a37d104-1b78-44c7-bb98-62db5b0949d6')\"\n",
              "              title=\"Convert this dataframe to an interactive table.\"\n",
              "              style=\"display:none;\">\n",
              "        \n",
              "  <svg xmlns=\"http://www.w3.org/2000/svg\" height=\"24px\"viewBox=\"0 0 24 24\"\n",
              "       width=\"24px\">\n",
              "    <path d=\"M0 0h24v24H0V0z\" fill=\"none\"/>\n",
              "    <path d=\"M18.56 5.44l.94 2.06.94-2.06 2.06-.94-2.06-.94-.94-2.06-.94 2.06-2.06.94zm-11 1L8.5 8.5l.94-2.06 2.06-.94-2.06-.94L8.5 2.5l-.94 2.06-2.06.94zm10 10l.94 2.06.94-2.06 2.06-.94-2.06-.94-.94-2.06-.94 2.06-2.06.94z\"/><path d=\"M17.41 7.96l-1.37-1.37c-.4-.4-.92-.59-1.43-.59-.52 0-1.04.2-1.43.59L10.3 9.45l-7.72 7.72c-.78.78-.78 2.05 0 2.83L4 21.41c.39.39.9.59 1.41.59.51 0 1.02-.2 1.41-.59l7.78-7.78 2.81-2.81c.8-.78.8-2.07 0-2.86zM5.41 20L4 18.59l7.72-7.72 1.47 1.35L5.41 20z\"/>\n",
              "  </svg>\n",
              "      </button>\n",
              "      \n",
              "  <style>\n",
              "    .colab-df-container {\n",
              "      display:flex;\n",
              "      flex-wrap:wrap;\n",
              "      gap: 12px;\n",
              "    }\n",
              "\n",
              "    .colab-df-convert {\n",
              "      background-color: #E8F0FE;\n",
              "      border: none;\n",
              "      border-radius: 50%;\n",
              "      cursor: pointer;\n",
              "      display: none;\n",
              "      fill: #1967D2;\n",
              "      height: 32px;\n",
              "      padding: 0 0 0 0;\n",
              "      width: 32px;\n",
              "    }\n",
              "\n",
              "    .colab-df-convert:hover {\n",
              "      background-color: #E2EBFA;\n",
              "      box-shadow: 0px 1px 2px rgba(60, 64, 67, 0.3), 0px 1px 3px 1px rgba(60, 64, 67, 0.15);\n",
              "      fill: #174EA6;\n",
              "    }\n",
              "\n",
              "    [theme=dark] .colab-df-convert {\n",
              "      background-color: #3B4455;\n",
              "      fill: #D2E3FC;\n",
              "    }\n",
              "\n",
              "    [theme=dark] .colab-df-convert:hover {\n",
              "      background-color: #434B5C;\n",
              "      box-shadow: 0px 1px 3px 1px rgba(0, 0, 0, 0.15);\n",
              "      filter: drop-shadow(0px 1px 2px rgba(0, 0, 0, 0.3));\n",
              "      fill: #FFFFFF;\n",
              "    }\n",
              "  </style>\n",
              "\n",
              "      <script>\n",
              "        const buttonEl =\n",
              "          document.querySelector('#df-2a37d104-1b78-44c7-bb98-62db5b0949d6 button.colab-df-convert');\n",
              "        buttonEl.style.display =\n",
              "          google.colab.kernel.accessAllowed ? 'block' : 'none';\n",
              "\n",
              "        async function convertToInteractive(key) {\n",
              "          const element = document.querySelector('#df-2a37d104-1b78-44c7-bb98-62db5b0949d6');\n",
              "          const dataTable =\n",
              "            await google.colab.kernel.invokeFunction('convertToInteractive',\n",
              "                                                     [key], {});\n",
              "          if (!dataTable) return;\n",
              "\n",
              "          const docLinkHtml = 'Like what you see? Visit the ' +\n",
              "            '<a target=\"_blank\" href=https://colab.research.google.com/notebooks/data_table.ipynb>data table notebook</a>'\n",
              "            + ' to learn more about interactive tables.';\n",
              "          element.innerHTML = '';\n",
              "          dataTable['output_type'] = 'display_data';\n",
              "          await google.colab.output.renderOutput(dataTable, element);\n",
              "          const docLink = document.createElement('div');\n",
              "          docLink.innerHTML = docLinkHtml;\n",
              "          element.appendChild(docLink);\n",
              "        }\n",
              "      </script>\n",
              "    </div>\n",
              "  </div>\n",
              "  "
            ]
          },
          "metadata": {},
          "execution_count": 1335
        }
      ]
    },
    {
      "cell_type": "code",
      "source": [
        "bank_detail = {'Has_a_Bank_account':{'Yes': 1, 'No':0}}\n",
        "EastAfrica_dataset_clean_new_without_year.replace(bank_detail, inplace=True)\n",
        "EastAfrica_dataset_clean_new_without_year['Has_a_Bank_account']=EastAfrica_dataset_clean_new_without_year['Has_a_Bank_account'].astype('int')\n",
        "EastAfrica_dataset_clean_new_without_year.head()"
      ],
      "metadata": {
        "colab": {
          "base_uri": "https://localhost:8080/",
          "height": 374
        },
        "id": "pONSgZ9iG4LW",
        "outputId": "7dead924-535a-4d7b-c461-c6ccb7ea92d8"
      },
      "execution_count": 1336,
      "outputs": [
        {
          "output_type": "execute_result",
          "data": {
            "text/plain": [
              "   country  Has_a_Bank_account Type_of_Location Cell_Phone_Access  \\\n",
              "0        3                   1            Rural               Yes   \n",
              "1        3                   0            Rural                No   \n",
              "2        3                   1            Urban               Yes   \n",
              "3        3                   0            Rural               Yes   \n",
              "4        3                   0            Urban                No   \n",
              "\n",
              "   household_size  Respondent_Age gender_of_respondent  \\\n",
              "0             3.0            24.0               Female   \n",
              "1             5.0            70.0               Female   \n",
              "2             5.0            26.0                 Male   \n",
              "3             5.0            34.0               Female   \n",
              "4             8.0            26.0                 Male   \n",
              "\n",
              "            marital_status              Level_of_Educuation  \\\n",
              "0  Married/Living together              Secondary education   \n",
              "1                  Widowed              No formal education   \n",
              "2     Single/Never Married  Vocational/Specialised training   \n",
              "3  Married/Living together                Primary education   \n",
              "4     Single/Never Married                Primary education   \n",
              "\n",
              "                 Type_of_Job  \n",
              "0              Self employed  \n",
              "1       Government Dependent  \n",
              "2              Self employed  \n",
              "3  Formally employed Private  \n",
              "4        Informally employed  "
            ],
            "text/html": [
              "\n",
              "  <div id=\"df-5dcab0dd-1916-4d82-bff6-51ee5713054f\">\n",
              "    <div class=\"colab-df-container\">\n",
              "      <div>\n",
              "<style scoped>\n",
              "    .dataframe tbody tr th:only-of-type {\n",
              "        vertical-align: middle;\n",
              "    }\n",
              "\n",
              "    .dataframe tbody tr th {\n",
              "        vertical-align: top;\n",
              "    }\n",
              "\n",
              "    .dataframe thead th {\n",
              "        text-align: right;\n",
              "    }\n",
              "</style>\n",
              "<table border=\"1\" class=\"dataframe\">\n",
              "  <thead>\n",
              "    <tr style=\"text-align: right;\">\n",
              "      <th></th>\n",
              "      <th>country</th>\n",
              "      <th>Has_a_Bank_account</th>\n",
              "      <th>Type_of_Location</th>\n",
              "      <th>Cell_Phone_Access</th>\n",
              "      <th>household_size</th>\n",
              "      <th>Respondent_Age</th>\n",
              "      <th>gender_of_respondent</th>\n",
              "      <th>marital_status</th>\n",
              "      <th>Level_of_Educuation</th>\n",
              "      <th>Type_of_Job</th>\n",
              "    </tr>\n",
              "  </thead>\n",
              "  <tbody>\n",
              "    <tr>\n",
              "      <th>0</th>\n",
              "      <td>3</td>\n",
              "      <td>1</td>\n",
              "      <td>Rural</td>\n",
              "      <td>Yes</td>\n",
              "      <td>3.0</td>\n",
              "      <td>24.0</td>\n",
              "      <td>Female</td>\n",
              "      <td>Married/Living together</td>\n",
              "      <td>Secondary education</td>\n",
              "      <td>Self employed</td>\n",
              "    </tr>\n",
              "    <tr>\n",
              "      <th>1</th>\n",
              "      <td>3</td>\n",
              "      <td>0</td>\n",
              "      <td>Rural</td>\n",
              "      <td>No</td>\n",
              "      <td>5.0</td>\n",
              "      <td>70.0</td>\n",
              "      <td>Female</td>\n",
              "      <td>Widowed</td>\n",
              "      <td>No formal education</td>\n",
              "      <td>Government Dependent</td>\n",
              "    </tr>\n",
              "    <tr>\n",
              "      <th>2</th>\n",
              "      <td>3</td>\n",
              "      <td>1</td>\n",
              "      <td>Urban</td>\n",
              "      <td>Yes</td>\n",
              "      <td>5.0</td>\n",
              "      <td>26.0</td>\n",
              "      <td>Male</td>\n",
              "      <td>Single/Never Married</td>\n",
              "      <td>Vocational/Specialised training</td>\n",
              "      <td>Self employed</td>\n",
              "    </tr>\n",
              "    <tr>\n",
              "      <th>3</th>\n",
              "      <td>3</td>\n",
              "      <td>0</td>\n",
              "      <td>Rural</td>\n",
              "      <td>Yes</td>\n",
              "      <td>5.0</td>\n",
              "      <td>34.0</td>\n",
              "      <td>Female</td>\n",
              "      <td>Married/Living together</td>\n",
              "      <td>Primary education</td>\n",
              "      <td>Formally employed Private</td>\n",
              "    </tr>\n",
              "    <tr>\n",
              "      <th>4</th>\n",
              "      <td>3</td>\n",
              "      <td>0</td>\n",
              "      <td>Urban</td>\n",
              "      <td>No</td>\n",
              "      <td>8.0</td>\n",
              "      <td>26.0</td>\n",
              "      <td>Male</td>\n",
              "      <td>Single/Never Married</td>\n",
              "      <td>Primary education</td>\n",
              "      <td>Informally employed</td>\n",
              "    </tr>\n",
              "  </tbody>\n",
              "</table>\n",
              "</div>\n",
              "      <button class=\"colab-df-convert\" onclick=\"convertToInteractive('df-5dcab0dd-1916-4d82-bff6-51ee5713054f')\"\n",
              "              title=\"Convert this dataframe to an interactive table.\"\n",
              "              style=\"display:none;\">\n",
              "        \n",
              "  <svg xmlns=\"http://www.w3.org/2000/svg\" height=\"24px\"viewBox=\"0 0 24 24\"\n",
              "       width=\"24px\">\n",
              "    <path d=\"M0 0h24v24H0V0z\" fill=\"none\"/>\n",
              "    <path d=\"M18.56 5.44l.94 2.06.94-2.06 2.06-.94-2.06-.94-.94-2.06-.94 2.06-2.06.94zm-11 1L8.5 8.5l.94-2.06 2.06-.94-2.06-.94L8.5 2.5l-.94 2.06-2.06.94zm10 10l.94 2.06.94-2.06 2.06-.94-2.06-.94-.94-2.06-.94 2.06-2.06.94z\"/><path d=\"M17.41 7.96l-1.37-1.37c-.4-.4-.92-.59-1.43-.59-.52 0-1.04.2-1.43.59L10.3 9.45l-7.72 7.72c-.78.78-.78 2.05 0 2.83L4 21.41c.39.39.9.59 1.41.59.51 0 1.02-.2 1.41-.59l7.78-7.78 2.81-2.81c.8-.78.8-2.07 0-2.86zM5.41 20L4 18.59l7.72-7.72 1.47 1.35L5.41 20z\"/>\n",
              "  </svg>\n",
              "      </button>\n",
              "      \n",
              "  <style>\n",
              "    .colab-df-container {\n",
              "      display:flex;\n",
              "      flex-wrap:wrap;\n",
              "      gap: 12px;\n",
              "    }\n",
              "\n",
              "    .colab-df-convert {\n",
              "      background-color: #E8F0FE;\n",
              "      border: none;\n",
              "      border-radius: 50%;\n",
              "      cursor: pointer;\n",
              "      display: none;\n",
              "      fill: #1967D2;\n",
              "      height: 32px;\n",
              "      padding: 0 0 0 0;\n",
              "      width: 32px;\n",
              "    }\n",
              "\n",
              "    .colab-df-convert:hover {\n",
              "      background-color: #E2EBFA;\n",
              "      box-shadow: 0px 1px 2px rgba(60, 64, 67, 0.3), 0px 1px 3px 1px rgba(60, 64, 67, 0.15);\n",
              "      fill: #174EA6;\n",
              "    }\n",
              "\n",
              "    [theme=dark] .colab-df-convert {\n",
              "      background-color: #3B4455;\n",
              "      fill: #D2E3FC;\n",
              "    }\n",
              "\n",
              "    [theme=dark] .colab-df-convert:hover {\n",
              "      background-color: #434B5C;\n",
              "      box-shadow: 0px 1px 3px 1px rgba(0, 0, 0, 0.15);\n",
              "      filter: drop-shadow(0px 1px 2px rgba(0, 0, 0, 0.3));\n",
              "      fill: #FFFFFF;\n",
              "    }\n",
              "  </style>\n",
              "\n",
              "      <script>\n",
              "        const buttonEl =\n",
              "          document.querySelector('#df-5dcab0dd-1916-4d82-bff6-51ee5713054f button.colab-df-convert');\n",
              "        buttonEl.style.display =\n",
              "          google.colab.kernel.accessAllowed ? 'block' : 'none';\n",
              "\n",
              "        async function convertToInteractive(key) {\n",
              "          const element = document.querySelector('#df-5dcab0dd-1916-4d82-bff6-51ee5713054f');\n",
              "          const dataTable =\n",
              "            await google.colab.kernel.invokeFunction('convertToInteractive',\n",
              "                                                     [key], {});\n",
              "          if (!dataTable) return;\n",
              "\n",
              "          const docLinkHtml = 'Like what you see? Visit the ' +\n",
              "            '<a target=\"_blank\" href=https://colab.research.google.com/notebooks/data_table.ipynb>data table notebook</a>'\n",
              "            + ' to learn more about interactive tables.';\n",
              "          element.innerHTML = '';\n",
              "          dataTable['output_type'] = 'display_data';\n",
              "          await google.colab.output.renderOutput(dataTable, element);\n",
              "          const docLink = document.createElement('div');\n",
              "          docLink.innerHTML = docLinkHtml;\n",
              "          element.appendChild(docLink);\n",
              "        }\n",
              "      </script>\n",
              "    </div>\n",
              "  </div>\n",
              "  "
            ]
          },
          "metadata": {},
          "execution_count": 1336
        }
      ]
    },
    {
      "cell_type": "code",
      "source": [
        "location_detail = {'Type_of_Location':{'Rural': 1, 'Urban':0}}\n",
        "EastAfrica_dataset_clean_new_without_year.replace(location_detail, inplace=True)\n",
        "EastAfrica_dataset_clean_new_without_year['Type_of_Location']=EastAfrica_dataset_clean_new_without_year['Type_of_Location'].astype('int')\n",
        "EastAfrica_dataset_clean_new_without_year.head()"
      ],
      "metadata": {
        "colab": {
          "base_uri": "https://localhost:8080/",
          "height": 374
        },
        "id": "bhGE1FUGHNw7",
        "outputId": "29e1ea54-747f-428c-8e24-1dc9f1473939"
      },
      "execution_count": 1337,
      "outputs": [
        {
          "output_type": "execute_result",
          "data": {
            "text/plain": [
              "   country  Has_a_Bank_account  Type_of_Location Cell_Phone_Access  \\\n",
              "0        3                   1                 1               Yes   \n",
              "1        3                   0                 1                No   \n",
              "2        3                   1                 0               Yes   \n",
              "3        3                   0                 1               Yes   \n",
              "4        3                   0                 0                No   \n",
              "\n",
              "   household_size  Respondent_Age gender_of_respondent  \\\n",
              "0             3.0            24.0               Female   \n",
              "1             5.0            70.0               Female   \n",
              "2             5.0            26.0                 Male   \n",
              "3             5.0            34.0               Female   \n",
              "4             8.0            26.0                 Male   \n",
              "\n",
              "            marital_status              Level_of_Educuation  \\\n",
              "0  Married/Living together              Secondary education   \n",
              "1                  Widowed              No formal education   \n",
              "2     Single/Never Married  Vocational/Specialised training   \n",
              "3  Married/Living together                Primary education   \n",
              "4     Single/Never Married                Primary education   \n",
              "\n",
              "                 Type_of_Job  \n",
              "0              Self employed  \n",
              "1       Government Dependent  \n",
              "2              Self employed  \n",
              "3  Formally employed Private  \n",
              "4        Informally employed  "
            ],
            "text/html": [
              "\n",
              "  <div id=\"df-2b258082-8216-4848-9127-70c6a6d37b96\">\n",
              "    <div class=\"colab-df-container\">\n",
              "      <div>\n",
              "<style scoped>\n",
              "    .dataframe tbody tr th:only-of-type {\n",
              "        vertical-align: middle;\n",
              "    }\n",
              "\n",
              "    .dataframe tbody tr th {\n",
              "        vertical-align: top;\n",
              "    }\n",
              "\n",
              "    .dataframe thead th {\n",
              "        text-align: right;\n",
              "    }\n",
              "</style>\n",
              "<table border=\"1\" class=\"dataframe\">\n",
              "  <thead>\n",
              "    <tr style=\"text-align: right;\">\n",
              "      <th></th>\n",
              "      <th>country</th>\n",
              "      <th>Has_a_Bank_account</th>\n",
              "      <th>Type_of_Location</th>\n",
              "      <th>Cell_Phone_Access</th>\n",
              "      <th>household_size</th>\n",
              "      <th>Respondent_Age</th>\n",
              "      <th>gender_of_respondent</th>\n",
              "      <th>marital_status</th>\n",
              "      <th>Level_of_Educuation</th>\n",
              "      <th>Type_of_Job</th>\n",
              "    </tr>\n",
              "  </thead>\n",
              "  <tbody>\n",
              "    <tr>\n",
              "      <th>0</th>\n",
              "      <td>3</td>\n",
              "      <td>1</td>\n",
              "      <td>1</td>\n",
              "      <td>Yes</td>\n",
              "      <td>3.0</td>\n",
              "      <td>24.0</td>\n",
              "      <td>Female</td>\n",
              "      <td>Married/Living together</td>\n",
              "      <td>Secondary education</td>\n",
              "      <td>Self employed</td>\n",
              "    </tr>\n",
              "    <tr>\n",
              "      <th>1</th>\n",
              "      <td>3</td>\n",
              "      <td>0</td>\n",
              "      <td>1</td>\n",
              "      <td>No</td>\n",
              "      <td>5.0</td>\n",
              "      <td>70.0</td>\n",
              "      <td>Female</td>\n",
              "      <td>Widowed</td>\n",
              "      <td>No formal education</td>\n",
              "      <td>Government Dependent</td>\n",
              "    </tr>\n",
              "    <tr>\n",
              "      <th>2</th>\n",
              "      <td>3</td>\n",
              "      <td>1</td>\n",
              "      <td>0</td>\n",
              "      <td>Yes</td>\n",
              "      <td>5.0</td>\n",
              "      <td>26.0</td>\n",
              "      <td>Male</td>\n",
              "      <td>Single/Never Married</td>\n",
              "      <td>Vocational/Specialised training</td>\n",
              "      <td>Self employed</td>\n",
              "    </tr>\n",
              "    <tr>\n",
              "      <th>3</th>\n",
              "      <td>3</td>\n",
              "      <td>0</td>\n",
              "      <td>1</td>\n",
              "      <td>Yes</td>\n",
              "      <td>5.0</td>\n",
              "      <td>34.0</td>\n",
              "      <td>Female</td>\n",
              "      <td>Married/Living together</td>\n",
              "      <td>Primary education</td>\n",
              "      <td>Formally employed Private</td>\n",
              "    </tr>\n",
              "    <tr>\n",
              "      <th>4</th>\n",
              "      <td>3</td>\n",
              "      <td>0</td>\n",
              "      <td>0</td>\n",
              "      <td>No</td>\n",
              "      <td>8.0</td>\n",
              "      <td>26.0</td>\n",
              "      <td>Male</td>\n",
              "      <td>Single/Never Married</td>\n",
              "      <td>Primary education</td>\n",
              "      <td>Informally employed</td>\n",
              "    </tr>\n",
              "  </tbody>\n",
              "</table>\n",
              "</div>\n",
              "      <button class=\"colab-df-convert\" onclick=\"convertToInteractive('df-2b258082-8216-4848-9127-70c6a6d37b96')\"\n",
              "              title=\"Convert this dataframe to an interactive table.\"\n",
              "              style=\"display:none;\">\n",
              "        \n",
              "  <svg xmlns=\"http://www.w3.org/2000/svg\" height=\"24px\"viewBox=\"0 0 24 24\"\n",
              "       width=\"24px\">\n",
              "    <path d=\"M0 0h24v24H0V0z\" fill=\"none\"/>\n",
              "    <path d=\"M18.56 5.44l.94 2.06.94-2.06 2.06-.94-2.06-.94-.94-2.06-.94 2.06-2.06.94zm-11 1L8.5 8.5l.94-2.06 2.06-.94-2.06-.94L8.5 2.5l-.94 2.06-2.06.94zm10 10l.94 2.06.94-2.06 2.06-.94-2.06-.94-.94-2.06-.94 2.06-2.06.94z\"/><path d=\"M17.41 7.96l-1.37-1.37c-.4-.4-.92-.59-1.43-.59-.52 0-1.04.2-1.43.59L10.3 9.45l-7.72 7.72c-.78.78-.78 2.05 0 2.83L4 21.41c.39.39.9.59 1.41.59.51 0 1.02-.2 1.41-.59l7.78-7.78 2.81-2.81c.8-.78.8-2.07 0-2.86zM5.41 20L4 18.59l7.72-7.72 1.47 1.35L5.41 20z\"/>\n",
              "  </svg>\n",
              "      </button>\n",
              "      \n",
              "  <style>\n",
              "    .colab-df-container {\n",
              "      display:flex;\n",
              "      flex-wrap:wrap;\n",
              "      gap: 12px;\n",
              "    }\n",
              "\n",
              "    .colab-df-convert {\n",
              "      background-color: #E8F0FE;\n",
              "      border: none;\n",
              "      border-radius: 50%;\n",
              "      cursor: pointer;\n",
              "      display: none;\n",
              "      fill: #1967D2;\n",
              "      height: 32px;\n",
              "      padding: 0 0 0 0;\n",
              "      width: 32px;\n",
              "    }\n",
              "\n",
              "    .colab-df-convert:hover {\n",
              "      background-color: #E2EBFA;\n",
              "      box-shadow: 0px 1px 2px rgba(60, 64, 67, 0.3), 0px 1px 3px 1px rgba(60, 64, 67, 0.15);\n",
              "      fill: #174EA6;\n",
              "    }\n",
              "\n",
              "    [theme=dark] .colab-df-convert {\n",
              "      background-color: #3B4455;\n",
              "      fill: #D2E3FC;\n",
              "    }\n",
              "\n",
              "    [theme=dark] .colab-df-convert:hover {\n",
              "      background-color: #434B5C;\n",
              "      box-shadow: 0px 1px 3px 1px rgba(0, 0, 0, 0.15);\n",
              "      filter: drop-shadow(0px 1px 2px rgba(0, 0, 0, 0.3));\n",
              "      fill: #FFFFFF;\n",
              "    }\n",
              "  </style>\n",
              "\n",
              "      <script>\n",
              "        const buttonEl =\n",
              "          document.querySelector('#df-2b258082-8216-4848-9127-70c6a6d37b96 button.colab-df-convert');\n",
              "        buttonEl.style.display =\n",
              "          google.colab.kernel.accessAllowed ? 'block' : 'none';\n",
              "\n",
              "        async function convertToInteractive(key) {\n",
              "          const element = document.querySelector('#df-2b258082-8216-4848-9127-70c6a6d37b96');\n",
              "          const dataTable =\n",
              "            await google.colab.kernel.invokeFunction('convertToInteractive',\n",
              "                                                     [key], {});\n",
              "          if (!dataTable) return;\n",
              "\n",
              "          const docLinkHtml = 'Like what you see? Visit the ' +\n",
              "            '<a target=\"_blank\" href=https://colab.research.google.com/notebooks/data_table.ipynb>data table notebook</a>'\n",
              "            + ' to learn more about interactive tables.';\n",
              "          element.innerHTML = '';\n",
              "          dataTable['output_type'] = 'display_data';\n",
              "          await google.colab.output.renderOutput(dataTable, element);\n",
              "          const docLink = document.createElement('div');\n",
              "          docLink.innerHTML = docLinkHtml;\n",
              "          element.appendChild(docLink);\n",
              "        }\n",
              "      </script>\n",
              "    </div>\n",
              "  </div>\n",
              "  "
            ]
          },
          "metadata": {},
          "execution_count": 1337
        }
      ]
    },
    {
      "cell_type": "code",
      "source": [
        "cellphone_detail = {'Cell_Phone_Access':{'Yes': 1, 'No':0}}\n",
        "EastAfrica_dataset_clean_new_without_year.replace(cellphone_detail, inplace=True)\n",
        "EastAfrica_dataset_clean_new_without_year['Cell_Phone_Access']=EastAfrica_dataset_clean_new_without_year['Cell_Phone_Access'].astype('int')\n",
        "EastAfrica_dataset_clean_new_without_year.head()"
      ],
      "metadata": {
        "colab": {
          "base_uri": "https://localhost:8080/",
          "height": 374
        },
        "id": "hISTxk2kHezj",
        "outputId": "27705342-547e-4cbc-a0ac-332e8be53a90"
      },
      "execution_count": 1338,
      "outputs": [
        {
          "output_type": "execute_result",
          "data": {
            "text/plain": [
              "   country  Has_a_Bank_account  Type_of_Location  Cell_Phone_Access  \\\n",
              "0        3                   1                 1                  1   \n",
              "1        3                   0                 1                  0   \n",
              "2        3                   1                 0                  1   \n",
              "3        3                   0                 1                  1   \n",
              "4        3                   0                 0                  0   \n",
              "\n",
              "   household_size  Respondent_Age gender_of_respondent  \\\n",
              "0             3.0            24.0               Female   \n",
              "1             5.0            70.0               Female   \n",
              "2             5.0            26.0                 Male   \n",
              "3             5.0            34.0               Female   \n",
              "4             8.0            26.0                 Male   \n",
              "\n",
              "            marital_status              Level_of_Educuation  \\\n",
              "0  Married/Living together              Secondary education   \n",
              "1                  Widowed              No formal education   \n",
              "2     Single/Never Married  Vocational/Specialised training   \n",
              "3  Married/Living together                Primary education   \n",
              "4     Single/Never Married                Primary education   \n",
              "\n",
              "                 Type_of_Job  \n",
              "0              Self employed  \n",
              "1       Government Dependent  \n",
              "2              Self employed  \n",
              "3  Formally employed Private  \n",
              "4        Informally employed  "
            ],
            "text/html": [
              "\n",
              "  <div id=\"df-da73196c-03dd-444f-ab3b-c735e2f80493\">\n",
              "    <div class=\"colab-df-container\">\n",
              "      <div>\n",
              "<style scoped>\n",
              "    .dataframe tbody tr th:only-of-type {\n",
              "        vertical-align: middle;\n",
              "    }\n",
              "\n",
              "    .dataframe tbody tr th {\n",
              "        vertical-align: top;\n",
              "    }\n",
              "\n",
              "    .dataframe thead th {\n",
              "        text-align: right;\n",
              "    }\n",
              "</style>\n",
              "<table border=\"1\" class=\"dataframe\">\n",
              "  <thead>\n",
              "    <tr style=\"text-align: right;\">\n",
              "      <th></th>\n",
              "      <th>country</th>\n",
              "      <th>Has_a_Bank_account</th>\n",
              "      <th>Type_of_Location</th>\n",
              "      <th>Cell_Phone_Access</th>\n",
              "      <th>household_size</th>\n",
              "      <th>Respondent_Age</th>\n",
              "      <th>gender_of_respondent</th>\n",
              "      <th>marital_status</th>\n",
              "      <th>Level_of_Educuation</th>\n",
              "      <th>Type_of_Job</th>\n",
              "    </tr>\n",
              "  </thead>\n",
              "  <tbody>\n",
              "    <tr>\n",
              "      <th>0</th>\n",
              "      <td>3</td>\n",
              "      <td>1</td>\n",
              "      <td>1</td>\n",
              "      <td>1</td>\n",
              "      <td>3.0</td>\n",
              "      <td>24.0</td>\n",
              "      <td>Female</td>\n",
              "      <td>Married/Living together</td>\n",
              "      <td>Secondary education</td>\n",
              "      <td>Self employed</td>\n",
              "    </tr>\n",
              "    <tr>\n",
              "      <th>1</th>\n",
              "      <td>3</td>\n",
              "      <td>0</td>\n",
              "      <td>1</td>\n",
              "      <td>0</td>\n",
              "      <td>5.0</td>\n",
              "      <td>70.0</td>\n",
              "      <td>Female</td>\n",
              "      <td>Widowed</td>\n",
              "      <td>No formal education</td>\n",
              "      <td>Government Dependent</td>\n",
              "    </tr>\n",
              "    <tr>\n",
              "      <th>2</th>\n",
              "      <td>3</td>\n",
              "      <td>1</td>\n",
              "      <td>0</td>\n",
              "      <td>1</td>\n",
              "      <td>5.0</td>\n",
              "      <td>26.0</td>\n",
              "      <td>Male</td>\n",
              "      <td>Single/Never Married</td>\n",
              "      <td>Vocational/Specialised training</td>\n",
              "      <td>Self employed</td>\n",
              "    </tr>\n",
              "    <tr>\n",
              "      <th>3</th>\n",
              "      <td>3</td>\n",
              "      <td>0</td>\n",
              "      <td>1</td>\n",
              "      <td>1</td>\n",
              "      <td>5.0</td>\n",
              "      <td>34.0</td>\n",
              "      <td>Female</td>\n",
              "      <td>Married/Living together</td>\n",
              "      <td>Primary education</td>\n",
              "      <td>Formally employed Private</td>\n",
              "    </tr>\n",
              "    <tr>\n",
              "      <th>4</th>\n",
              "      <td>3</td>\n",
              "      <td>0</td>\n",
              "      <td>0</td>\n",
              "      <td>0</td>\n",
              "      <td>8.0</td>\n",
              "      <td>26.0</td>\n",
              "      <td>Male</td>\n",
              "      <td>Single/Never Married</td>\n",
              "      <td>Primary education</td>\n",
              "      <td>Informally employed</td>\n",
              "    </tr>\n",
              "  </tbody>\n",
              "</table>\n",
              "</div>\n",
              "      <button class=\"colab-df-convert\" onclick=\"convertToInteractive('df-da73196c-03dd-444f-ab3b-c735e2f80493')\"\n",
              "              title=\"Convert this dataframe to an interactive table.\"\n",
              "              style=\"display:none;\">\n",
              "        \n",
              "  <svg xmlns=\"http://www.w3.org/2000/svg\" height=\"24px\"viewBox=\"0 0 24 24\"\n",
              "       width=\"24px\">\n",
              "    <path d=\"M0 0h24v24H0V0z\" fill=\"none\"/>\n",
              "    <path d=\"M18.56 5.44l.94 2.06.94-2.06 2.06-.94-2.06-.94-.94-2.06-.94 2.06-2.06.94zm-11 1L8.5 8.5l.94-2.06 2.06-.94-2.06-.94L8.5 2.5l-.94 2.06-2.06.94zm10 10l.94 2.06.94-2.06 2.06-.94-2.06-.94-.94-2.06-.94 2.06-2.06.94z\"/><path d=\"M17.41 7.96l-1.37-1.37c-.4-.4-.92-.59-1.43-.59-.52 0-1.04.2-1.43.59L10.3 9.45l-7.72 7.72c-.78.78-.78 2.05 0 2.83L4 21.41c.39.39.9.59 1.41.59.51 0 1.02-.2 1.41-.59l7.78-7.78 2.81-2.81c.8-.78.8-2.07 0-2.86zM5.41 20L4 18.59l7.72-7.72 1.47 1.35L5.41 20z\"/>\n",
              "  </svg>\n",
              "      </button>\n",
              "      \n",
              "  <style>\n",
              "    .colab-df-container {\n",
              "      display:flex;\n",
              "      flex-wrap:wrap;\n",
              "      gap: 12px;\n",
              "    }\n",
              "\n",
              "    .colab-df-convert {\n",
              "      background-color: #E8F0FE;\n",
              "      border: none;\n",
              "      border-radius: 50%;\n",
              "      cursor: pointer;\n",
              "      display: none;\n",
              "      fill: #1967D2;\n",
              "      height: 32px;\n",
              "      padding: 0 0 0 0;\n",
              "      width: 32px;\n",
              "    }\n",
              "\n",
              "    .colab-df-convert:hover {\n",
              "      background-color: #E2EBFA;\n",
              "      box-shadow: 0px 1px 2px rgba(60, 64, 67, 0.3), 0px 1px 3px 1px rgba(60, 64, 67, 0.15);\n",
              "      fill: #174EA6;\n",
              "    }\n",
              "\n",
              "    [theme=dark] .colab-df-convert {\n",
              "      background-color: #3B4455;\n",
              "      fill: #D2E3FC;\n",
              "    }\n",
              "\n",
              "    [theme=dark] .colab-df-convert:hover {\n",
              "      background-color: #434B5C;\n",
              "      box-shadow: 0px 1px 3px 1px rgba(0, 0, 0, 0.15);\n",
              "      filter: drop-shadow(0px 1px 2px rgba(0, 0, 0, 0.3));\n",
              "      fill: #FFFFFF;\n",
              "    }\n",
              "  </style>\n",
              "\n",
              "      <script>\n",
              "        const buttonEl =\n",
              "          document.querySelector('#df-da73196c-03dd-444f-ab3b-c735e2f80493 button.colab-df-convert');\n",
              "        buttonEl.style.display =\n",
              "          google.colab.kernel.accessAllowed ? 'block' : 'none';\n",
              "\n",
              "        async function convertToInteractive(key) {\n",
              "          const element = document.querySelector('#df-da73196c-03dd-444f-ab3b-c735e2f80493');\n",
              "          const dataTable =\n",
              "            await google.colab.kernel.invokeFunction('convertToInteractive',\n",
              "                                                     [key], {});\n",
              "          if (!dataTable) return;\n",
              "\n",
              "          const docLinkHtml = 'Like what you see? Visit the ' +\n",
              "            '<a target=\"_blank\" href=https://colab.research.google.com/notebooks/data_table.ipynb>data table notebook</a>'\n",
              "            + ' to learn more about interactive tables.';\n",
              "          element.innerHTML = '';\n",
              "          dataTable['output_type'] = 'display_data';\n",
              "          await google.colab.output.renderOutput(dataTable, element);\n",
              "          const docLink = document.createElement('div');\n",
              "          docLink.innerHTML = docLinkHtml;\n",
              "          element.appendChild(docLink);\n",
              "        }\n",
              "      </script>\n",
              "    </div>\n",
              "  </div>\n",
              "  "
            ]
          },
          "metadata": {},
          "execution_count": 1338
        }
      ]
    },
    {
      "cell_type": "code",
      "source": [
        "gender_detail = {'gender_of_respondent':{'Female': 1, 'Male':0}}\n",
        "EastAfrica_dataset_clean_new_without_year.replace(gender_detail, inplace=True)\n",
        "EastAfrica_dataset_clean_new_without_year['gender_of_respondent']=EastAfrica_dataset_clean_new_without_year['gender_of_respondent'].astype('int')\n",
        "EastAfrica_dataset_clean_new_without_year.head()"
      ],
      "metadata": {
        "colab": {
          "base_uri": "https://localhost:8080/",
          "height": 374
        },
        "id": "QiRlmusCHqFc",
        "outputId": "a7da488a-039c-4a9b-c6ae-487e076c71b8"
      },
      "execution_count": 1339,
      "outputs": [
        {
          "output_type": "execute_result",
          "data": {
            "text/plain": [
              "   country  Has_a_Bank_account  Type_of_Location  Cell_Phone_Access  \\\n",
              "0        3                   1                 1                  1   \n",
              "1        3                   0                 1                  0   \n",
              "2        3                   1                 0                  1   \n",
              "3        3                   0                 1                  1   \n",
              "4        3                   0                 0                  0   \n",
              "\n",
              "   household_size  Respondent_Age  gender_of_respondent  \\\n",
              "0             3.0            24.0                     1   \n",
              "1             5.0            70.0                     1   \n",
              "2             5.0            26.0                     0   \n",
              "3             5.0            34.0                     1   \n",
              "4             8.0            26.0                     0   \n",
              "\n",
              "            marital_status              Level_of_Educuation  \\\n",
              "0  Married/Living together              Secondary education   \n",
              "1                  Widowed              No formal education   \n",
              "2     Single/Never Married  Vocational/Specialised training   \n",
              "3  Married/Living together                Primary education   \n",
              "4     Single/Never Married                Primary education   \n",
              "\n",
              "                 Type_of_Job  \n",
              "0              Self employed  \n",
              "1       Government Dependent  \n",
              "2              Self employed  \n",
              "3  Formally employed Private  \n",
              "4        Informally employed  "
            ],
            "text/html": [
              "\n",
              "  <div id=\"df-90e39a33-e4dc-4eb7-9f16-14404762a9a1\">\n",
              "    <div class=\"colab-df-container\">\n",
              "      <div>\n",
              "<style scoped>\n",
              "    .dataframe tbody tr th:only-of-type {\n",
              "        vertical-align: middle;\n",
              "    }\n",
              "\n",
              "    .dataframe tbody tr th {\n",
              "        vertical-align: top;\n",
              "    }\n",
              "\n",
              "    .dataframe thead th {\n",
              "        text-align: right;\n",
              "    }\n",
              "</style>\n",
              "<table border=\"1\" class=\"dataframe\">\n",
              "  <thead>\n",
              "    <tr style=\"text-align: right;\">\n",
              "      <th></th>\n",
              "      <th>country</th>\n",
              "      <th>Has_a_Bank_account</th>\n",
              "      <th>Type_of_Location</th>\n",
              "      <th>Cell_Phone_Access</th>\n",
              "      <th>household_size</th>\n",
              "      <th>Respondent_Age</th>\n",
              "      <th>gender_of_respondent</th>\n",
              "      <th>marital_status</th>\n",
              "      <th>Level_of_Educuation</th>\n",
              "      <th>Type_of_Job</th>\n",
              "    </tr>\n",
              "  </thead>\n",
              "  <tbody>\n",
              "    <tr>\n",
              "      <th>0</th>\n",
              "      <td>3</td>\n",
              "      <td>1</td>\n",
              "      <td>1</td>\n",
              "      <td>1</td>\n",
              "      <td>3.0</td>\n",
              "      <td>24.0</td>\n",
              "      <td>1</td>\n",
              "      <td>Married/Living together</td>\n",
              "      <td>Secondary education</td>\n",
              "      <td>Self employed</td>\n",
              "    </tr>\n",
              "    <tr>\n",
              "      <th>1</th>\n",
              "      <td>3</td>\n",
              "      <td>0</td>\n",
              "      <td>1</td>\n",
              "      <td>0</td>\n",
              "      <td>5.0</td>\n",
              "      <td>70.0</td>\n",
              "      <td>1</td>\n",
              "      <td>Widowed</td>\n",
              "      <td>No formal education</td>\n",
              "      <td>Government Dependent</td>\n",
              "    </tr>\n",
              "    <tr>\n",
              "      <th>2</th>\n",
              "      <td>3</td>\n",
              "      <td>1</td>\n",
              "      <td>0</td>\n",
              "      <td>1</td>\n",
              "      <td>5.0</td>\n",
              "      <td>26.0</td>\n",
              "      <td>0</td>\n",
              "      <td>Single/Never Married</td>\n",
              "      <td>Vocational/Specialised training</td>\n",
              "      <td>Self employed</td>\n",
              "    </tr>\n",
              "    <tr>\n",
              "      <th>3</th>\n",
              "      <td>3</td>\n",
              "      <td>0</td>\n",
              "      <td>1</td>\n",
              "      <td>1</td>\n",
              "      <td>5.0</td>\n",
              "      <td>34.0</td>\n",
              "      <td>1</td>\n",
              "      <td>Married/Living together</td>\n",
              "      <td>Primary education</td>\n",
              "      <td>Formally employed Private</td>\n",
              "    </tr>\n",
              "    <tr>\n",
              "      <th>4</th>\n",
              "      <td>3</td>\n",
              "      <td>0</td>\n",
              "      <td>0</td>\n",
              "      <td>0</td>\n",
              "      <td>8.0</td>\n",
              "      <td>26.0</td>\n",
              "      <td>0</td>\n",
              "      <td>Single/Never Married</td>\n",
              "      <td>Primary education</td>\n",
              "      <td>Informally employed</td>\n",
              "    </tr>\n",
              "  </tbody>\n",
              "</table>\n",
              "</div>\n",
              "      <button class=\"colab-df-convert\" onclick=\"convertToInteractive('df-90e39a33-e4dc-4eb7-9f16-14404762a9a1')\"\n",
              "              title=\"Convert this dataframe to an interactive table.\"\n",
              "              style=\"display:none;\">\n",
              "        \n",
              "  <svg xmlns=\"http://www.w3.org/2000/svg\" height=\"24px\"viewBox=\"0 0 24 24\"\n",
              "       width=\"24px\">\n",
              "    <path d=\"M0 0h24v24H0V0z\" fill=\"none\"/>\n",
              "    <path d=\"M18.56 5.44l.94 2.06.94-2.06 2.06-.94-2.06-.94-.94-2.06-.94 2.06-2.06.94zm-11 1L8.5 8.5l.94-2.06 2.06-.94-2.06-.94L8.5 2.5l-.94 2.06-2.06.94zm10 10l.94 2.06.94-2.06 2.06-.94-2.06-.94-.94-2.06-.94 2.06-2.06.94z\"/><path d=\"M17.41 7.96l-1.37-1.37c-.4-.4-.92-.59-1.43-.59-.52 0-1.04.2-1.43.59L10.3 9.45l-7.72 7.72c-.78.78-.78 2.05 0 2.83L4 21.41c.39.39.9.59 1.41.59.51 0 1.02-.2 1.41-.59l7.78-7.78 2.81-2.81c.8-.78.8-2.07 0-2.86zM5.41 20L4 18.59l7.72-7.72 1.47 1.35L5.41 20z\"/>\n",
              "  </svg>\n",
              "      </button>\n",
              "      \n",
              "  <style>\n",
              "    .colab-df-container {\n",
              "      display:flex;\n",
              "      flex-wrap:wrap;\n",
              "      gap: 12px;\n",
              "    }\n",
              "\n",
              "    .colab-df-convert {\n",
              "      background-color: #E8F0FE;\n",
              "      border: none;\n",
              "      border-radius: 50%;\n",
              "      cursor: pointer;\n",
              "      display: none;\n",
              "      fill: #1967D2;\n",
              "      height: 32px;\n",
              "      padding: 0 0 0 0;\n",
              "      width: 32px;\n",
              "    }\n",
              "\n",
              "    .colab-df-convert:hover {\n",
              "      background-color: #E2EBFA;\n",
              "      box-shadow: 0px 1px 2px rgba(60, 64, 67, 0.3), 0px 1px 3px 1px rgba(60, 64, 67, 0.15);\n",
              "      fill: #174EA6;\n",
              "    }\n",
              "\n",
              "    [theme=dark] .colab-df-convert {\n",
              "      background-color: #3B4455;\n",
              "      fill: #D2E3FC;\n",
              "    }\n",
              "\n",
              "    [theme=dark] .colab-df-convert:hover {\n",
              "      background-color: #434B5C;\n",
              "      box-shadow: 0px 1px 3px 1px rgba(0, 0, 0, 0.15);\n",
              "      filter: drop-shadow(0px 1px 2px rgba(0, 0, 0, 0.3));\n",
              "      fill: #FFFFFF;\n",
              "    }\n",
              "  </style>\n",
              "\n",
              "      <script>\n",
              "        const buttonEl =\n",
              "          document.querySelector('#df-90e39a33-e4dc-4eb7-9f16-14404762a9a1 button.colab-df-convert');\n",
              "        buttonEl.style.display =\n",
              "          google.colab.kernel.accessAllowed ? 'block' : 'none';\n",
              "\n",
              "        async function convertToInteractive(key) {\n",
              "          const element = document.querySelector('#df-90e39a33-e4dc-4eb7-9f16-14404762a9a1');\n",
              "          const dataTable =\n",
              "            await google.colab.kernel.invokeFunction('convertToInteractive',\n",
              "                                                     [key], {});\n",
              "          if (!dataTable) return;\n",
              "\n",
              "          const docLinkHtml = 'Like what you see? Visit the ' +\n",
              "            '<a target=\"_blank\" href=https://colab.research.google.com/notebooks/data_table.ipynb>data table notebook</a>'\n",
              "            + ' to learn more about interactive tables.';\n",
              "          element.innerHTML = '';\n",
              "          dataTable['output_type'] = 'display_data';\n",
              "          await google.colab.output.renderOutput(dataTable, element);\n",
              "          const docLink = document.createElement('div');\n",
              "          docLink.innerHTML = docLinkHtml;\n",
              "          element.appendChild(docLink);\n",
              "        }\n",
              "      </script>\n",
              "    </div>\n",
              "  </div>\n",
              "  "
            ]
          },
          "metadata": {},
          "execution_count": 1339
        }
      ]
    },
    {
      "cell_type": "code",
      "source": [
        "marital_detail = {'marital_status':{'Married/Living together': 1, 'Single/Never Married':2, 'Widowed':3, 'Divorced/Seperated':4, 'Dont know':5}}\n",
        "EastAfrica_dataset_clean_new_without_year.replace(marital_detail, inplace=True)\n",
        "EastAfrica_dataset_clean_new_without_year['marital_status']=EastAfrica_dataset_clean_new_without_year['marital_status'].astype('int')\n",
        "EastAfrica_dataset_clean_new_without_year.head()"
      ],
      "metadata": {
        "colab": {
          "base_uri": "https://localhost:8080/",
          "height": 374
        },
        "id": "wsjZQZdXIJCi",
        "outputId": "10959937-88a5-4bc8-c790-a6792c5d4df8"
      },
      "execution_count": 1340,
      "outputs": [
        {
          "output_type": "execute_result",
          "data": {
            "text/plain": [
              "   country  Has_a_Bank_account  Type_of_Location  Cell_Phone_Access  \\\n",
              "0        3                   1                 1                  1   \n",
              "1        3                   0                 1                  0   \n",
              "2        3                   1                 0                  1   \n",
              "3        3                   0                 1                  1   \n",
              "4        3                   0                 0                  0   \n",
              "\n",
              "   household_size  Respondent_Age  gender_of_respondent  marital_status  \\\n",
              "0             3.0            24.0                     1               1   \n",
              "1             5.0            70.0                     1               3   \n",
              "2             5.0            26.0                     0               2   \n",
              "3             5.0            34.0                     1               1   \n",
              "4             8.0            26.0                     0               2   \n",
              "\n",
              "               Level_of_Educuation                Type_of_Job  \n",
              "0              Secondary education              Self employed  \n",
              "1              No formal education       Government Dependent  \n",
              "2  Vocational/Specialised training              Self employed  \n",
              "3                Primary education  Formally employed Private  \n",
              "4                Primary education        Informally employed  "
            ],
            "text/html": [
              "\n",
              "  <div id=\"df-4d18a939-0bd0-4e9b-af59-897e684971e7\">\n",
              "    <div class=\"colab-df-container\">\n",
              "      <div>\n",
              "<style scoped>\n",
              "    .dataframe tbody tr th:only-of-type {\n",
              "        vertical-align: middle;\n",
              "    }\n",
              "\n",
              "    .dataframe tbody tr th {\n",
              "        vertical-align: top;\n",
              "    }\n",
              "\n",
              "    .dataframe thead th {\n",
              "        text-align: right;\n",
              "    }\n",
              "</style>\n",
              "<table border=\"1\" class=\"dataframe\">\n",
              "  <thead>\n",
              "    <tr style=\"text-align: right;\">\n",
              "      <th></th>\n",
              "      <th>country</th>\n",
              "      <th>Has_a_Bank_account</th>\n",
              "      <th>Type_of_Location</th>\n",
              "      <th>Cell_Phone_Access</th>\n",
              "      <th>household_size</th>\n",
              "      <th>Respondent_Age</th>\n",
              "      <th>gender_of_respondent</th>\n",
              "      <th>marital_status</th>\n",
              "      <th>Level_of_Educuation</th>\n",
              "      <th>Type_of_Job</th>\n",
              "    </tr>\n",
              "  </thead>\n",
              "  <tbody>\n",
              "    <tr>\n",
              "      <th>0</th>\n",
              "      <td>3</td>\n",
              "      <td>1</td>\n",
              "      <td>1</td>\n",
              "      <td>1</td>\n",
              "      <td>3.0</td>\n",
              "      <td>24.0</td>\n",
              "      <td>1</td>\n",
              "      <td>1</td>\n",
              "      <td>Secondary education</td>\n",
              "      <td>Self employed</td>\n",
              "    </tr>\n",
              "    <tr>\n",
              "      <th>1</th>\n",
              "      <td>3</td>\n",
              "      <td>0</td>\n",
              "      <td>1</td>\n",
              "      <td>0</td>\n",
              "      <td>5.0</td>\n",
              "      <td>70.0</td>\n",
              "      <td>1</td>\n",
              "      <td>3</td>\n",
              "      <td>No formal education</td>\n",
              "      <td>Government Dependent</td>\n",
              "    </tr>\n",
              "    <tr>\n",
              "      <th>2</th>\n",
              "      <td>3</td>\n",
              "      <td>1</td>\n",
              "      <td>0</td>\n",
              "      <td>1</td>\n",
              "      <td>5.0</td>\n",
              "      <td>26.0</td>\n",
              "      <td>0</td>\n",
              "      <td>2</td>\n",
              "      <td>Vocational/Specialised training</td>\n",
              "      <td>Self employed</td>\n",
              "    </tr>\n",
              "    <tr>\n",
              "      <th>3</th>\n",
              "      <td>3</td>\n",
              "      <td>0</td>\n",
              "      <td>1</td>\n",
              "      <td>1</td>\n",
              "      <td>5.0</td>\n",
              "      <td>34.0</td>\n",
              "      <td>1</td>\n",
              "      <td>1</td>\n",
              "      <td>Primary education</td>\n",
              "      <td>Formally employed Private</td>\n",
              "    </tr>\n",
              "    <tr>\n",
              "      <th>4</th>\n",
              "      <td>3</td>\n",
              "      <td>0</td>\n",
              "      <td>0</td>\n",
              "      <td>0</td>\n",
              "      <td>8.0</td>\n",
              "      <td>26.0</td>\n",
              "      <td>0</td>\n",
              "      <td>2</td>\n",
              "      <td>Primary education</td>\n",
              "      <td>Informally employed</td>\n",
              "    </tr>\n",
              "  </tbody>\n",
              "</table>\n",
              "</div>\n",
              "      <button class=\"colab-df-convert\" onclick=\"convertToInteractive('df-4d18a939-0bd0-4e9b-af59-897e684971e7')\"\n",
              "              title=\"Convert this dataframe to an interactive table.\"\n",
              "              style=\"display:none;\">\n",
              "        \n",
              "  <svg xmlns=\"http://www.w3.org/2000/svg\" height=\"24px\"viewBox=\"0 0 24 24\"\n",
              "       width=\"24px\">\n",
              "    <path d=\"M0 0h24v24H0V0z\" fill=\"none\"/>\n",
              "    <path d=\"M18.56 5.44l.94 2.06.94-2.06 2.06-.94-2.06-.94-.94-2.06-.94 2.06-2.06.94zm-11 1L8.5 8.5l.94-2.06 2.06-.94-2.06-.94L8.5 2.5l-.94 2.06-2.06.94zm10 10l.94 2.06.94-2.06 2.06-.94-2.06-.94-.94-2.06-.94 2.06-2.06.94z\"/><path d=\"M17.41 7.96l-1.37-1.37c-.4-.4-.92-.59-1.43-.59-.52 0-1.04.2-1.43.59L10.3 9.45l-7.72 7.72c-.78.78-.78 2.05 0 2.83L4 21.41c.39.39.9.59 1.41.59.51 0 1.02-.2 1.41-.59l7.78-7.78 2.81-2.81c.8-.78.8-2.07 0-2.86zM5.41 20L4 18.59l7.72-7.72 1.47 1.35L5.41 20z\"/>\n",
              "  </svg>\n",
              "      </button>\n",
              "      \n",
              "  <style>\n",
              "    .colab-df-container {\n",
              "      display:flex;\n",
              "      flex-wrap:wrap;\n",
              "      gap: 12px;\n",
              "    }\n",
              "\n",
              "    .colab-df-convert {\n",
              "      background-color: #E8F0FE;\n",
              "      border: none;\n",
              "      border-radius: 50%;\n",
              "      cursor: pointer;\n",
              "      display: none;\n",
              "      fill: #1967D2;\n",
              "      height: 32px;\n",
              "      padding: 0 0 0 0;\n",
              "      width: 32px;\n",
              "    }\n",
              "\n",
              "    .colab-df-convert:hover {\n",
              "      background-color: #E2EBFA;\n",
              "      box-shadow: 0px 1px 2px rgba(60, 64, 67, 0.3), 0px 1px 3px 1px rgba(60, 64, 67, 0.15);\n",
              "      fill: #174EA6;\n",
              "    }\n",
              "\n",
              "    [theme=dark] .colab-df-convert {\n",
              "      background-color: #3B4455;\n",
              "      fill: #D2E3FC;\n",
              "    }\n",
              "\n",
              "    [theme=dark] .colab-df-convert:hover {\n",
              "      background-color: #434B5C;\n",
              "      box-shadow: 0px 1px 3px 1px rgba(0, 0, 0, 0.15);\n",
              "      filter: drop-shadow(0px 1px 2px rgba(0, 0, 0, 0.3));\n",
              "      fill: #FFFFFF;\n",
              "    }\n",
              "  </style>\n",
              "\n",
              "      <script>\n",
              "        const buttonEl =\n",
              "          document.querySelector('#df-4d18a939-0bd0-4e9b-af59-897e684971e7 button.colab-df-convert');\n",
              "        buttonEl.style.display =\n",
              "          google.colab.kernel.accessAllowed ? 'block' : 'none';\n",
              "\n",
              "        async function convertToInteractive(key) {\n",
              "          const element = document.querySelector('#df-4d18a939-0bd0-4e9b-af59-897e684971e7');\n",
              "          const dataTable =\n",
              "            await google.colab.kernel.invokeFunction('convertToInteractive',\n",
              "                                                     [key], {});\n",
              "          if (!dataTable) return;\n",
              "\n",
              "          const docLinkHtml = 'Like what you see? Visit the ' +\n",
              "            '<a target=\"_blank\" href=https://colab.research.google.com/notebooks/data_table.ipynb>data table notebook</a>'\n",
              "            + ' to learn more about interactive tables.';\n",
              "          element.innerHTML = '';\n",
              "          dataTable['output_type'] = 'display_data';\n",
              "          await google.colab.output.renderOutput(dataTable, element);\n",
              "          const docLink = document.createElement('div');\n",
              "          docLink.innerHTML = docLinkHtml;\n",
              "          element.appendChild(docLink);\n",
              "        }\n",
              "      </script>\n",
              "    </div>\n",
              "  </div>\n",
              "  "
            ]
          },
          "metadata": {},
          "execution_count": 1340
        }
      ]
    },
    {
      "cell_type": "code",
      "source": [
        "Educuation_detail = {'Level_of_Educuation':{'Tertiary education': 1, 'Vocational/Specialised training':2, 'Secondary education':3, 'Primary education':4, 'No formal education':5, 'Other/Dont know/RTA':6}}\n",
        "EastAfrica_dataset_clean_new_without_year.replace(Educuation_detail, inplace=True)\n",
        "EastAfrica_dataset_clean_new_without_year['Level_of_Educuation']=EastAfrica_dataset_clean_new_without_year['Level_of_Educuation'].astype('int')\n",
        "EastAfrica_dataset_clean_new_without_year.head(10)"
      ],
      "metadata": {
        "colab": {
          "base_uri": "https://localhost:8080/",
          "height": 635
        },
        "id": "paewe1d1LbcD",
        "outputId": "f56e0c85-0a89-4671-f491-a7c45f6a2294"
      },
      "execution_count": 1341,
      "outputs": [
        {
          "output_type": "execute_result",
          "data": {
            "text/plain": [
              "   country  Has_a_Bank_account  Type_of_Location  Cell_Phone_Access  \\\n",
              "0        3                   1                 1                  1   \n",
              "1        3                   0                 1                  0   \n",
              "2        3                   1                 0                  1   \n",
              "3        3                   0                 1                  1   \n",
              "4        3                   0                 0                  0   \n",
              "5        3                   0                 1                  0   \n",
              "6        3                   0                 1                  1   \n",
              "7        3                   0                 1                  1   \n",
              "8        3                   1                 1                  1   \n",
              "9        3                   0                 0                  1   \n",
              "\n",
              "   household_size  Respondent_Age  gender_of_respondent  marital_status  \\\n",
              "0             3.0            24.0                     1               1   \n",
              "1             5.0            70.0                     1               3   \n",
              "2             5.0            26.0                     0               2   \n",
              "3             5.0            34.0                     1               1   \n",
              "4             8.0            26.0                     0               2   \n",
              "5             7.0            26.0                     1               1   \n",
              "6             7.0            32.0                     1               1   \n",
              "7             1.0            42.0                     1               1   \n",
              "8             3.0            54.0                     0               1   \n",
              "9             3.0            76.0                     1               4   \n",
              "\n",
              "   Level_of_Educuation                   Type_of_Job  \n",
              "0                    3                 Self employed  \n",
              "1                    5          Government Dependent  \n",
              "2                    2                 Self employed  \n",
              "3                    4     Formally employed Private  \n",
              "4                    4           Informally employed  \n",
              "5                    4           Informally employed  \n",
              "6                    4                 Self employed  \n",
              "7                    1  Formally employed Government  \n",
              "8                    3           Farming and Fishing  \n",
              "9                    5          Remittance Dependent  "
            ],
            "text/html": [
              "\n",
              "  <div id=\"df-ae5fa43d-d92a-4365-a80b-904a8f0f6dc4\">\n",
              "    <div class=\"colab-df-container\">\n",
              "      <div>\n",
              "<style scoped>\n",
              "    .dataframe tbody tr th:only-of-type {\n",
              "        vertical-align: middle;\n",
              "    }\n",
              "\n",
              "    .dataframe tbody tr th {\n",
              "        vertical-align: top;\n",
              "    }\n",
              "\n",
              "    .dataframe thead th {\n",
              "        text-align: right;\n",
              "    }\n",
              "</style>\n",
              "<table border=\"1\" class=\"dataframe\">\n",
              "  <thead>\n",
              "    <tr style=\"text-align: right;\">\n",
              "      <th></th>\n",
              "      <th>country</th>\n",
              "      <th>Has_a_Bank_account</th>\n",
              "      <th>Type_of_Location</th>\n",
              "      <th>Cell_Phone_Access</th>\n",
              "      <th>household_size</th>\n",
              "      <th>Respondent_Age</th>\n",
              "      <th>gender_of_respondent</th>\n",
              "      <th>marital_status</th>\n",
              "      <th>Level_of_Educuation</th>\n",
              "      <th>Type_of_Job</th>\n",
              "    </tr>\n",
              "  </thead>\n",
              "  <tbody>\n",
              "    <tr>\n",
              "      <th>0</th>\n",
              "      <td>3</td>\n",
              "      <td>1</td>\n",
              "      <td>1</td>\n",
              "      <td>1</td>\n",
              "      <td>3.0</td>\n",
              "      <td>24.0</td>\n",
              "      <td>1</td>\n",
              "      <td>1</td>\n",
              "      <td>3</td>\n",
              "      <td>Self employed</td>\n",
              "    </tr>\n",
              "    <tr>\n",
              "      <th>1</th>\n",
              "      <td>3</td>\n",
              "      <td>0</td>\n",
              "      <td>1</td>\n",
              "      <td>0</td>\n",
              "      <td>5.0</td>\n",
              "      <td>70.0</td>\n",
              "      <td>1</td>\n",
              "      <td>3</td>\n",
              "      <td>5</td>\n",
              "      <td>Government Dependent</td>\n",
              "    </tr>\n",
              "    <tr>\n",
              "      <th>2</th>\n",
              "      <td>3</td>\n",
              "      <td>1</td>\n",
              "      <td>0</td>\n",
              "      <td>1</td>\n",
              "      <td>5.0</td>\n",
              "      <td>26.0</td>\n",
              "      <td>0</td>\n",
              "      <td>2</td>\n",
              "      <td>2</td>\n",
              "      <td>Self employed</td>\n",
              "    </tr>\n",
              "    <tr>\n",
              "      <th>3</th>\n",
              "      <td>3</td>\n",
              "      <td>0</td>\n",
              "      <td>1</td>\n",
              "      <td>1</td>\n",
              "      <td>5.0</td>\n",
              "      <td>34.0</td>\n",
              "      <td>1</td>\n",
              "      <td>1</td>\n",
              "      <td>4</td>\n",
              "      <td>Formally employed Private</td>\n",
              "    </tr>\n",
              "    <tr>\n",
              "      <th>4</th>\n",
              "      <td>3</td>\n",
              "      <td>0</td>\n",
              "      <td>0</td>\n",
              "      <td>0</td>\n",
              "      <td>8.0</td>\n",
              "      <td>26.0</td>\n",
              "      <td>0</td>\n",
              "      <td>2</td>\n",
              "      <td>4</td>\n",
              "      <td>Informally employed</td>\n",
              "    </tr>\n",
              "    <tr>\n",
              "      <th>5</th>\n",
              "      <td>3</td>\n",
              "      <td>0</td>\n",
              "      <td>1</td>\n",
              "      <td>0</td>\n",
              "      <td>7.0</td>\n",
              "      <td>26.0</td>\n",
              "      <td>1</td>\n",
              "      <td>1</td>\n",
              "      <td>4</td>\n",
              "      <td>Informally employed</td>\n",
              "    </tr>\n",
              "    <tr>\n",
              "      <th>6</th>\n",
              "      <td>3</td>\n",
              "      <td>0</td>\n",
              "      <td>1</td>\n",
              "      <td>1</td>\n",
              "      <td>7.0</td>\n",
              "      <td>32.0</td>\n",
              "      <td>1</td>\n",
              "      <td>1</td>\n",
              "      <td>4</td>\n",
              "      <td>Self employed</td>\n",
              "    </tr>\n",
              "    <tr>\n",
              "      <th>7</th>\n",
              "      <td>3</td>\n",
              "      <td>0</td>\n",
              "      <td>1</td>\n",
              "      <td>1</td>\n",
              "      <td>1.0</td>\n",
              "      <td>42.0</td>\n",
              "      <td>1</td>\n",
              "      <td>1</td>\n",
              "      <td>1</td>\n",
              "      <td>Formally employed Government</td>\n",
              "    </tr>\n",
              "    <tr>\n",
              "      <th>8</th>\n",
              "      <td>3</td>\n",
              "      <td>1</td>\n",
              "      <td>1</td>\n",
              "      <td>1</td>\n",
              "      <td>3.0</td>\n",
              "      <td>54.0</td>\n",
              "      <td>0</td>\n",
              "      <td>1</td>\n",
              "      <td>3</td>\n",
              "      <td>Farming and Fishing</td>\n",
              "    </tr>\n",
              "    <tr>\n",
              "      <th>9</th>\n",
              "      <td>3</td>\n",
              "      <td>0</td>\n",
              "      <td>0</td>\n",
              "      <td>1</td>\n",
              "      <td>3.0</td>\n",
              "      <td>76.0</td>\n",
              "      <td>1</td>\n",
              "      <td>4</td>\n",
              "      <td>5</td>\n",
              "      <td>Remittance Dependent</td>\n",
              "    </tr>\n",
              "  </tbody>\n",
              "</table>\n",
              "</div>\n",
              "      <button class=\"colab-df-convert\" onclick=\"convertToInteractive('df-ae5fa43d-d92a-4365-a80b-904a8f0f6dc4')\"\n",
              "              title=\"Convert this dataframe to an interactive table.\"\n",
              "              style=\"display:none;\">\n",
              "        \n",
              "  <svg xmlns=\"http://www.w3.org/2000/svg\" height=\"24px\"viewBox=\"0 0 24 24\"\n",
              "       width=\"24px\">\n",
              "    <path d=\"M0 0h24v24H0V0z\" fill=\"none\"/>\n",
              "    <path d=\"M18.56 5.44l.94 2.06.94-2.06 2.06-.94-2.06-.94-.94-2.06-.94 2.06-2.06.94zm-11 1L8.5 8.5l.94-2.06 2.06-.94-2.06-.94L8.5 2.5l-.94 2.06-2.06.94zm10 10l.94 2.06.94-2.06 2.06-.94-2.06-.94-.94-2.06-.94 2.06-2.06.94z\"/><path d=\"M17.41 7.96l-1.37-1.37c-.4-.4-.92-.59-1.43-.59-.52 0-1.04.2-1.43.59L10.3 9.45l-7.72 7.72c-.78.78-.78 2.05 0 2.83L4 21.41c.39.39.9.59 1.41.59.51 0 1.02-.2 1.41-.59l7.78-7.78 2.81-2.81c.8-.78.8-2.07 0-2.86zM5.41 20L4 18.59l7.72-7.72 1.47 1.35L5.41 20z\"/>\n",
              "  </svg>\n",
              "      </button>\n",
              "      \n",
              "  <style>\n",
              "    .colab-df-container {\n",
              "      display:flex;\n",
              "      flex-wrap:wrap;\n",
              "      gap: 12px;\n",
              "    }\n",
              "\n",
              "    .colab-df-convert {\n",
              "      background-color: #E8F0FE;\n",
              "      border: none;\n",
              "      border-radius: 50%;\n",
              "      cursor: pointer;\n",
              "      display: none;\n",
              "      fill: #1967D2;\n",
              "      height: 32px;\n",
              "      padding: 0 0 0 0;\n",
              "      width: 32px;\n",
              "    }\n",
              "\n",
              "    .colab-df-convert:hover {\n",
              "      background-color: #E2EBFA;\n",
              "      box-shadow: 0px 1px 2px rgba(60, 64, 67, 0.3), 0px 1px 3px 1px rgba(60, 64, 67, 0.15);\n",
              "      fill: #174EA6;\n",
              "    }\n",
              "\n",
              "    [theme=dark] .colab-df-convert {\n",
              "      background-color: #3B4455;\n",
              "      fill: #D2E3FC;\n",
              "    }\n",
              "\n",
              "    [theme=dark] .colab-df-convert:hover {\n",
              "      background-color: #434B5C;\n",
              "      box-shadow: 0px 1px 3px 1px rgba(0, 0, 0, 0.15);\n",
              "      filter: drop-shadow(0px 1px 2px rgba(0, 0, 0, 0.3));\n",
              "      fill: #FFFFFF;\n",
              "    }\n",
              "  </style>\n",
              "\n",
              "      <script>\n",
              "        const buttonEl =\n",
              "          document.querySelector('#df-ae5fa43d-d92a-4365-a80b-904a8f0f6dc4 button.colab-df-convert');\n",
              "        buttonEl.style.display =\n",
              "          google.colab.kernel.accessAllowed ? 'block' : 'none';\n",
              "\n",
              "        async function convertToInteractive(key) {\n",
              "          const element = document.querySelector('#df-ae5fa43d-d92a-4365-a80b-904a8f0f6dc4');\n",
              "          const dataTable =\n",
              "            await google.colab.kernel.invokeFunction('convertToInteractive',\n",
              "                                                     [key], {});\n",
              "          if (!dataTable) return;\n",
              "\n",
              "          const docLinkHtml = 'Like what you see? Visit the ' +\n",
              "            '<a target=\"_blank\" href=https://colab.research.google.com/notebooks/data_table.ipynb>data table notebook</a>'\n",
              "            + ' to learn more about interactive tables.';\n",
              "          element.innerHTML = '';\n",
              "          dataTable['output_type'] = 'display_data';\n",
              "          await google.colab.output.renderOutput(dataTable, element);\n",
              "          const docLink = document.createElement('div');\n",
              "          docLink.innerHTML = docLinkHtml;\n",
              "          element.appendChild(docLink);\n",
              "        }\n",
              "      </script>\n",
              "    </div>\n",
              "  </div>\n",
              "  "
            ]
          },
          "metadata": {},
          "execution_count": 1341
        }
      ]
    },
    {
      "cell_type": "code",
      "source": [
        "Job_detail = {'Type_of_Job':{'Self employed': 1, 'Government Dependent':2, 'Formally employed Private':3, 'Informally employed':4, 'Formally employed Government':5, 'Farming and Fishing':6, 'Remittance Dependent':7,'Other Income':8, 'Dont Know/Refuse to answer':9,'No Income':10}}\n",
        "EastAfrica_dataset_clean_new_without_year.replace(Job_detail, inplace=True)\n",
        "EastAfrica_dataset_clean_new_without_year['Type_of_Job']=EastAfrica_dataset_clean_new_without_year['Type_of_Job'].astype('int')\n",
        "EastAfrica_dataset_clean_new_without_year.head()"
      ],
      "metadata": {
        "colab": {
          "base_uri": "https://localhost:8080/",
          "height": 270
        },
        "id": "JbYzhx0uMH21",
        "outputId": "b2efbd89-0bf6-4aa3-8c85-cd46bf9d9135"
      },
      "execution_count": 1342,
      "outputs": [
        {
          "output_type": "execute_result",
          "data": {
            "text/plain": [
              "   country  Has_a_Bank_account  Type_of_Location  Cell_Phone_Access  \\\n",
              "0        3                   1                 1                  1   \n",
              "1        3                   0                 1                  0   \n",
              "2        3                   1                 0                  1   \n",
              "3        3                   0                 1                  1   \n",
              "4        3                   0                 0                  0   \n",
              "\n",
              "   household_size  Respondent_Age  gender_of_respondent  marital_status  \\\n",
              "0             3.0            24.0                     1               1   \n",
              "1             5.0            70.0                     1               3   \n",
              "2             5.0            26.0                     0               2   \n",
              "3             5.0            34.0                     1               1   \n",
              "4             8.0            26.0                     0               2   \n",
              "\n",
              "   Level_of_Educuation  Type_of_Job  \n",
              "0                    3            1  \n",
              "1                    5            2  \n",
              "2                    2            1  \n",
              "3                    4            3  \n",
              "4                    4            4  "
            ],
            "text/html": [
              "\n",
              "  <div id=\"df-c4eb7754-ca77-4277-a6d5-1d510a11a7bd\">\n",
              "    <div class=\"colab-df-container\">\n",
              "      <div>\n",
              "<style scoped>\n",
              "    .dataframe tbody tr th:only-of-type {\n",
              "        vertical-align: middle;\n",
              "    }\n",
              "\n",
              "    .dataframe tbody tr th {\n",
              "        vertical-align: top;\n",
              "    }\n",
              "\n",
              "    .dataframe thead th {\n",
              "        text-align: right;\n",
              "    }\n",
              "</style>\n",
              "<table border=\"1\" class=\"dataframe\">\n",
              "  <thead>\n",
              "    <tr style=\"text-align: right;\">\n",
              "      <th></th>\n",
              "      <th>country</th>\n",
              "      <th>Has_a_Bank_account</th>\n",
              "      <th>Type_of_Location</th>\n",
              "      <th>Cell_Phone_Access</th>\n",
              "      <th>household_size</th>\n",
              "      <th>Respondent_Age</th>\n",
              "      <th>gender_of_respondent</th>\n",
              "      <th>marital_status</th>\n",
              "      <th>Level_of_Educuation</th>\n",
              "      <th>Type_of_Job</th>\n",
              "    </tr>\n",
              "  </thead>\n",
              "  <tbody>\n",
              "    <tr>\n",
              "      <th>0</th>\n",
              "      <td>3</td>\n",
              "      <td>1</td>\n",
              "      <td>1</td>\n",
              "      <td>1</td>\n",
              "      <td>3.0</td>\n",
              "      <td>24.0</td>\n",
              "      <td>1</td>\n",
              "      <td>1</td>\n",
              "      <td>3</td>\n",
              "      <td>1</td>\n",
              "    </tr>\n",
              "    <tr>\n",
              "      <th>1</th>\n",
              "      <td>3</td>\n",
              "      <td>0</td>\n",
              "      <td>1</td>\n",
              "      <td>0</td>\n",
              "      <td>5.0</td>\n",
              "      <td>70.0</td>\n",
              "      <td>1</td>\n",
              "      <td>3</td>\n",
              "      <td>5</td>\n",
              "      <td>2</td>\n",
              "    </tr>\n",
              "    <tr>\n",
              "      <th>2</th>\n",
              "      <td>3</td>\n",
              "      <td>1</td>\n",
              "      <td>0</td>\n",
              "      <td>1</td>\n",
              "      <td>5.0</td>\n",
              "      <td>26.0</td>\n",
              "      <td>0</td>\n",
              "      <td>2</td>\n",
              "      <td>2</td>\n",
              "      <td>1</td>\n",
              "    </tr>\n",
              "    <tr>\n",
              "      <th>3</th>\n",
              "      <td>3</td>\n",
              "      <td>0</td>\n",
              "      <td>1</td>\n",
              "      <td>1</td>\n",
              "      <td>5.0</td>\n",
              "      <td>34.0</td>\n",
              "      <td>1</td>\n",
              "      <td>1</td>\n",
              "      <td>4</td>\n",
              "      <td>3</td>\n",
              "    </tr>\n",
              "    <tr>\n",
              "      <th>4</th>\n",
              "      <td>3</td>\n",
              "      <td>0</td>\n",
              "      <td>0</td>\n",
              "      <td>0</td>\n",
              "      <td>8.0</td>\n",
              "      <td>26.0</td>\n",
              "      <td>0</td>\n",
              "      <td>2</td>\n",
              "      <td>4</td>\n",
              "      <td>4</td>\n",
              "    </tr>\n",
              "  </tbody>\n",
              "</table>\n",
              "</div>\n",
              "      <button class=\"colab-df-convert\" onclick=\"convertToInteractive('df-c4eb7754-ca77-4277-a6d5-1d510a11a7bd')\"\n",
              "              title=\"Convert this dataframe to an interactive table.\"\n",
              "              style=\"display:none;\">\n",
              "        \n",
              "  <svg xmlns=\"http://www.w3.org/2000/svg\" height=\"24px\"viewBox=\"0 0 24 24\"\n",
              "       width=\"24px\">\n",
              "    <path d=\"M0 0h24v24H0V0z\" fill=\"none\"/>\n",
              "    <path d=\"M18.56 5.44l.94 2.06.94-2.06 2.06-.94-2.06-.94-.94-2.06-.94 2.06-2.06.94zm-11 1L8.5 8.5l.94-2.06 2.06-.94-2.06-.94L8.5 2.5l-.94 2.06-2.06.94zm10 10l.94 2.06.94-2.06 2.06-.94-2.06-.94-.94-2.06-.94 2.06-2.06.94z\"/><path d=\"M17.41 7.96l-1.37-1.37c-.4-.4-.92-.59-1.43-.59-.52 0-1.04.2-1.43.59L10.3 9.45l-7.72 7.72c-.78.78-.78 2.05 0 2.83L4 21.41c.39.39.9.59 1.41.59.51 0 1.02-.2 1.41-.59l7.78-7.78 2.81-2.81c.8-.78.8-2.07 0-2.86zM5.41 20L4 18.59l7.72-7.72 1.47 1.35L5.41 20z\"/>\n",
              "  </svg>\n",
              "      </button>\n",
              "      \n",
              "  <style>\n",
              "    .colab-df-container {\n",
              "      display:flex;\n",
              "      flex-wrap:wrap;\n",
              "      gap: 12px;\n",
              "    }\n",
              "\n",
              "    .colab-df-convert {\n",
              "      background-color: #E8F0FE;\n",
              "      border: none;\n",
              "      border-radius: 50%;\n",
              "      cursor: pointer;\n",
              "      display: none;\n",
              "      fill: #1967D2;\n",
              "      height: 32px;\n",
              "      padding: 0 0 0 0;\n",
              "      width: 32px;\n",
              "    }\n",
              "\n",
              "    .colab-df-convert:hover {\n",
              "      background-color: #E2EBFA;\n",
              "      box-shadow: 0px 1px 2px rgba(60, 64, 67, 0.3), 0px 1px 3px 1px rgba(60, 64, 67, 0.15);\n",
              "      fill: #174EA6;\n",
              "    }\n",
              "\n",
              "    [theme=dark] .colab-df-convert {\n",
              "      background-color: #3B4455;\n",
              "      fill: #D2E3FC;\n",
              "    }\n",
              "\n",
              "    [theme=dark] .colab-df-convert:hover {\n",
              "      background-color: #434B5C;\n",
              "      box-shadow: 0px 1px 3px 1px rgba(0, 0, 0, 0.15);\n",
              "      filter: drop-shadow(0px 1px 2px rgba(0, 0, 0, 0.3));\n",
              "      fill: #FFFFFF;\n",
              "    }\n",
              "  </style>\n",
              "\n",
              "      <script>\n",
              "        const buttonEl =\n",
              "          document.querySelector('#df-c4eb7754-ca77-4277-a6d5-1d510a11a7bd button.colab-df-convert');\n",
              "        buttonEl.style.display =\n",
              "          google.colab.kernel.accessAllowed ? 'block' : 'none';\n",
              "\n",
              "        async function convertToInteractive(key) {\n",
              "          const element = document.querySelector('#df-c4eb7754-ca77-4277-a6d5-1d510a11a7bd');\n",
              "          const dataTable =\n",
              "            await google.colab.kernel.invokeFunction('convertToInteractive',\n",
              "                                                     [key], {});\n",
              "          if (!dataTable) return;\n",
              "\n",
              "          const docLinkHtml = 'Like what you see? Visit the ' +\n",
              "            '<a target=\"_blank\" href=https://colab.research.google.com/notebooks/data_table.ipynb>data table notebook</a>'\n",
              "            + ' to learn more about interactive tables.';\n",
              "          element.innerHTML = '';\n",
              "          dataTable['output_type'] = 'display_data';\n",
              "          await google.colab.output.renderOutput(dataTable, element);\n",
              "          const docLink = document.createElement('div');\n",
              "          docLink.innerHTML = docLinkHtml;\n",
              "          element.appendChild(docLink);\n",
              "        }\n",
              "      </script>\n",
              "    </div>\n",
              "  </div>\n",
              "  "
            ]
          },
          "metadata": {},
          "execution_count": 1342
        }
      ]
    },
    {
      "cell_type": "code",
      "source": [
        "#Preprocessing the data\n",
        "data_x = EastAfrica_dataset_clean_new_without_year.drop('Has_a_Bank_account', 1)\n",
        "data_y = EastAfrica_dataset_clean_new_without_year['Has_a_Bank_account']\n",
        "#data_x.drop(data_x.country)\n",
        "#data_x= data_x.drop('country',1)"
      ],
      "metadata": {
        "colab": {
          "base_uri": "https://localhost:8080/"
        },
        "id": "hkLptKFcTnAU",
        "outputId": "eddeebd4-250a-4530-dffd-8eb4993a0147"
      },
      "execution_count": 1343,
      "outputs": [
        {
          "output_type": "stream",
          "name": "stderr",
          "text": [
            "/usr/local/lib/python3.7/dist-packages/ipykernel_launcher.py:2: FutureWarning: In a future version of pandas all arguments of DataFrame.drop except for the argument 'labels' will be keyword-only\n",
            "  \n"
          ]
        }
      ]
    },
    {
      "cell_type": "code",
      "source": [
        "#Splitting the dataset into the Training set and Test set\n",
        "from sklearn.model_selection import train_test_split\n",
        "\n",
        "data_x_train, data_x_test, data_y_train, data_y_test = train_test_split(data_x, data_y, test_size=0.2, random_state=0)"
      ],
      "metadata": {
        "id": "W3MPqD1qTm86"
      },
      "execution_count": 1344,
      "outputs": []
    },
    {
      "cell_type": "code",
      "source": [
        "#Normalization\n",
        "from sklearn.preprocessing import StandardScaler\n",
        "\n",
        "sc = StandardScaler()\n",
        "data_x_train = sc.fit_transform(data_x_train)\n",
        "data_x_test = sc.transform(data_x_test)"
      ],
      "metadata": {
        "id": "mxmRBKFhTm3c"
      },
      "execution_count": 1345,
      "outputs": []
    },
    {
      "cell_type": "code",
      "source": [
        "#Applying PCA\n",
        "from sklearn.decomposition import PCA\n",
        "\n",
        "pca = PCA()\n",
        "data_x_train = pca.fit_transform(data_x_train)\n",
        "data_x_test = pca.transform(data_x_test)"
      ],
      "metadata": {
        "id": "LP99e3VlTm0i"
      },
      "execution_count": 1346,
      "outputs": []
    },
    {
      "cell_type": "code",
      "source": [
        "#Explained Variance Ratio\n",
        "explained_variance = pca.explained_variance_ratio_\n",
        "explained_variance"
      ],
      "metadata": {
        "colab": {
          "base_uri": "https://localhost:8080/"
        },
        "id": "7UXn7p1oSyzu",
        "outputId": "764b2d74-675f-44f5-c4d2-2860629e81b4"
      },
      "execution_count": 1347,
      "outputs": [
        {
          "output_type": "execute_result",
          "data": {
            "text/plain": [
              "array([0.18481807, 0.17149533, 0.1248729 , 0.11899949, 0.09723423,\n",
              "       0.09220715, 0.07997603, 0.067741  , 0.06265581])"
            ]
          },
          "metadata": {},
          "execution_count": 1347
        }
      ]
    },
    {
      "cell_type": "markdown",
      "source": [
        "The first principal is responsible for 18.8% variance in the data, second is responsible for 17.1% variance, 3rd is responsible for 12.4%, forth for 11.8%."
      ],
      "metadata": {
        "id": "rt_KN6PINzot"
      }
    },
    {
      "cell_type": "code",
      "source": [
        "##Trying will all features\n",
        "data_x_train, data_x_test, data_y_train, data_y_test = train_test_split(data_x, data_y, test_size=0.2, random_state=0)\n",
        "\n",
        "sc = StandardScaler()\n",
        "data_x_train = sc.fit_transform(data_x_train)\n",
        "data_x_test = sc.transform(data_x_test)\n",
        "\n",
        "pca = PCA(n_components=3)\n",
        "data_x_train = pca.fit_transform(data_x_train)\n",
        "data_x_test = pca.transform(data_x_test)\n",
        "\n",
        "# With three principal components the classification accuracy should again increase to 93.33%\n",
        "classifier = RandomForestClassifier(max_depth=2, random_state=0)\n",
        "classifier.fit(data_x_train, data_y_train)"
      ],
      "metadata": {
        "colab": {
          "base_uri": "https://localhost:8080/"
        },
        "id": "VolUV5RjX-Xn",
        "outputId": "efe5c4e9-83d0-4c35-b9a2-a87d0e7b2d6b"
      },
      "execution_count": 1348,
      "outputs": [
        {
          "output_type": "execute_result",
          "data": {
            "text/plain": [
              "RandomForestClassifier(max_depth=2, random_state=0)"
            ]
          },
          "metadata": {},
          "execution_count": 1348
        }
      ]
    },
    {
      "cell_type": "code",
      "source": [
        "\n",
        "y_data_prediction = classifier.predict(data_x_test)\n",
        "\n",
        "cm = confusion_matrix(data_y_test, y_data_prediction)\n",
        "print(cm)\n",
        "print('Accuracy' , accuracy_score(data_y_test, y_data_prediction))"
      ],
      "metadata": {
        "colab": {
          "base_uri": "https://localhost:8080/"
        },
        "id": "88a0JKlzYHoI",
        "outputId": "cf6bd1f3-9c52-4501-c8e3-98cb1eba330a"
      },
      "execution_count": 1349,
      "outputs": [
        {
          "output_type": "stream",
          "name": "stdout",
          "text": [
            "[[4008    0]\n",
            " [ 661    0]]\n",
            "Accuracy 0.8584279288926965\n"
          ]
        }
      ]
    },
    {
      "cell_type": "markdown",
      "source": [
        "Trying with all components gives an accuracy of 85.4%"
      ],
      "metadata": {
        "id": "6X1Q23mAYSC3"
      }
    },
    {
      "cell_type": "code",
      "source": [
        "#Trying with 2 components\n",
        "from sklearn.decomposition import PCA\n",
        "\n",
        "pca = PCA(n_components=1)\n",
        "data_x_train = pca.fit_transform(data_x_train)\n",
        "data_x_test = pca.transform(data_x_test)"
      ],
      "metadata": {
        "id": "jPbGdHfWIqtt"
      },
      "execution_count": 1350,
      "outputs": []
    },
    {
      "cell_type": "code",
      "source": [
        "data_x_train, data_x_test, data_y_train, data_y_test = train_test_split(data_x, data_y, test_size=0.2, random_state=0)\n",
        "\n",
        "sc = StandardScaler()\n",
        "data_x_train = sc.fit_transform(data_x_train)\n",
        "data_x_test = sc.transform(data_x_test)\n",
        "\n",
        "pca = PCA(n_components=3)\n",
        "data_x_train = pca.fit_transform(data_x_train)\n",
        "data_x_test = pca.transform(data_x_test)\n",
        "\n",
        "# With three principal components the classification accuracy should again increase to 93.33%\n",
        "classifier = RandomForestClassifier(max_depth=2, random_state=0)\n",
        "classifier.fit(data_x_train, data_y_train)"
      ],
      "metadata": {
        "colab": {
          "base_uri": "https://localhost:8080/"
        },
        "id": "bKz-0L44Iqo8",
        "outputId": "625bb9fb-9433-4f52-8337-8457d134d88f"
      },
      "execution_count": 1351,
      "outputs": [
        {
          "output_type": "execute_result",
          "data": {
            "text/plain": [
              "RandomForestClassifier(max_depth=2, random_state=0)"
            ]
          },
          "metadata": {},
          "execution_count": 1351
        }
      ]
    },
    {
      "cell_type": "code",
      "source": [
        "\n",
        "y_data_prediction = classifier.predict(data_x_test)\n",
        "\n",
        "cm = confusion_matrix(data_y_test, y_data_prediction)\n",
        "print(cm)\n",
        "print('Accuracy' , accuracy_score(data_y_test, y_data_prediction))"
      ],
      "metadata": {
        "colab": {
          "base_uri": "https://localhost:8080/"
        },
        "id": "VspNH8NcIqWI",
        "outputId": "46cc5465-6e87-4b9d-e9c0-13a71acd34fb"
      },
      "execution_count": 1352,
      "outputs": [
        {
          "output_type": "stream",
          "name": "stdout",
          "text": [
            "[[4008    0]\n",
            " [ 661    0]]\n",
            "Accuracy 0.8584279288926965\n"
          ]
        }
      ]
    },
    {
      "cell_type": "markdown",
      "source": [
        "When using 2 principal components, the algorithm is 85.4% accurate."
      ],
      "metadata": {
        "id": "2x4QTm5mT4OZ"
      }
    },
    {
      "cell_type": "markdown",
      "source": [
        "FACTOR ANALYSIS"
      ],
      "metadata": {
        "id": "CJEmKZxubqkc"
      }
    },
    {
      "cell_type": "code",
      "source": [
        "#Changing all the datatypes into integers\n",
        "EastAfrica_dataset_clean_new_without_year['household_size']=EastAfrica_dataset_clean_new_without_year['household_size'].astype('int')\n",
        "EastAfrica_dataset_clean_new_without_year['Respondent_Age']=EastAfrica_dataset_clean_new_without_year['Respondent_Age'].astype('int')\n",
        "\n"
      ],
      "metadata": {
        "id": "5XKPovI2bo3g"
      },
      "execution_count": 1361,
      "outputs": []
    },
    {
      "cell_type": "code",
      "source": [
        "# Installing factor analyzer \n",
        "!pip install factor_analyzer==0.2.3\n",
        "\n",
        "from factor_analyzer.factor_analyzer import calculate_bartlett_sphericity\n"
      ],
      "metadata": {
        "colab": {
          "base_uri": "https://localhost:8080/"
        },
        "id": "tayoOwnEIqSj",
        "outputId": "188f0bde-74c8-4147-ed0a-5f11fe7da387"
      },
      "execution_count": 1362,
      "outputs": [
        {
          "output_type": "stream",
          "name": "stdout",
          "text": [
            "Requirement already satisfied: factor_analyzer==0.2.3 in /usr/local/lib/python3.7/dist-packages (0.2.3)\n",
            "Requirement already satisfied: numpy in /usr/local/lib/python3.7/dist-packages (from factor_analyzer==0.2.3) (1.21.5)\n",
            "Requirement already satisfied: scipy in /usr/local/lib/python3.7/dist-packages (from factor_analyzer==0.2.3) (1.4.1)\n",
            "Requirement already satisfied: pandas in /usr/local/lib/python3.7/dist-packages (from factor_analyzer==0.2.3) (1.3.5)\n",
            "Requirement already satisfied: python-dateutil>=2.7.3 in /usr/local/lib/python3.7/dist-packages (from pandas->factor_analyzer==0.2.3) (2.8.2)\n",
            "Requirement already satisfied: pytz>=2017.3 in /usr/local/lib/python3.7/dist-packages (from pandas->factor_analyzer==0.2.3) (2018.9)\n",
            "Requirement already satisfied: six>=1.5 in /usr/local/lib/python3.7/dist-packages (from python-dateutil>=2.7.3->pandas->factor_analyzer==0.2.3) (1.15.0)\n"
          ]
        }
      ]
    },
    {
      "cell_type": "code",
      "source": [
        "chi_square_value,p_value=calculate_bartlett_sphericity(EastAfrica_dataset_clean_new_without_year)\n",
        "chi_square_value, p_value"
      ],
      "metadata": {
        "colab": {
          "base_uri": "https://localhost:8080/"
        },
        "id": "ZbTvorg7IqPZ",
        "outputId": "d3cd3dbc-0739-4c93-e93e-5aa5b44d5e59"
      },
      "execution_count": 1363,
      "outputs": [
        {
          "output_type": "execute_result",
          "data": {
            "text/plain": [
              "(18391.836217155607, 0.0)"
            ]
          },
          "metadata": {},
          "execution_count": 1363
        }
      ]
    },
    {
      "cell_type": "markdown",
      "source": [
        "The test is statistically significant since the p-value is 0."
      ],
      "metadata": {
        "id": "BiZvk9ujaHyB"
      }
    },
    {
      "cell_type": "code",
      "source": [
        "#Kaiser-Meyer-Olkin (KMO) Test measures\n",
        "from factor_analyzer.factor_analyzer import calculate_kmo\n",
        "\n",
        "kmo_all,kmo_model=calculate_kmo(EastAfrica_dataset_clean_new_without_year)"
      ],
      "metadata": {
        "id": "sR2taJh-IqLx"
      },
      "execution_count": 1364,
      "outputs": []
    },
    {
      "cell_type": "code",
      "source": [
        "#Choosing the Number of Factors\n",
        "from factor_analyzer.factor_analyzer import FactorAnalyzer\n",
        "\n",
        "# Creating factor analysis object and perform factor analysis\n",
        "fa = FactorAnalyzer()\n",
        "fa.analyze(EastAfrica_dataset_clean_new_without_year, 10, rotation=None)\n",
        "\n",
        "# Checking the Eigenvalues\n",
        "ev, v = fa.get_eigenvalues()\n",
        "ev"
      ],
      "metadata": {
        "id": "SnCZIKavIqIa",
        "colab": {
          "base_uri": "https://localhost:8080/",
          "height": 363
        },
        "outputId": "37c946f7-c3d6-41f2-e099-dc9b536345ea"
      },
      "execution_count": 1365,
      "outputs": [
        {
          "output_type": "execute_result",
          "data": {
            "text/plain": [
              "   Original_Eigenvalues\n",
              "0              1.756240\n",
              "1              1.668225\n",
              "2              1.146082\n",
              "3              1.075157\n",
              "4              0.976755\n",
              "5              0.853505\n",
              "6              0.742054\n",
              "7              0.684545\n",
              "8              0.609203\n",
              "9              0.488235"
            ],
            "text/html": [
              "\n",
              "  <div id=\"df-fc630da7-e337-44fa-b8ae-b5f45f1797b9\">\n",
              "    <div class=\"colab-df-container\">\n",
              "      <div>\n",
              "<style scoped>\n",
              "    .dataframe tbody tr th:only-of-type {\n",
              "        vertical-align: middle;\n",
              "    }\n",
              "\n",
              "    .dataframe tbody tr th {\n",
              "        vertical-align: top;\n",
              "    }\n",
              "\n",
              "    .dataframe thead th {\n",
              "        text-align: right;\n",
              "    }\n",
              "</style>\n",
              "<table border=\"1\" class=\"dataframe\">\n",
              "  <thead>\n",
              "    <tr style=\"text-align: right;\">\n",
              "      <th></th>\n",
              "      <th>Original_Eigenvalues</th>\n",
              "    </tr>\n",
              "  </thead>\n",
              "  <tbody>\n",
              "    <tr>\n",
              "      <th>0</th>\n",
              "      <td>1.756240</td>\n",
              "    </tr>\n",
              "    <tr>\n",
              "      <th>1</th>\n",
              "      <td>1.668225</td>\n",
              "    </tr>\n",
              "    <tr>\n",
              "      <th>2</th>\n",
              "      <td>1.146082</td>\n",
              "    </tr>\n",
              "    <tr>\n",
              "      <th>3</th>\n",
              "      <td>1.075157</td>\n",
              "    </tr>\n",
              "    <tr>\n",
              "      <th>4</th>\n",
              "      <td>0.976755</td>\n",
              "    </tr>\n",
              "    <tr>\n",
              "      <th>5</th>\n",
              "      <td>0.853505</td>\n",
              "    </tr>\n",
              "    <tr>\n",
              "      <th>6</th>\n",
              "      <td>0.742054</td>\n",
              "    </tr>\n",
              "    <tr>\n",
              "      <th>7</th>\n",
              "      <td>0.684545</td>\n",
              "    </tr>\n",
              "    <tr>\n",
              "      <th>8</th>\n",
              "      <td>0.609203</td>\n",
              "    </tr>\n",
              "    <tr>\n",
              "      <th>9</th>\n",
              "      <td>0.488235</td>\n",
              "    </tr>\n",
              "  </tbody>\n",
              "</table>\n",
              "</div>\n",
              "      <button class=\"colab-df-convert\" onclick=\"convertToInteractive('df-fc630da7-e337-44fa-b8ae-b5f45f1797b9')\"\n",
              "              title=\"Convert this dataframe to an interactive table.\"\n",
              "              style=\"display:none;\">\n",
              "        \n",
              "  <svg xmlns=\"http://www.w3.org/2000/svg\" height=\"24px\"viewBox=\"0 0 24 24\"\n",
              "       width=\"24px\">\n",
              "    <path d=\"M0 0h24v24H0V0z\" fill=\"none\"/>\n",
              "    <path d=\"M18.56 5.44l.94 2.06.94-2.06 2.06-.94-2.06-.94-.94-2.06-.94 2.06-2.06.94zm-11 1L8.5 8.5l.94-2.06 2.06-.94-2.06-.94L8.5 2.5l-.94 2.06-2.06.94zm10 10l.94 2.06.94-2.06 2.06-.94-2.06-.94-.94-2.06-.94 2.06-2.06.94z\"/><path d=\"M17.41 7.96l-1.37-1.37c-.4-.4-.92-.59-1.43-.59-.52 0-1.04.2-1.43.59L10.3 9.45l-7.72 7.72c-.78.78-.78 2.05 0 2.83L4 21.41c.39.39.9.59 1.41.59.51 0 1.02-.2 1.41-.59l7.78-7.78 2.81-2.81c.8-.78.8-2.07 0-2.86zM5.41 20L4 18.59l7.72-7.72 1.47 1.35L5.41 20z\"/>\n",
              "  </svg>\n",
              "      </button>\n",
              "      \n",
              "  <style>\n",
              "    .colab-df-container {\n",
              "      display:flex;\n",
              "      flex-wrap:wrap;\n",
              "      gap: 12px;\n",
              "    }\n",
              "\n",
              "    .colab-df-convert {\n",
              "      background-color: #E8F0FE;\n",
              "      border: none;\n",
              "      border-radius: 50%;\n",
              "      cursor: pointer;\n",
              "      display: none;\n",
              "      fill: #1967D2;\n",
              "      height: 32px;\n",
              "      padding: 0 0 0 0;\n",
              "      width: 32px;\n",
              "    }\n",
              "\n",
              "    .colab-df-convert:hover {\n",
              "      background-color: #E2EBFA;\n",
              "      box-shadow: 0px 1px 2px rgba(60, 64, 67, 0.3), 0px 1px 3px 1px rgba(60, 64, 67, 0.15);\n",
              "      fill: #174EA6;\n",
              "    }\n",
              "\n",
              "    [theme=dark] .colab-df-convert {\n",
              "      background-color: #3B4455;\n",
              "      fill: #D2E3FC;\n",
              "    }\n",
              "\n",
              "    [theme=dark] .colab-df-convert:hover {\n",
              "      background-color: #434B5C;\n",
              "      box-shadow: 0px 1px 3px 1px rgba(0, 0, 0, 0.15);\n",
              "      filter: drop-shadow(0px 1px 2px rgba(0, 0, 0, 0.3));\n",
              "      fill: #FFFFFF;\n",
              "    }\n",
              "  </style>\n",
              "\n",
              "      <script>\n",
              "        const buttonEl =\n",
              "          document.querySelector('#df-fc630da7-e337-44fa-b8ae-b5f45f1797b9 button.colab-df-convert');\n",
              "        buttonEl.style.display =\n",
              "          google.colab.kernel.accessAllowed ? 'block' : 'none';\n",
              "\n",
              "        async function convertToInteractive(key) {\n",
              "          const element = document.querySelector('#df-fc630da7-e337-44fa-b8ae-b5f45f1797b9');\n",
              "          const dataTable =\n",
              "            await google.colab.kernel.invokeFunction('convertToInteractive',\n",
              "                                                     [key], {});\n",
              "          if (!dataTable) return;\n",
              "\n",
              "          const docLinkHtml = 'Like what you see? Visit the ' +\n",
              "            '<a target=\"_blank\" href=https://colab.research.google.com/notebooks/data_table.ipynb>data table notebook</a>'\n",
              "            + ' to learn more about interactive tables.';\n",
              "          element.innerHTML = '';\n",
              "          dataTable['output_type'] = 'display_data';\n",
              "          await google.colab.output.renderOutput(dataTable, element);\n",
              "          const docLink = document.createElement('div');\n",
              "          docLink.innerHTML = docLinkHtml;\n",
              "          element.appendChild(docLink);\n",
              "        }\n",
              "      </script>\n",
              "    </div>\n",
              "  </div>\n",
              "  "
            ]
          },
          "metadata": {},
          "execution_count": 1365
        }
      ]
    },
    {
      "cell_type": "code",
      "source": [
        "from sklearn.decomposition import PCA\n",
        "\n",
        "#define PCA model to use\n",
        "pca = PCA(n_components=3)\n",
        "\n",
        "#fit PCA model to data\n",
        "pca_fit = pca.fit(EastAfrica_dataset_clean_new_without_year)"
      ],
      "metadata": {
        "id": "8bcEYCdcIqBk"
      },
      "execution_count": 1373,
      "outputs": []
    },
    {
      "cell_type": "code",
      "source": [
        "PC_values = np.arange(pca.n_components_) + 1\n",
        "plt.plot(PC_values, pca.explained_variance_ratio_, 'o-', linewidth=2, color='blue')\n",
        "plt.title('Scree Plot')\n",
        "plt.xlabel('Factors')\n",
        "plt.ylabel('Eigenvalue')\n",
        "plt.show()"
      ],
      "metadata": {
        "id": "jpbCEQRZIp4Y",
        "colab": {
          "base_uri": "https://localhost:8080/",
          "height": 295
        },
        "outputId": "6316f867-bd51-4902-d845-f1e8c27535cd"
      },
      "execution_count": 1375,
      "outputs": [
        {
          "output_type": "display_data",
          "data": {
            "text/plain": [
              "<Figure size 432x288 with 1 Axes>"
            ],
            "image/png": "[encoded data removed]"
          },
          "metadata": {
            "needs_background": "light"
          }
        }
      ]
    },
    {
      "cell_type": "markdown",
      "source": [
        "From the scree plot above, the ideal number of components to use is 2. "
      ],
      "metadata": {
        "id": "QE2rsl4JhENt"
      }
    },
    {
      "cell_type": "code",
      "source": [
        "print(pca.explained_variance_ratio_)"
      ],
      "metadata": {
        "id": "sppYqFLcIp0F",
        "colab": {
          "base_uri": "https://localhost:8080/"
        },
        "outputId": "86f0e6ca-5ec4-412e-ffd9-7b01d368d590"
      },
      "execution_count": 1376,
      "outputs": [
        {
          "output_type": "stream",
          "name": "stdout",
          "text": [
            "[0.94852394 0.02357951 0.01625643]\n"
          ]
        }
      ]
    },
    {
      "cell_type": "markdown",
      "source": [
        "When using 3 factors, the first factor explains 94.8% of the total variation\n",
        "Te second factor explains 2.3% while the third explains 1.6% of the total variation."
      ],
      "metadata": {
        "id": "SrVp74Efhhls"
      }
    },
    {
      "cell_type": "markdown",
      "metadata": {
        "id": "vTbdjSrhVIiT"
      },
      "source": [
        "## 7. Implementing the Solution"
      ]
    },
    {
      "cell_type": "code",
      "metadata": {
        "id": "PJLZaRzJXJ3w",
        "colab": {
          "base_uri": "https://localhost:8080/",
          "height": 357
        },
        "outputId": "24ee11a6-396d-444f-bee7-31b76d0c4f88"
      },
      "source": [
        "# Implementing the Solution\n",
        "# Taking the data of only those with bank accounts\n",
        "bankaccount_dataset = EastAfrica_dataset_clean_new[EastAfrica_dataset_clean_new.Has_a_Bank_account == 'Yes']\n",
        "bankaccount_dataset.head()"
      ],
      "execution_count": 1379,
      "outputs": [
        {
          "output_type": "execute_result",
          "data": {
            "text/plain": [
              "   country  year Has_a_Bank_account Type_of_Location Cell_Phone_Access  \\\n",
              "0    Kenya  2018                Yes            Rural               Yes   \n",
              "2    Kenya  2018                Yes            Urban               Yes   \n",
              "8    Kenya  2018                Yes            Rural               Yes   \n",
              "11   Kenya  2018                Yes            Rural               Yes   \n",
              "17   Kenya  2018                Yes            Rural               Yes   \n",
              "\n",
              "    household_size  Respondent_Age gender_of_respondent  \\\n",
              "0              3.0            24.0               Female   \n",
              "2              5.0            26.0                 Male   \n",
              "8              3.0            54.0                 Male   \n",
              "11             3.0            69.0                 Male   \n",
              "17             6.0            27.0               Female   \n",
              "\n",
              "   Relationship_with_head           marital_status  \\\n",
              "0                  Spouse  Married/Living together   \n",
              "2          Other relative     Single/Never Married   \n",
              "8       Head of Household  Married/Living together   \n",
              "11      Head of Household  Married/Living together   \n",
              "17      Head of Household  Married/Living together   \n",
              "\n",
              "                Level_of_Educuation          Type_of_Job  \n",
              "0               Secondary education        Self employed  \n",
              "2   Vocational/Specialised training        Self employed  \n",
              "8               Secondary education  Farming and Fishing  \n",
              "11              Secondary education         Other Income  \n",
              "17              Secondary education        Self employed  "
            ],
            "text/html": [
              "\n",
              "  <div id=\"df-dac46b8d-b953-49fa-8824-52730339425b\">\n",
              "    <div class=\"colab-df-container\">\n",
              "      <div>\n",
              "<style scoped>\n",
              "    .dataframe tbody tr th:only-of-type {\n",
              "        vertical-align: middle;\n",
              "    }\n",
              "\n",
              "    .dataframe tbody tr th {\n",
              "        vertical-align: top;\n",
              "    }\n",
              "\n",
              "    .dataframe thead th {\n",
              "        text-align: right;\n",
              "    }\n",
              "</style>\n",
              "<table border=\"1\" class=\"dataframe\">\n",
              "  <thead>\n",
              "    <tr style=\"text-align: right;\">\n",
              "      <th></th>\n",
              "      <th>country</th>\n",
              "      <th>year</th>\n",
              "      <th>Has_a_Bank_account</th>\n",
              "      <th>Type_of_Location</th>\n",
              "      <th>Cell_Phone_Access</th>\n",
              "      <th>household_size</th>\n",
              "      <th>Respondent_Age</th>\n",
              "      <th>gender_of_respondent</th>\n",
              "      <th>Relationship_with_head</th>\n",
              "      <th>marital_status</th>\n",
              "      <th>Level_of_Educuation</th>\n",
              "      <th>Type_of_Job</th>\n",
              "    </tr>\n",
              "  </thead>\n",
              "  <tbody>\n",
              "    <tr>\n",
              "      <th>0</th>\n",
              "      <td>Kenya</td>\n",
              "      <td>2018</td>\n",
              "      <td>Yes</td>\n",
              "      <td>Rural</td>\n",
              "      <td>Yes</td>\n",
              "      <td>3.0</td>\n",
              "      <td>24.0</td>\n",
              "      <td>Female</td>\n",
              "      <td>Spouse</td>\n",
              "      <td>Married/Living together</td>\n",
              "      <td>Secondary education</td>\n",
              "      <td>Self employed</td>\n",
              "    </tr>\n",
              "    <tr>\n",
              "      <th>2</th>\n",
              "      <td>Kenya</td>\n",
              "      <td>2018</td>\n",
              "      <td>Yes</td>\n",
              "      <td>Urban</td>\n",
              "      <td>Yes</td>\n",
              "      <td>5.0</td>\n",
              "      <td>26.0</td>\n",
              "      <td>Male</td>\n",
              "      <td>Other relative</td>\n",
              "      <td>Single/Never Married</td>\n",
              "      <td>Vocational/Specialised training</td>\n",
              "      <td>Self employed</td>\n",
              "    </tr>\n",
              "    <tr>\n",
              "      <th>8</th>\n",
              "      <td>Kenya</td>\n",
              "      <td>2018</td>\n",
              "      <td>Yes</td>\n",
              "      <td>Rural</td>\n",
              "      <td>Yes</td>\n",
              "      <td>3.0</td>\n",
              "      <td>54.0</td>\n",
              "      <td>Male</td>\n",
              "      <td>Head of Household</td>\n",
              "      <td>Married/Living together</td>\n",
              "      <td>Secondary education</td>\n",
              "      <td>Farming and Fishing</td>\n",
              "    </tr>\n",
              "    <tr>\n",
              "      <th>11</th>\n",
              "      <td>Kenya</td>\n",
              "      <td>2018</td>\n",
              "      <td>Yes</td>\n",
              "      <td>Rural</td>\n",
              "      <td>Yes</td>\n",
              "      <td>3.0</td>\n",
              "      <td>69.0</td>\n",
              "      <td>Male</td>\n",
              "      <td>Head of Household</td>\n",
              "      <td>Married/Living together</td>\n",
              "      <td>Secondary education</td>\n",
              "      <td>Other Income</td>\n",
              "    </tr>\n",
              "    <tr>\n",
              "      <th>17</th>\n",
              "      <td>Kenya</td>\n",
              "      <td>2018</td>\n",
              "      <td>Yes</td>\n",
              "      <td>Rural</td>\n",
              "      <td>Yes</td>\n",
              "      <td>6.0</td>\n",
              "      <td>27.0</td>\n",
              "      <td>Female</td>\n",
              "      <td>Head of Household</td>\n",
              "      <td>Married/Living together</td>\n",
              "      <td>Secondary education</td>\n",
              "      <td>Self employed</td>\n",
              "    </tr>\n",
              "  </tbody>\n",
              "</table>\n",
              "</div>\n",
              "      <button class=\"colab-df-convert\" onclick=\"convertToInteractive('df-dac46b8d-b953-49fa-8824-52730339425b')\"\n",
              "              title=\"Convert this dataframe to an interactive table.\"\n",
              "              style=\"display:none;\">\n",
              "        \n",
              "  <svg xmlns=\"http://www.w3.org/2000/svg\" height=\"24px\"viewBox=\"0 0 24 24\"\n",
              "       width=\"24px\">\n",
              "    <path d=\"M0 0h24v24H0V0z\" fill=\"none\"/>\n",
              "    <path d=\"M18.56 5.44l.94 2.06.94-2.06 2.06-.94-2.06-.94-.94-2.06-.94 2.06-2.06.94zm-11 1L8.5 8.5l.94-2.06 2.06-.94-2.06-.94L8.5 2.5l-.94 2.06-2.06.94zm10 10l.94 2.06.94-2.06 2.06-.94-2.06-.94-.94-2.06-.94 2.06-2.06.94z\"/><path d=\"M17.41 7.96l-1.37-1.37c-.4-.4-.92-.59-1.43-.59-.52 0-1.04.2-1.43.59L10.3 9.45l-7.72 7.72c-.78.78-.78 2.05 0 2.83L4 21.41c.39.39.9.59 1.41.59.51 0 1.02-.2 1.41-.59l7.78-7.78 2.81-2.81c.8-.78.8-2.07 0-2.86zM5.41 20L4 18.59l7.72-7.72 1.47 1.35L5.41 20z\"/>\n",
              "  </svg>\n",
              "      </button>\n",
              "      \n",
              "  <style>\n",
              "    .colab-df-container {\n",
              "      display:flex;\n",
              "      flex-wrap:wrap;\n",
              "      gap: 12px;\n",
              "    }\n",
              "\n",
              "    .colab-df-convert {\n",
              "      background-color: #E8F0FE;\n",
              "      border: none;\n",
              "      border-radius: 50%;\n",
              "      cursor: pointer;\n",
              "      display: none;\n",
              "      fill: #1967D2;\n",
              "      height: 32px;\n",
              "      padding: 0 0 0 0;\n",
              "      width: 32px;\n",
              "    }\n",
              "\n",
              "    .colab-df-convert:hover {\n",
              "      background-color: #E2EBFA;\n",
              "      box-shadow: 0px 1px 2px rgba(60, 64, 67, 0.3), 0px 1px 3px 1px rgba(60, 64, 67, 0.15);\n",
              "      fill: #174EA6;\n",
              "    }\n",
              "\n",
              "    [theme=dark] .colab-df-convert {\n",
              "      background-color: #3B4455;\n",
              "      fill: #D2E3FC;\n",
              "    }\n",
              "\n",
              "    [theme=dark] .colab-df-convert:hover {\n",
              "      background-color: #434B5C;\n",
              "      box-shadow: 0px 1px 3px 1px rgba(0, 0, 0, 0.15);\n",
              "      filter: drop-shadow(0px 1px 2px rgba(0, 0, 0, 0.3));\n",
              "      fill: #FFFFFF;\n",
              "    }\n",
              "  </style>\n",
              "\n",
              "      <script>\n",
              "        const buttonEl =\n",
              "          document.querySelector('#df-dac46b8d-b953-49fa-8824-52730339425b button.colab-df-convert');\n",
              "        buttonEl.style.display =\n",
              "          google.colab.kernel.accessAllowed ? 'block' : 'none';\n",
              "\n",
              "        async function convertToInteractive(key) {\n",
              "          const element = document.querySelector('#df-dac46b8d-b953-49fa-8824-52730339425b');\n",
              "          const dataTable =\n",
              "            await google.colab.kernel.invokeFunction('convertToInteractive',\n",
              "                                                     [key], {});\n",
              "          if (!dataTable) return;\n",
              "\n",
              "          const docLinkHtml = 'Like what you see? Visit the ' +\n",
              "            '<a target=\"_blank\" href=https://colab.research.google.com/notebooks/data_table.ipynb>data table notebook</a>'\n",
              "            + ' to learn more about interactive tables.';\n",
              "          element.innerHTML = '';\n",
              "          dataTable['output_type'] = 'display_data';\n",
              "          await google.colab.output.renderOutput(dataTable, element);\n",
              "          const docLink = document.createElement('div');\n",
              "          docLink.innerHTML = docLinkHtml;\n",
              "          element.appendChild(docLink);\n",
              "        }\n",
              "      </script>\n",
              "    </div>\n",
              "  </div>\n",
              "  "
            ]
          },
          "metadata": {},
          "execution_count": 1379
        }
      ]
    },
    {
      "cell_type": "code",
      "metadata": {
        "id": "zOynM5d1lGFe",
        "colab": {
          "base_uri": "https://localhost:8080/"
        },
        "outputId": "2702d950-8174-409c-9433-6d78b4dc4543"
      },
      "source": [
        "#Countries with people having most bank accounts\n",
        "countries_bankaccount = bankaccount_dataset.country.value_counts()\n",
        "countries_bankaccount"
      ],
      "execution_count": 1382,
      "outputs": [
        {
          "output_type": "execute_result",
          "data": {
            "text/plain": [
              "Kenya       1520\n",
              "Rwanda       997\n",
              "Tanzania     599\n",
              "Uganda       181\n",
              "Name: country, dtype: int64"
            ]
          },
          "metadata": {},
          "execution_count": 1382
        }
      ]
    },
    {
      "cell_type": "markdown",
      "source": [
        "Kenya is the country with the highest number of people with bank accounts, with Uganda being the least."
      ],
      "metadata": {
        "id": "VJP3GKiEi03A"
      }
    },
    {
      "cell_type": "code",
      "source": [
        "#Type of location where people are likely to have bank accounts\n",
        "location_bankaccount = bankaccount_dataset.Type_of_Location.value_counts()\n",
        "location_bankaccount"
      ],
      "metadata": {
        "colab": {
          "base_uri": "https://localhost:8080/"
        },
        "id": "V0z7WFhci8vX",
        "outputId": "8c4e936c-bf49-4e45-eea9-cea9a4e04752"
      },
      "execution_count": 1383,
      "outputs": [
        {
          "output_type": "execute_result",
          "data": {
            "text/plain": [
              "Rural    1663\n",
              "Urban    1634\n",
              "Name: Type_of_Location, dtype: int64"
            ]
          },
          "metadata": {},
          "execution_count": 1383
        }
      ]
    },
    {
      "cell_type": "markdown",
      "source": [
        "Overrall, most people found in the rural areas have bank accounts which is due to the high population of people who live in the rural areas as compared in town, which also records a  large number."
      ],
      "metadata": {
        "id": "B27VX8e3ji7E"
      }
    },
    {
      "cell_type": "code",
      "source": [
        "#Looking at the cellphone access\n",
        "cellphone_bankaccount = bankaccount_dataset.Cell_Phone_Access.value_counts()\n",
        "cellphone_bankaccount"
      ],
      "metadata": {
        "colab": {
          "base_uri": "https://localhost:8080/"
        },
        "id": "Xc5fhylzj2Sg",
        "outputId": "9c5c104c-7e5d-490b-acdf-91be18314248"
      },
      "execution_count": 1384,
      "outputs": [
        {
          "output_type": "execute_result",
          "data": {
            "text/plain": [
              "Yes    3193\n",
              "No      104\n",
              "Name: Cell_Phone_Access, dtype: int64"
            ]
          },
          "metadata": {},
          "execution_count": 1384
        }
      ]
    },
    {
      "cell_type": "markdown",
      "source": [
        "People who have cellphones or access to cellphones, are the majority with bank accounts"
      ],
      "metadata": {
        "id": "Itd31RbVkBY7"
      }
    },
    {
      "cell_type": "code",
      "source": [
        "#Looking at the gender\n",
        "gender_bankaccount = bankaccount_dataset.gender_of_respondent.value_counts()\n",
        "gender_bankaccount"
      ],
      "metadata": {
        "colab": {
          "base_uri": "https://localhost:8080/"
        },
        "id": "PrXXdzuqkN9Q",
        "outputId": "cc368404-df1f-40a3-aa29-e0a784de5d59"
      },
      "execution_count": 1387,
      "outputs": [
        {
          "output_type": "execute_result",
          "data": {
            "text/plain": [
              "Male      1817\n",
              "Female    1480\n",
              "Name: gender_of_respondent, dtype: int64"
            ]
          },
          "metadata": {},
          "execution_count": 1387
        }
      ]
    },
    {
      "cell_type": "markdown",
      "source": [
        "Male respondents recorded to have the highest with bank accounts compared to female respondents."
      ],
      "metadata": {
        "id": "iou1SNTSkyG6"
      }
    },
    {
      "cell_type": "code",
      "source": [
        "#Looking at the relationship\n",
        "relationship_bankaccount = bankaccount_dataset.Relationship_with_head.value_counts()\n",
        "relationship_bankaccount"
      ],
      "metadata": {
        "colab": {
          "base_uri": "https://localhost:8080/"
        },
        "id": "ive_T_k4k7BD",
        "outputId": "99d41a17-cf39-4014-9177-1b6b9471a1d4"
      },
      "execution_count": 1389,
      "outputs": [
        {
          "output_type": "execute_result",
          "data": {
            "text/plain": [
              "Head of Household      2259\n",
              "Spouse                  695\n",
              "Child                   193\n",
              "Other relative           65\n",
              "Parent                   65\n",
              "Other non-relatives      20\n",
              "Name: Relationship_with_head, dtype: int64"
            ]
          },
          "metadata": {},
          "execution_count": 1389
        }
      ]
    },
    {
      "cell_type": "markdown",
      "source": [
        "Head of households are the ones who were highest with non relatives in the households being lowest."
      ],
      "metadata": {
        "id": "lczQcC94lEL_"
      }
    },
    {
      "cell_type": "code",
      "source": [
        "#Looking at the relationship\n",
        "marital_bankaccount = bankaccount_dataset.marital_status.value_counts()\n",
        "marital_bankaccount"
      ],
      "metadata": {
        "colab": {
          "base_uri": "https://localhost:8080/"
        },
        "id": "J8mjLwnplSGn",
        "outputId": "c5138035-3c98-4ec7-ade0-b049245a3617"
      },
      "execution_count": 1390,
      "outputs": [
        {
          "output_type": "execute_result",
          "data": {
            "text/plain": [
              "Married/Living together    1861\n",
              "Single/Never Married        959\n",
              "Widowed                     243\n",
              "Divorced/Seperated          232\n",
              "Dont know                     2\n",
              "Name: marital_status, dtype: int64"
            ]
          },
          "metadata": {},
          "execution_count": 1390
        }
      ]
    },
    {
      "cell_type": "markdown",
      "source": [
        "Married people are the ones with the highest number of bank accounts."
      ],
      "metadata": {
        "id": "WrqdrCYWlcTJ"
      }
    },
    {
      "cell_type": "code",
      "source": [
        "#Looking at the relationship\n",
        "Educuation_bankaccount = bankaccount_dataset.Level_of_Educuation.value_counts()\n",
        "Educuation_bankaccount"
      ],
      "metadata": {
        "colab": {
          "base_uri": "https://localhost:8080/"
        },
        "id": "ePGgsVmol0gy",
        "outputId": "38256019-df57-47a6-caa9-6fc048bb540e"
      },
      "execution_count": 1391,
      "outputs": [
        {
          "output_type": "execute_result",
          "data": {
            "text/plain": [
              "Primary education                  1083\n",
              "Secondary education                 981\n",
              "Tertiary education                  590\n",
              "Vocational/Specialised training     456\n",
              "No formal education                 176\n",
              "Other/Dont know/RTA                   6\n",
              "6                                     5\n",
              "Name: Level_of_Educuation, dtype: int64"
            ]
          },
          "metadata": {},
          "execution_count": 1391
        }
      ]
    },
    {
      "cell_type": "markdown",
      "source": [
        "People who have completed the primary school level are the ones who recorded highest number of having bank accounts."
      ],
      "metadata": {
        "id": "a2nHqWTil_r0"
      }
    },
    {
      "cell_type": "code",
      "source": [
        "#Looking at the relationship\n",
        "Job_bankaccount = bankaccount_dataset.Type_of_Job.value_counts()\n",
        "Job_bankaccount"
      ],
      "metadata": {
        "colab": {
          "base_uri": "https://localhost:8080/"
        },
        "id": "REPUe27wl90y",
        "outputId": "0f780caf-6257-4440-bd8d-f57235ae8a3d"
      },
      "execution_count": 1392,
      "outputs": [
        {
          "output_type": "execute_result",
          "data": {
            "text/plain": [
              "Self employed                   844\n",
              "Farming and Fishing             634\n",
              "Formally employed Private       567\n",
              "Informally employed             440\n",
              "Formally employed Government    299\n",
              "Remittance Dependent            240\n",
              "Other Income                    196\n",
              "Government Dependent             50\n",
              "Dont Know/Refuse to answer       14\n",
              "No Income                        13\n",
              "Name: Type_of_Job, dtype: int64"
            ]
          },
          "metadata": {},
          "execution_count": 1392
        }
      ]
    },
    {
      "cell_type": "markdown",
      "source": [
        "Self employed people are the ones who recorded the highest numbers of having bank accounts."
      ],
      "metadata": {
        "id": "7GtWqhVimZh3"
      }
    },
    {
      "cell_type": "markdown",
      "metadata": {
        "id": "lQ2G4ZPDVOXE"
      },
      "source": [
        "## 8. Challenging the solution"
      ]
    },
    {
      "cell_type": "markdown",
      "metadata": {
        "id": "jWVGKGuiYMWg"
      },
      "source": [
        "> The easy solution is nice because it is, well, easy, but you should never allow those results to hold the day. You should always be thinking of ways to challenge the results, especially if those results comport with your prior expectation.\n",
        "\n",
        "\n",
        "\n",
        "\n"
      ]
    },
    {
      "cell_type": "code",
      "metadata": {
        "id": "j3x3SXZ4XT_L"
      },
      "source": [
        "# Reviewing the Solution \n"
      ],
      "execution_count": null,
      "outputs": []
    },
    {
      "cell_type": "markdown",
      "source": [
        "In this case, I would consider looking at the income of use of the bank accounts."
      ],
      "metadata": {
        "id": "khlGYgg7mnT6"
      }
    },
    {
      "cell_type": "markdown",
      "metadata": {
        "id": "xrmHVMVsVS--"
      },
      "source": [
        "## 9. Follow up questions"
      ]
    },
    {
      "cell_type": "markdown",
      "metadata": {
        "id": "pth2qSWhuBIy"
      },
      "source": [
        "> At this point, we can refine our question or collect new data, all in an iterative process to get at the truth.\n",
        "\n"
      ]
    },
    {
      "cell_type": "markdown",
      "metadata": {
        "id": "HPQviDmNtta8"
      },
      "source": [
        "### a). Did we have the right data?"
      ]
    },
    {
      "cell_type": "markdown",
      "source": [
        "Yes"
      ],
      "metadata": {
        "id": "x9hLxxddmvJ4"
      }
    },
    {
      "cell_type": "markdown",
      "metadata": {
        "id": "qjFHK1CKty7o"
      },
      "source": [
        "### b). Do we need other data to answer our question?"
      ]
    },
    {
      "cell_type": "markdown",
      "source": [
        "We could have added the income of the respondents and the main use of the bank accounts."
      ],
      "metadata": {
        "id": "v-VMRVeRmwy8"
      }
    },
    {
      "cell_type": "markdown",
      "metadata": {
        "id": "HSsicSdvt4Zs"
      },
      "source": [
        "### c). Did we have the right question?"
      ]
    },
    {
      "cell_type": "markdown",
      "source": [
        "Yes"
      ],
      "metadata": {
        "id": "6acpgdjFm9n9"
      }
    },
    {
      "cell_type": "code",
      "source": [
        ""
      ],
      "metadata": {
        "id": "is1eNP74m-a0"
      },
      "execution_count": null,
      "outputs": []
    }
  ]
}